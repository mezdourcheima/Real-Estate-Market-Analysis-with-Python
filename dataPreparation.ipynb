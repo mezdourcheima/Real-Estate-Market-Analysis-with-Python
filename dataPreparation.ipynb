{
  "cells": [
    {
      "cell_type": "markdown",
      "metadata": {
        "id": "lBM7saSgsfyH"
      },
      "source": [
        "# Real Estate Market Analysis with Python Project"
      ]
    },
    {
      "cell_type": "markdown",
      "metadata": {
        "id": "U-WS718OsfyK"
      },
      "source": [
        "##### Imports"
      ]
    },
    {
      "cell_type": "code",
      "execution_count": 282,
      "metadata": {
        "id": "C7uDE3Z-sfyK"
      },
      "outputs": [],
      "source": [
        "import pandas as pd\n",
        "import missingno as msno \n",
        "from sklearn.preprocessing import LabelEncoder"
      ]
    },
    {
      "cell_type": "code",
      "execution_count": 283,
      "metadata": {
        "id": "_5Mv9mtEsfyL"
      },
      "outputs": [],
      "source": [
        "customers = pd.read_csv('customers.csv')\n",
        "properties = pd.read_csv('properties.csv')"
      ]
    },
    {
      "cell_type": "code",
      "execution_count": 284,
      "metadata": {
        "colab": {
          "base_uri": "https://localhost:8080/",
          "height": 241
        },
        "id": "jVeEvqbHsfyL",
        "outputId": "43b9870d-1eec-4c5d-f85d-ce91a6aa1758"
      },
      "outputs": [
        {
          "data": {
            "text/html": [
              "<div>\n",
              "<style scoped>\n",
              "    .dataframe tbody tr th:only-of-type {\n",
              "        vertical-align: middle;\n",
              "    }\n",
              "\n",
              "    .dataframe tbody tr th {\n",
              "        vertical-align: top;\n",
              "    }\n",
              "\n",
              "    .dataframe thead th {\n",
              "        text-align: right;\n",
              "    }\n",
              "</style>\n",
              "<table border=\"1\" class=\"dataframe\">\n",
              "  <thead>\n",
              "    <tr style=\"text-align: right;\">\n",
              "      <th></th>\n",
              "      <th>Unnamed: 0</th>\n",
              "      <th>﻿customerid</th>\n",
              "      <th>entity</th>\n",
              "      <th>name</th>\n",
              "      <th>surname</th>\n",
              "      <th>birth_date</th>\n",
              "      <th>sex</th>\n",
              "      <th>country</th>\n",
              "      <th>state</th>\n",
              "      <th>purpose</th>\n",
              "      <th>deal_satisfaction</th>\n",
              "      <th>mortgage</th>\n",
              "      <th>source</th>\n",
              "    </tr>\n",
              "  </thead>\n",
              "  <tbody>\n",
              "    <tr>\n",
              "      <th>0</th>\n",
              "      <td>0</td>\n",
              "      <td>C0110</td>\n",
              "      <td>Individual</td>\n",
              "      <td>Kareem</td>\n",
              "      <td>Liu</td>\n",
              "      <td>5/11/1968</td>\n",
              "      <td>F</td>\n",
              "      <td>USA</td>\n",
              "      <td>California</td>\n",
              "      <td>Home</td>\n",
              "      <td>4</td>\n",
              "      <td>Yes</td>\n",
              "      <td>Website</td>\n",
              "    </tr>\n",
              "    <tr>\n",
              "      <th>1</th>\n",
              "      <td>1</td>\n",
              "      <td>C0010</td>\n",
              "      <td>Individual</td>\n",
              "      <td>Trystan</td>\n",
              "      <td>Oconnor</td>\n",
              "      <td>11/26/1962</td>\n",
              "      <td>M</td>\n",
              "      <td>USA</td>\n",
              "      <td>California</td>\n",
              "      <td>Home</td>\n",
              "      <td>1</td>\n",
              "      <td>No</td>\n",
              "      <td>Website</td>\n",
              "    </tr>\n",
              "    <tr>\n",
              "      <th>2</th>\n",
              "      <td>2</td>\n",
              "      <td>C0132</td>\n",
              "      <td>Individual</td>\n",
              "      <td>Kale</td>\n",
              "      <td>Gay</td>\n",
              "      <td>4/7/1959</td>\n",
              "      <td>M</td>\n",
              "      <td>USA</td>\n",
              "      <td>California</td>\n",
              "      <td>Home</td>\n",
              "      <td>4</td>\n",
              "      <td>Yes</td>\n",
              "      <td>Agency</td>\n",
              "    </tr>\n",
              "    <tr>\n",
              "      <th>3</th>\n",
              "      <td>3</td>\n",
              "      <td>C0137</td>\n",
              "      <td>Individual</td>\n",
              "      <td>Russell</td>\n",
              "      <td>Gross</td>\n",
              "      <td>11/25/1959</td>\n",
              "      <td>M</td>\n",
              "      <td>USA</td>\n",
              "      <td>California</td>\n",
              "      <td>Home</td>\n",
              "      <td>5</td>\n",
              "      <td>No</td>\n",
              "      <td>Website</td>\n",
              "    </tr>\n",
              "    <tr>\n",
              "      <th>4</th>\n",
              "      <td>4</td>\n",
              "      <td>C0174</td>\n",
              "      <td>Company</td>\n",
              "      <td>Marleez</td>\n",
              "      <td>Co</td>\n",
              "      <td>NaN</td>\n",
              "      <td>NaN</td>\n",
              "      <td>USA</td>\n",
              "      <td>California</td>\n",
              "      <td>Investment</td>\n",
              "      <td>5</td>\n",
              "      <td>No</td>\n",
              "      <td>Website</td>\n",
              "    </tr>\n",
              "    <tr>\n",
              "      <th>5</th>\n",
              "      <td>5</td>\n",
              "      <td>C0088</td>\n",
              "      <td>Individual</td>\n",
              "      <td>Yurem</td>\n",
              "      <td>Wright</td>\n",
              "      <td>3/6/1957</td>\n",
              "      <td>M</td>\n",
              "      <td>USA</td>\n",
              "      <td>California</td>\n",
              "      <td>Home</td>\n",
              "      <td>3</td>\n",
              "      <td>Yes</td>\n",
              "      <td>Website</td>\n",
              "    </tr>\n",
              "    <tr>\n",
              "      <th>6</th>\n",
              "      <td>6</td>\n",
              "      <td>C0079</td>\n",
              "      <td>Individual</td>\n",
              "      <td>Xavier</td>\n",
              "      <td>Faulkner</td>\n",
              "      <td>5/24/1947</td>\n",
              "      <td>M</td>\n",
              "      <td>Canada</td>\n",
              "      <td>NaN</td>\n",
              "      <td>Investment</td>\n",
              "      <td>5</td>\n",
              "      <td>No</td>\n",
              "      <td>Website</td>\n",
              "    </tr>\n",
              "    <tr>\n",
              "      <th>7</th>\n",
              "      <td>7</td>\n",
              "      <td>C0149</td>\n",
              "      <td>Individual</td>\n",
              "      <td>Kayden</td>\n",
              "      <td>Olsen</td>\n",
              "      <td>10/17/1969</td>\n",
              "      <td>F</td>\n",
              "      <td>USA</td>\n",
              "      <td>California</td>\n",
              "      <td>Home</td>\n",
              "      <td>5</td>\n",
              "      <td>No</td>\n",
              "      <td>Website</td>\n",
              "    </tr>\n",
              "    <tr>\n",
              "      <th>8</th>\n",
              "      <td>8</td>\n",
              "      <td>C0064</td>\n",
              "      <td>Individual</td>\n",
              "      <td>Joaquin</td>\n",
              "      <td>Mullins</td>\n",
              "      <td>10/5/1975</td>\n",
              "      <td>M</td>\n",
              "      <td>USA</td>\n",
              "      <td>California</td>\n",
              "      <td>Investment</td>\n",
              "      <td>5</td>\n",
              "      <td>No</td>\n",
              "      <td>Agency</td>\n",
              "    </tr>\n",
              "    <tr>\n",
              "      <th>9</th>\n",
              "      <td>9</td>\n",
              "      <td>C0068</td>\n",
              "      <td>Individual</td>\n",
              "      <td>Nicolas</td>\n",
              "      <td>Navarro</td>\n",
              "      <td>6/17/1966</td>\n",
              "      <td>M</td>\n",
              "      <td>USA</td>\n",
              "      <td>Oregon</td>\n",
              "      <td>Investment</td>\n",
              "      <td>3</td>\n",
              "      <td>No</td>\n",
              "      <td>Agency</td>\n",
              "    </tr>\n",
              "    <tr>\n",
              "      <th>10</th>\n",
              "      <td>10</td>\n",
              "      <td>C0006</td>\n",
              "      <td>Individual</td>\n",
              "      <td>Laci</td>\n",
              "      <td>Guerra</td>\n",
              "      <td>6/17/1956</td>\n",
              "      <td>F</td>\n",
              "      <td>USA</td>\n",
              "      <td>California</td>\n",
              "      <td>Home</td>\n",
              "      <td>2</td>\n",
              "      <td>Yes</td>\n",
              "      <td>Website</td>\n",
              "    </tr>\n",
              "    <tr>\n",
              "      <th>11</th>\n",
              "      <td>11</td>\n",
              "      <td>C0055</td>\n",
              "      <td>Company</td>\n",
              "      <td>Kylax</td>\n",
              "      <td>Co</td>\n",
              "      <td>NaN</td>\n",
              "      <td>NaN</td>\n",
              "      <td>USA</td>\n",
              "      <td>California</td>\n",
              "      <td>Investment</td>\n",
              "      <td>5</td>\n",
              "      <td>No</td>\n",
              "      <td>Website</td>\n",
              "    </tr>\n",
              "    <tr>\n",
              "      <th>12</th>\n",
              "      <td>12</td>\n",
              "      <td>C0016</td>\n",
              "      <td>Individual</td>\n",
              "      <td>Harley</td>\n",
              "      <td>Lucero</td>\n",
              "      <td>8/10/1962</td>\n",
              "      <td>M</td>\n",
              "      <td>USA</td>\n",
              "      <td>California</td>\n",
              "      <td>Home</td>\n",
              "      <td>1</td>\n",
              "      <td>Yes</td>\n",
              "      <td>Website</td>\n",
              "    </tr>\n",
              "    <tr>\n",
              "      <th>13</th>\n",
              "      <td>13</td>\n",
              "      <td>C0121</td>\n",
              "      <td>Company</td>\n",
              "      <td>Esther</td>\n",
              "      <td>Co</td>\n",
              "      <td>NaN</td>\n",
              "      <td>NaN</td>\n",
              "      <td>USA</td>\n",
              "      <td>California</td>\n",
              "      <td>Home</td>\n",
              "      <td>3</td>\n",
              "      <td>Yes</td>\n",
              "      <td>Website</td>\n",
              "    </tr>\n",
              "    <tr>\n",
              "      <th>14</th>\n",
              "      <td>14</td>\n",
              "      <td>C0074</td>\n",
              "      <td>Individual</td>\n",
              "      <td>Jaylynn</td>\n",
              "      <td>Hickman</td>\n",
              "      <td>8/19/1941</td>\n",
              "      <td>F</td>\n",
              "      <td>USA</td>\n",
              "      <td>California</td>\n",
              "      <td>Home</td>\n",
              "      <td>5</td>\n",
              "      <td>No</td>\n",
              "      <td>Client</td>\n",
              "    </tr>\n",
              "    <tr>\n",
              "      <th>15</th>\n",
              "      <td>15</td>\n",
              "      <td>C0032</td>\n",
              "      <td>Individual</td>\n",
              "      <td>Olivia</td>\n",
              "      <td>Oconnell</td>\n",
              "      <td>9/3/1939</td>\n",
              "      <td>F</td>\n",
              "      <td>USA</td>\n",
              "      <td>California</td>\n",
              "      <td>Investment</td>\n",
              "      <td>5</td>\n",
              "      <td>No</td>\n",
              "      <td>Website</td>\n",
              "    </tr>\n",
              "    <tr>\n",
              "      <th>16</th>\n",
              "      <td>16</td>\n",
              "      <td>C0093</td>\n",
              "      <td>Individual</td>\n",
              "      <td>Antonio</td>\n",
              "      <td>Porter</td>\n",
              "      <td>1/8/1977</td>\n",
              "      <td>M</td>\n",
              "      <td>USA</td>\n",
              "      <td>Arizona</td>\n",
              "      <td>Home</td>\n",
              "      <td>3</td>\n",
              "      <td>No</td>\n",
              "      <td>Client</td>\n",
              "    </tr>\n",
              "    <tr>\n",
              "      <th>17</th>\n",
              "      <td>17</td>\n",
              "      <td>C0076</td>\n",
              "      <td>Individual</td>\n",
              "      <td>Luke</td>\n",
              "      <td>Lynn</td>\n",
              "      <td>2/7/1967</td>\n",
              "      <td>M</td>\n",
              "      <td>USA</td>\n",
              "      <td>California</td>\n",
              "      <td>Home</td>\n",
              "      <td>2</td>\n",
              "      <td>Yes</td>\n",
              "      <td>Agency</td>\n",
              "    </tr>\n",
              "    <tr>\n",
              "      <th>18</th>\n",
              "      <td>18</td>\n",
              "      <td>C0165</td>\n",
              "      <td>Individual</td>\n",
              "      <td>Anahi</td>\n",
              "      <td>Curry</td>\n",
              "      <td>9/9/1957</td>\n",
              "      <td>M</td>\n",
              "      <td>USA</td>\n",
              "      <td>California</td>\n",
              "      <td>Home</td>\n",
              "      <td>5</td>\n",
              "      <td>Yes</td>\n",
              "      <td>Client</td>\n",
              "    </tr>\n",
              "    <tr>\n",
              "      <th>19</th>\n",
              "      <td>19</td>\n",
              "      <td>C0153</td>\n",
              "      <td>Individual</td>\n",
              "      <td>Camille</td>\n",
              "      <td>Sharp</td>\n",
              "      <td>10/17/1967</td>\n",
              "      <td>F</td>\n",
              "      <td>USA</td>\n",
              "      <td>California</td>\n",
              "      <td>Home</td>\n",
              "      <td>5</td>\n",
              "      <td>No</td>\n",
              "      <td>Website</td>\n",
              "    </tr>\n",
              "    <tr>\n",
              "      <th>20</th>\n",
              "      <td>20</td>\n",
              "      <td>C0129</td>\n",
              "      <td>Individual</td>\n",
              "      <td>Jesus</td>\n",
              "      <td>Obrien</td>\n",
              "      <td>6/9/1938</td>\n",
              "      <td>M</td>\n",
              "      <td>USA</td>\n",
              "      <td>Oregon</td>\n",
              "      <td>Investment</td>\n",
              "      <td>3</td>\n",
              "      <td>No</td>\n",
              "      <td>Website</td>\n",
              "    </tr>\n",
              "    <tr>\n",
              "      <th>21</th>\n",
              "      <td>21</td>\n",
              "      <td>C0162</td>\n",
              "      <td>Individual</td>\n",
              "      <td>Araceli</td>\n",
              "      <td>Nelson</td>\n",
              "      <td>9/14/1966</td>\n",
              "      <td>M</td>\n",
              "      <td>Germany</td>\n",
              "      <td>California</td>\n",
              "      <td>Investment</td>\n",
              "      <td>5</td>\n",
              "      <td>No</td>\n",
              "      <td>Agency</td>\n",
              "    </tr>\n",
              "    <tr>\n",
              "      <th>22</th>\n",
              "      <td>22</td>\n",
              "      <td>C0071</td>\n",
              "      <td>Individual</td>\n",
              "      <td>Cole</td>\n",
              "      <td>Taylor</td>\n",
              "      <td>12/6/1958</td>\n",
              "      <td>M</td>\n",
              "      <td>USA</td>\n",
              "      <td>California</td>\n",
              "      <td>Home</td>\n",
              "      <td>3</td>\n",
              "      <td>Yes</td>\n",
              "      <td>Website</td>\n",
              "    </tr>\n",
              "    <tr>\n",
              "      <th>23</th>\n",
              "      <td>23</td>\n",
              "      <td>C0069</td>\n",
              "      <td>Individual</td>\n",
              "      <td>Alonso</td>\n",
              "      <td>Terrell</td>\n",
              "      <td>11/5/1963</td>\n",
              "      <td>M</td>\n",
              "      <td>USA</td>\n",
              "      <td>California</td>\n",
              "      <td>Investment</td>\n",
              "      <td>4</td>\n",
              "      <td>No</td>\n",
              "      <td>Website</td>\n",
              "    </tr>\n",
              "    <tr>\n",
              "      <th>24</th>\n",
              "      <td>24</td>\n",
              "      <td>C0005</td>\n",
              "      <td>Individual</td>\n",
              "      <td>Rodolfo</td>\n",
              "      <td>Gibson</td>\n",
              "      <td>1/20/1937</td>\n",
              "      <td>M</td>\n",
              "      <td>USA</td>\n",
              "      <td>Nevada</td>\n",
              "      <td>Home</td>\n",
              "      <td>2</td>\n",
              "      <td>Yes</td>\n",
              "      <td>Website</td>\n",
              "    </tr>\n",
              "    <tr>\n",
              "      <th>25</th>\n",
              "      <td>25</td>\n",
              "      <td>C0144</td>\n",
              "      <td>Individual</td>\n",
              "      <td>Joseph</td>\n",
              "      <td>Reeves</td>\n",
              "      <td>9/23/1962</td>\n",
              "      <td>M</td>\n",
              "      <td>USA</td>\n",
              "      <td>California</td>\n",
              "      <td>Investment</td>\n",
              "      <td>5</td>\n",
              "      <td>No</td>\n",
              "      <td>Website</td>\n",
              "    </tr>\n",
              "    <tr>\n",
              "      <th>26</th>\n",
              "      <td>26</td>\n",
              "      <td>C0020</td>\n",
              "      <td>Individual</td>\n",
              "      <td>Grant</td>\n",
              "      <td>Weber</td>\n",
              "      <td>9/8/1968</td>\n",
              "      <td>M</td>\n",
              "      <td>USA</td>\n",
              "      <td>California</td>\n",
              "      <td>Home</td>\n",
              "      <td>5</td>\n",
              "      <td>Yes</td>\n",
              "      <td>Website</td>\n",
              "    </tr>\n",
              "    <tr>\n",
              "      <th>27</th>\n",
              "      <td>27</td>\n",
              "      <td>C0101</td>\n",
              "      <td>Individual</td>\n",
              "      <td>Ava</td>\n",
              "      <td>Phelps</td>\n",
              "      <td>4/15/1958</td>\n",
              "      <td>F</td>\n",
              "      <td>USA</td>\n",
              "      <td>California</td>\n",
              "      <td>Home</td>\n",
              "      <td>3</td>\n",
              "      <td>No</td>\n",
              "      <td>Client</td>\n",
              "    </tr>\n",
              "    <tr>\n",
              "      <th>28</th>\n",
              "      <td>28</td>\n",
              "      <td>C0128</td>\n",
              "      <td>Individual</td>\n",
              "      <td>Kyla</td>\n",
              "      <td>Walker</td>\n",
              "      <td>2/26/1976</td>\n",
              "      <td>F</td>\n",
              "      <td>USA</td>\n",
              "      <td>Colorado</td>\n",
              "      <td>Home</td>\n",
              "      <td>4</td>\n",
              "      <td>Yes</td>\n",
              "      <td>Agency</td>\n",
              "    </tr>\n",
              "    <tr>\n",
              "      <th>29</th>\n",
              "      <td>29</td>\n",
              "      <td>C0033</td>\n",
              "      <td>Individual</td>\n",
              "      <td>Alanna</td>\n",
              "      <td>Hess</td>\n",
              "      <td>6/19/1952</td>\n",
              "      <td>F</td>\n",
              "      <td>USA</td>\n",
              "      <td>Nevada</td>\n",
              "      <td>Home</td>\n",
              "      <td>3</td>\n",
              "      <td>No</td>\n",
              "      <td>Website</td>\n",
              "    </tr>\n",
              "    <tr>\n",
              "      <th>30</th>\n",
              "      <td>30</td>\n",
              "      <td>C0171</td>\n",
              "      <td>Individual</td>\n",
              "      <td>Skylar</td>\n",
              "      <td>Buchanan</td>\n",
              "      <td>12/25/1977</td>\n",
              "      <td>M</td>\n",
              "      <td>USA</td>\n",
              "      <td>Nevada</td>\n",
              "      <td>Home</td>\n",
              "      <td>4</td>\n",
              "      <td>Yes</td>\n",
              "      <td>Website</td>\n",
              "    </tr>\n",
              "    <tr>\n",
              "      <th>31</th>\n",
              "      <td>31</td>\n",
              "      <td>C0095</td>\n",
              "      <td>Individual</td>\n",
              "      <td>Rodrigo</td>\n",
              "      <td>Robinson</td>\n",
              "      <td>8/11/1966</td>\n",
              "      <td>M</td>\n",
              "      <td>USA</td>\n",
              "      <td>California</td>\n",
              "      <td>Home</td>\n",
              "      <td>4</td>\n",
              "      <td>No</td>\n",
              "      <td>Website</td>\n",
              "    </tr>\n",
              "    <tr>\n",
              "      <th>32</th>\n",
              "      <td>32</td>\n",
              "      <td>C0123</td>\n",
              "      <td>Individual</td>\n",
              "      <td>Lydia</td>\n",
              "      <td>Tate</td>\n",
              "      <td>8/14/1968</td>\n",
              "      <td>F</td>\n",
              "      <td>USA</td>\n",
              "      <td>California</td>\n",
              "      <td>Home</td>\n",
              "      <td>3</td>\n",
              "      <td>Yes</td>\n",
              "      <td>Website</td>\n",
              "    </tr>\n",
              "    <tr>\n",
              "      <th>33</th>\n",
              "      <td>33</td>\n",
              "      <td>C0015</td>\n",
              "      <td>Individual</td>\n",
              "      <td>Lauryn</td>\n",
              "      <td>Patrick</td>\n",
              "      <td>10/30/1969</td>\n",
              "      <td>F</td>\n",
              "      <td>Belgium</td>\n",
              "      <td>NaN</td>\n",
              "      <td>Home</td>\n",
              "      <td>2</td>\n",
              "      <td>No</td>\n",
              "      <td>Agency</td>\n",
              "    </tr>\n",
              "    <tr>\n",
              "      <th>34</th>\n",
              "      <td>34</td>\n",
              "      <td>C0084</td>\n",
              "      <td>Individual</td>\n",
              "      <td>Diego</td>\n",
              "      <td>Mendez</td>\n",
              "      <td>5/12/1965</td>\n",
              "      <td>M</td>\n",
              "      <td>Mexico</td>\n",
              "      <td>NaN</td>\n",
              "      <td>Home</td>\n",
              "      <td>3</td>\n",
              "      <td>No</td>\n",
              "      <td>Agency</td>\n",
              "    </tr>\n",
              "    <tr>\n",
              "      <th>35</th>\n",
              "      <td>35</td>\n",
              "      <td>C0019</td>\n",
              "      <td>Individual</td>\n",
              "      <td>Victor</td>\n",
              "      <td>Jensen</td>\n",
              "      <td>9/1/1973</td>\n",
              "      <td>M</td>\n",
              "      <td>USA</td>\n",
              "      <td>California</td>\n",
              "      <td>Home</td>\n",
              "      <td>4</td>\n",
              "      <td>No</td>\n",
              "      <td>Website</td>\n",
              "    </tr>\n",
              "    <tr>\n",
              "      <th>36</th>\n",
              "      <td>36</td>\n",
              "      <td>C0053</td>\n",
              "      <td>Individual</td>\n",
              "      <td>Scarlet</td>\n",
              "      <td>Hendricks</td>\n",
              "      <td>1/20/1962</td>\n",
              "      <td>F</td>\n",
              "      <td>USA</td>\n",
              "      <td>California</td>\n",
              "      <td>Home</td>\n",
              "      <td>5</td>\n",
              "      <td>Yes</td>\n",
              "      <td>Website</td>\n",
              "    </tr>\n",
              "    <tr>\n",
              "      <th>37</th>\n",
              "      <td>37</td>\n",
              "      <td>C0080</td>\n",
              "      <td>Individual</td>\n",
              "      <td>Janelle</td>\n",
              "      <td>Espinoza</td>\n",
              "      <td>12/25/1974</td>\n",
              "      <td>F</td>\n",
              "      <td>USA</td>\n",
              "      <td>California</td>\n",
              "      <td>Investment</td>\n",
              "      <td>4</td>\n",
              "      <td>No</td>\n",
              "      <td>Client</td>\n",
              "    </tr>\n",
              "    <tr>\n",
              "      <th>38</th>\n",
              "      <td>38</td>\n",
              "      <td>C0070</td>\n",
              "      <td>Individual</td>\n",
              "      <td>Aleksandra</td>\n",
              "      <td>Karenina</td>\n",
              "      <td>6/13/1967</td>\n",
              "      <td>F</td>\n",
              "      <td>Russia</td>\n",
              "      <td>NaN</td>\n",
              "      <td>Home</td>\n",
              "      <td>1</td>\n",
              "      <td>No</td>\n",
              "      <td>Agency</td>\n",
              "    </tr>\n",
              "    <tr>\n",
              "      <th>39</th>\n",
              "      <td>39</td>\n",
              "      <td>C0051</td>\n",
              "      <td>Individual</td>\n",
              "      <td>Conner</td>\n",
              "      <td>Huff</td>\n",
              "      <td>3/22/1975</td>\n",
              "      <td>M</td>\n",
              "      <td>USA</td>\n",
              "      <td>Nevada</td>\n",
              "      <td>Home</td>\n",
              "      <td>5</td>\n",
              "      <td>No</td>\n",
              "      <td>Website</td>\n",
              "    </tr>\n",
              "  </tbody>\n",
              "</table>\n",
              "</div>"
            ],
            "text/plain": [
              "    Unnamed: 0 ﻿customerid      entity        name    surname  birth_date   \n",
              "0            0       C0110  Individual      Kareem        Liu   5/11/1968  \\\n",
              "1            1       C0010  Individual     Trystan    Oconnor  11/26/1962   \n",
              "2            2       C0132  Individual        Kale        Gay    4/7/1959   \n",
              "3            3       C0137  Individual     Russell      Gross  11/25/1959   \n",
              "4            4       C0174     Company     Marleez         Co         NaN   \n",
              "5            5       C0088  Individual       Yurem     Wright    3/6/1957   \n",
              "6            6       C0079  Individual      Xavier   Faulkner   5/24/1947   \n",
              "7            7       C0149  Individual      Kayden      Olsen  10/17/1969   \n",
              "8            8       C0064  Individual     Joaquin    Mullins   10/5/1975   \n",
              "9            9       C0068  Individual     Nicolas    Navarro   6/17/1966   \n",
              "10          10       C0006  Individual        Laci     Guerra   6/17/1956   \n",
              "11          11       C0055     Company       Kylax         Co         NaN   \n",
              "12          12       C0016  Individual      Harley     Lucero   8/10/1962   \n",
              "13          13       C0121     Company      Esther         Co         NaN   \n",
              "14          14       C0074  Individual     Jaylynn    Hickman   8/19/1941   \n",
              "15          15       C0032  Individual      Olivia   Oconnell    9/3/1939   \n",
              "16          16       C0093  Individual     Antonio     Porter    1/8/1977   \n",
              "17          17       C0076  Individual        Luke       Lynn    2/7/1967   \n",
              "18          18       C0165  Individual       Anahi      Curry    9/9/1957   \n",
              "19          19       C0153  Individual     Camille      Sharp  10/17/1967   \n",
              "20          20       C0129  Individual       Jesus     Obrien    6/9/1938   \n",
              "21          21       C0162  Individual     Araceli     Nelson   9/14/1966   \n",
              "22          22       C0071  Individual        Cole     Taylor   12/6/1958   \n",
              "23          23       C0069  Individual      Alonso    Terrell   11/5/1963   \n",
              "24          24       C0005  Individual     Rodolfo     Gibson   1/20/1937   \n",
              "25          25       C0144  Individual      Joseph     Reeves   9/23/1962   \n",
              "26          26       C0020  Individual       Grant      Weber    9/8/1968   \n",
              "27          27       C0101  Individual         Ava     Phelps   4/15/1958   \n",
              "28          28       C0128  Individual        Kyla     Walker   2/26/1976   \n",
              "29          29       C0033  Individual      Alanna       Hess   6/19/1952   \n",
              "30          30       C0171  Individual      Skylar   Buchanan  12/25/1977   \n",
              "31          31       C0095  Individual     Rodrigo   Robinson   8/11/1966   \n",
              "32          32       C0123  Individual       Lydia       Tate   8/14/1968   \n",
              "33          33       C0015  Individual      Lauryn    Patrick  10/30/1969   \n",
              "34          34       C0084  Individual       Diego     Mendez   5/12/1965   \n",
              "35          35       C0019  Individual      Victor     Jensen    9/1/1973   \n",
              "36          36       C0053  Individual     Scarlet  Hendricks   1/20/1962   \n",
              "37          37       C0080  Individual     Janelle   Espinoza  12/25/1974   \n",
              "38          38       C0070  Individual  Aleksandra   Karenina   6/13/1967   \n",
              "39          39       C0051  Individual      Conner       Huff   3/22/1975   \n",
              "\n",
              "    sex  country       state     purpose  deal_satisfaction mortgage   source  \n",
              "0     F      USA  California        Home                  4      Yes  Website  \n",
              "1     M      USA  California        Home                  1       No  Website  \n",
              "2     M      USA  California        Home                  4      Yes   Agency  \n",
              "3     M      USA  California        Home                  5       No  Website  \n",
              "4   NaN     USA   California  Investment                  5       No  Website  \n",
              "5     M      USA  California        Home                  3      Yes  Website  \n",
              "6     M   Canada         NaN  Investment                  5       No  Website  \n",
              "7     F      USA  California        Home                  5       No  Website  \n",
              "8     M      USA  California  Investment                  5       No   Agency  \n",
              "9     M      USA      Oregon  Investment                  3       No   Agency  \n",
              "10    F      USA  California        Home                  2      Yes  Website  \n",
              "11  NaN      USA  California  Investment                  5       No  Website  \n",
              "12    M      USA  California        Home                  1      Yes  Website  \n",
              "13  NaN      USA  California        Home                  3      Yes  Website  \n",
              "14    F      USA  California        Home                  5       No   Client  \n",
              "15    F      USA  California  Investment                  5       No  Website  \n",
              "16    M      USA     Arizona        Home                  3       No   Client  \n",
              "17    M      USA  California        Home                  2      Yes   Agency  \n",
              "18    M      USA  California        Home                  5      Yes   Client  \n",
              "19    F      USA  California        Home                  5       No  Website  \n",
              "20    M      USA      Oregon  Investment                  3       No  Website  \n",
              "21    M  Germany  California  Investment                  5       No   Agency  \n",
              "22    M      USA  California        Home                  3      Yes  Website  \n",
              "23    M      USA  California  Investment                  4       No  Website  \n",
              "24    M      USA      Nevada        Home                  2      Yes  Website  \n",
              "25    M      USA  California  Investment                  5       No  Website  \n",
              "26    M      USA  California        Home                  5      Yes  Website  \n",
              "27    F      USA  California        Home                  3       No   Client  \n",
              "28    F      USA    Colorado        Home                  4      Yes   Agency  \n",
              "29    F      USA      Nevada        Home                  3       No  Website  \n",
              "30    M      USA      Nevada        Home                  4      Yes  Website  \n",
              "31    M      USA  California        Home                  4       No  Website  \n",
              "32    F      USA  California        Home                  3      Yes  Website  \n",
              "33    F  Belgium         NaN        Home                  2       No   Agency  \n",
              "34    M   Mexico         NaN        Home                  3       No   Agency  \n",
              "35    M      USA  California        Home                  4       No  Website  \n",
              "36    F      USA  California        Home                  5      Yes  Website  \n",
              "37    F      USA  California  Investment                  4       No   Client  \n",
              "38    F   Russia         NaN        Home                  1       No   Agency  \n",
              "39    M      USA      Nevada        Home                  5       No  Website  "
            ]
          },
          "execution_count": 284,
          "metadata": {},
          "output_type": "execute_result"
        }
      ],
      "source": [
        "customers.head(40)"
      ]
    },
    {
      "cell_type": "code",
      "execution_count": 285,
      "metadata": {
        "colab": {
          "base_uri": "https://localhost:8080/"
        },
        "id": "UKtSEJ8ju23I",
        "outputId": "817fd351-77a1-4919-fab7-3385bf697668"
      },
      "outputs": [
        {
          "name": "stdout",
          "output_type": "stream",
          "text": [
            "Index(['Unnamed: 0', '﻿customerid', 'entity', 'name', 'surname', 'birth_date',\n",
            "       'sex', 'country', 'state', 'purpose', 'deal_satisfaction', 'mortgage',\n",
            "       'source'],\n",
            "      dtype='object')\n"
          ]
        }
      ],
      "source": [
        "print(customers.columns)\n"
      ]
    },
    {
      "cell_type": "code",
      "execution_count": 286,
      "metadata": {
        "colab": {
          "base_uri": "https://localhost:8080/"
        },
        "id": "pcPqknotsfyN",
        "outputId": "e97dd9dd-030d-49a7-e1bb-5bebe1111fea"
      },
      "outputs": [
        {
          "name": "stdout",
          "output_type": "stream",
          "text": [
            "<class 'pandas.core.frame.DataFrame'>\n",
            "RangeIndex: 162 entries, 0 to 161\n",
            "Data columns (total 13 columns):\n",
            " #   Column             Non-Null Count  Dtype \n",
            "---  ------             --------------  ----- \n",
            " 0   Unnamed: 0         162 non-null    int64 \n",
            " 1   ﻿customerid        162 non-null    object\n",
            " 2   entity             162 non-null    object\n",
            " 3   name               162 non-null    object\n",
            " 4   surname            162 non-null    object\n",
            " 5   birth_date         155 non-null    object\n",
            " 6   sex                155 non-null    object\n",
            " 7   country            162 non-null    object\n",
            " 8   state              154 non-null    object\n",
            " 9   purpose            162 non-null    object\n",
            " 10  deal_satisfaction  162 non-null    int64 \n",
            " 11  mortgage           162 non-null    object\n",
            " 12  source             162 non-null    object\n",
            "dtypes: int64(2), object(11)\n",
            "memory usage: 16.6+ KB\n"
          ]
        }
      ],
      "source": [
        "customers.info()"
      ]
    },
    {
      "cell_type": "code",
      "execution_count": 287,
      "metadata": {
        "colab": {
          "base_uri": "https://localhost:8080/",
          "height": 297
        },
        "id": "gPnpcT4EsfyN",
        "outputId": "a4024f16-1734-485b-928c-4e5aa56fc661"
      },
      "outputs": [
        {
          "data": {
            "text/html": [
              "<div>\n",
              "<style scoped>\n",
              "    .dataframe tbody tr th:only-of-type {\n",
              "        vertical-align: middle;\n",
              "    }\n",
              "\n",
              "    .dataframe tbody tr th {\n",
              "        vertical-align: top;\n",
              "    }\n",
              "\n",
              "    .dataframe thead th {\n",
              "        text-align: right;\n",
              "    }\n",
              "</style>\n",
              "<table border=\"1\" class=\"dataframe\">\n",
              "  <thead>\n",
              "    <tr style=\"text-align: right;\">\n",
              "      <th></th>\n",
              "      <th>Unnamed: 0</th>\n",
              "      <th>deal_satisfaction</th>\n",
              "    </tr>\n",
              "  </thead>\n",
              "  <tbody>\n",
              "    <tr>\n",
              "      <th>count</th>\n",
              "      <td>162.000000</td>\n",
              "      <td>162.000000</td>\n",
              "    </tr>\n",
              "    <tr>\n",
              "      <th>mean</th>\n",
              "      <td>80.500000</td>\n",
              "      <td>3.456790</td>\n",
              "    </tr>\n",
              "    <tr>\n",
              "      <th>std</th>\n",
              "      <td>46.909487</td>\n",
              "      <td>1.333276</td>\n",
              "    </tr>\n",
              "    <tr>\n",
              "      <th>min</th>\n",
              "      <td>0.000000</td>\n",
              "      <td>1.000000</td>\n",
              "    </tr>\n",
              "    <tr>\n",
              "      <th>25%</th>\n",
              "      <td>40.250000</td>\n",
              "      <td>3.000000</td>\n",
              "    </tr>\n",
              "    <tr>\n",
              "      <th>50%</th>\n",
              "      <td>80.500000</td>\n",
              "      <td>4.000000</td>\n",
              "    </tr>\n",
              "    <tr>\n",
              "      <th>75%</th>\n",
              "      <td>120.750000</td>\n",
              "      <td>5.000000</td>\n",
              "    </tr>\n",
              "    <tr>\n",
              "      <th>max</th>\n",
              "      <td>161.000000</td>\n",
              "      <td>5.000000</td>\n",
              "    </tr>\n",
              "  </tbody>\n",
              "</table>\n",
              "</div>"
            ],
            "text/plain": [
              "       Unnamed: 0  deal_satisfaction\n",
              "count  162.000000         162.000000\n",
              "mean    80.500000           3.456790\n",
              "std     46.909487           1.333276\n",
              "min      0.000000           1.000000\n",
              "25%     40.250000           3.000000\n",
              "50%     80.500000           4.000000\n",
              "75%    120.750000           5.000000\n",
              "max    161.000000           5.000000"
            ]
          },
          "execution_count": 287,
          "metadata": {},
          "output_type": "execute_result"
        }
      ],
      "source": [
        "customers.describe()"
      ]
    },
    {
      "cell_type": "code",
      "execution_count": 288,
      "metadata": {
        "colab": {
          "base_uri": "https://localhost:8080/"
        },
        "id": "Kt_Umyr_sfyO",
        "outputId": "49f801ba-f1bc-4df5-e420-923a1d1a4976"
      },
      "outputs": [
        {
          "data": {
            "text/plain": [
              "(162, 13)"
            ]
          },
          "execution_count": 288,
          "metadata": {},
          "output_type": "execute_result"
        }
      ],
      "source": [
        "customers.shape"
      ]
    },
    {
      "cell_type": "markdown",
      "metadata": {
        "id": "BwSRAOSmsfyO"
      },
      "source": [
        "### Data Preparation"
      ]
    },
    {
      "cell_type": "markdown",
      "metadata": {
        "id": "xWXx31KlsfyP"
      },
      "source": [
        "### Checking Datatypes"
      ]
    },
    {
      "cell_type": "code",
      "execution_count": 289,
      "metadata": {
        "colab": {
          "base_uri": "https://localhost:8080/"
        },
        "id": "4g7ua_lssfyP",
        "outputId": "bb8bd5cb-41c6-4be9-ab41-ac0c8f2edc6f"
      },
      "outputs": [
        {
          "name": "stdout",
          "output_type": "stream",
          "text": [
            "Index(['Unnamed: 0', '﻿customerid', 'entity', 'name', 'surname', 'birth_date',\n",
            "       'sex', 'country', 'state', 'purpose', 'deal_satisfaction', 'mortgage',\n",
            "       'source'],\n",
            "      dtype='object')\n"
          ]
        }
      ],
      "source": [
        "print(customers.columns)"
      ]
    },
    {
      "cell_type": "code",
      "execution_count": 290,
      "metadata": {
        "colab": {
          "base_uri": "https://localhost:8080/"
        },
        "id": "qPWbGTTjsfyQ",
        "outputId": "62d2ad81-8de6-4e33-91de-536d4c28072c"
      },
      "outputs": [
        {
          "data": {
            "text/plain": [
              "Unnamed: 0            int64\n",
              "﻿customerid          object\n",
              "entity               object\n",
              "name                 object\n",
              "surname              object\n",
              "birth_date           object\n",
              "sex                  object\n",
              "country              object\n",
              "state                object\n",
              "purpose              object\n",
              "deal_satisfaction     int64\n",
              "mortgage             object\n",
              "source               object\n",
              "dtype: object"
            ]
          },
          "execution_count": 290,
          "metadata": {},
          "output_type": "execute_result"
        }
      ],
      "source": [
        "customers.dtypes"
      ]
    },
    {
      "cell_type": "code",
      "execution_count": 291,
      "metadata": {},
      "outputs": [],
      "source": [
        "customers.drop(columns=['Unnamed: 0'], axis=1, inplace=True)"
      ]
    },
    {
      "cell_type": "code",
      "execution_count": 292,
      "metadata": {},
      "outputs": [],
      "source": [
        "customers['﻿customerid'] = customers['﻿customerid'].str.replace('C', '')"
      ]
    },
    {
      "cell_type": "code",
      "execution_count": 293,
      "metadata": {
        "id": "cKUjPnrgsfyR"
      },
      "outputs": [],
      "source": [
        "# Convert the data types of the columns to their appropriate types 'strings'\n",
        "customers['﻿customerid'] = customers['﻿customerid'].astype('int64')\n",
        "customers['name'] = customers['name'].astype('string')\n",
        "customers['surname'] = customers['surname'].astype('string')\n",
        "customers['entity'] = customers['entity'].astype('string')\n",
        "customers['sex'] = customers['sex'].astype('string')\n",
        "customers['country'] = customers['country'].astype('string')\n",
        "customers['state'] = customers['state'].astype('string')\n",
        "customers['purpose'] = customers['purpose'].astype('string')\n",
        "customers['mortgage'] = customers['mortgage'].astype('string')\n",
        "customers['source'] = customers['source'].astype('string')"
      ]
    },
    {
      "cell_type": "code",
      "execution_count": 294,
      "metadata": {
        "id": "l_d_jFIisfyR"
      },
      "outputs": [],
      "source": [
        "# Convert the data types of the columns to their appropriate types 'date'\n",
        "customers['birth_date'] = customers['birth_date'].astype('datetime64[ns]')"
      ]
    },
    {
      "cell_type": "code",
      "execution_count": 295,
      "metadata": {
        "colab": {
          "base_uri": "https://localhost:8080/"
        },
        "id": "RTlt9QGbsfyS",
        "outputId": "62e9eabe-8420-4915-bde0-bb7970d6f08c"
      },
      "outputs": [
        {
          "data": {
            "text/plain": [
              "customerid                   int64\n",
              "entity               string[python]\n",
              "name                 string[python]\n",
              "surname              string[python]\n",
              "birth_date           datetime64[ns]\n",
              "sex                  string[python]\n",
              "country              string[python]\n",
              "state                string[python]\n",
              "purpose              string[python]\n",
              "deal_satisfaction             int64\n",
              "mortgage             string[python]\n",
              "source               string[python]\n",
              "dtype: object"
            ]
          },
          "execution_count": 295,
          "metadata": {},
          "output_type": "execute_result"
        }
      ],
      "source": [
        "customers.dtypes"
      ]
    },
    {
      "cell_type": "markdown",
      "metadata": {
        "id": "_uF4QoRjwkQp"
      },
      "source": [
        "### Column names"
      ]
    },
    {
      "cell_type": "code",
      "execution_count": 296,
      "metadata": {
        "id": "nZ6ef8g9wobC"
      },
      "outputs": [],
      "source": [
        "# rename columns\n",
        "customers.rename(columns={'﻿customerid': 'customerid'}, inplace=True)\n",
        "customers.rename(columns={'birth_date':'birthdate'}, inplace=True)"
      ]
    },
    {
      "cell_type": "markdown",
      "metadata": {
        "id": "tP0U-9yjxLMZ"
      },
      "source": [
        "### Categorical to numerical"
      ]
    },
    {
      "cell_type": "markdown",
      "metadata": {
        "id": "KCJexPoKJzqW"
      },
      "source": [
        "### Case: If there are inconsistencies with Capitol and lowercases, unify them using the lowercase convention.\n"
      ]
    },
    {
      "cell_type": "markdown",
      "metadata": {
        "id": "gIxQBjqRKCf3"
      },
      "source": [
        "using the lowercase method"
      ]
    },
    {
      "cell_type": "code",
      "execution_count": 297,
      "metadata": {
        "id": "KJnR_IRqH1U0"
      },
      "outputs": [],
      "source": [
        "categorical_cols = ['entity',  'sex', 'country', 'state',\n",
        "       'purpose', 'mortgage', 'source']"
      ]
    },
    {
      "cell_type": "code",
      "execution_count": 298,
      "metadata": {
        "id": "LfYO1IMUKTr_"
      },
      "outputs": [],
      "source": [
        "for col in categorical_cols:\n",
        "  customers[col] = customers[col].str.lower()"
      ]
    },
    {
      "cell_type": "code",
      "execution_count": 299,
      "metadata": {
        "id": "e9oXud9dE5Dd"
      },
      "outputs": [],
      "source": [
        "# using label encoder to encode categorical columns\n",
        "label_encoder = LabelEncoder()"
      ]
    },
    {
      "cell_type": "markdown",
      "metadata": {
        "id": "pwn67ugSF4zl"
      },
      "source": [
        "##### we have first to check the unoque values of each column"
      ]
    },
    {
      "cell_type": "markdown",
      "metadata": {
        "id": "-EKJT66GGAiZ"
      },
      "source": [
        "##### 1 - Entity column"
      ]
    },
    {
      "cell_type": "code",
      "execution_count": 300,
      "metadata": {
        "colab": {
          "base_uri": "https://localhost:8080/"
        },
        "id": "_IIYg7HWF4je",
        "outputId": "612c3122-d048-4783-8e1a-c1eba7bf6b61"
      },
      "outputs": [
        {
          "name": "stdout",
          "output_type": "stream",
          "text": [
            "<StringArray>\n",
            "['individual', 'company']\n",
            "Length: 2, dtype: string\n"
          ]
        }
      ],
      "source": [
        "print(customers['entity'].unique())"
      ]
    },
    {
      "cell_type": "code",
      "execution_count": 301,
      "metadata": {
        "colab": {
          "base_uri": "https://localhost:8080/"
        },
        "id": "hocbYqX6MvDE",
        "outputId": "b8a6956f-a7e8-4f3f-f0ff-ffac0c68f0e8"
      },
      "outputs": [
        {
          "name": "stdout",
          "output_type": "stream",
          "text": [
            "[1 0]\n"
          ]
        }
      ],
      "source": [
        "customers['entity'] = label_encoder.fit_transform(customers['entity'])\n",
        "print(customers['entity'].unique())"
      ]
    },
    {
      "cell_type": "markdown",
      "metadata": {
        "id": "qN7FuspcGP8D"
      },
      "source": [
        "2 - Sex column"
      ]
    },
    {
      "cell_type": "code",
      "execution_count": 302,
      "metadata": {
        "colab": {
          "base_uri": "https://localhost:8080/"
        },
        "id": "0expmYm6GTmK",
        "outputId": "609e020e-d42f-4b19-b4b7-f0b7ecb57f9e"
      },
      "outputs": [
        {
          "name": "stdout",
          "output_type": "stream",
          "text": [
            "<StringArray>\n",
            "['f', 'm', <NA>]\n",
            "Length: 3, dtype: string\n"
          ]
        }
      ],
      "source": [
        "print(customers['sex'].unique())"
      ]
    },
    {
      "cell_type": "markdown",
      "metadata": {
        "id": "mhFTX6eCIF19"
      },
      "source": [
        "##### Imputation of NA values"
      ]
    },
    {
      "cell_type": "code",
      "execution_count": 303,
      "metadata": {
        "id": "TTzqn6LmIKQq"
      },
      "outputs": [],
      "source": [
        "customers['sex'].fillna('Unknown', inplace=True)"
      ]
    },
    {
      "cell_type": "code",
      "execution_count": 304,
      "metadata": {
        "colab": {
          "base_uri": "https://localhost:8080/"
        },
        "id": "cnQTSWlkIT6l",
        "outputId": "3b0319fc-2e50-432c-daca-083857e66a05"
      },
      "outputs": [
        {
          "name": "stdout",
          "output_type": "stream",
          "text": [
            "[1 2 0]\n"
          ]
        }
      ],
      "source": [
        "customers['sex'] = label_encoder.fit_transform(customers['sex'])\n",
        "print(customers['sex'].unique())"
      ]
    },
    {
      "cell_type": "markdown",
      "metadata": {
        "id": "F4wEeTgjGYgO"
      },
      "source": [
        "3 - country column"
      ]
    },
    {
      "cell_type": "markdown",
      "metadata": {
        "id": "4umaV9d4MBPx"
      },
      "source": [
        "1.   Remove leading and trailing whitespace from all values in the 'country' column.\n",
        "2.   Convert all values to lowercase to ensure uniform capitalization.\n"
      ]
    },
    {
      "cell_type": "code",
      "execution_count": 305,
      "metadata": {
        "id": "viG1gNzYL1a1"
      },
      "outputs": [],
      "source": [
        "customers['country'] = customers['country'].str.strip().str.lower()"
      ]
    },
    {
      "cell_type": "code",
      "execution_count": 306,
      "metadata": {
        "colab": {
          "base_uri": "https://localhost:8080/"
        },
        "id": "cl1xX0VzIRcD",
        "outputId": "c6449779-a7c0-492d-ef3f-e99da63b4934"
      },
      "outputs": [
        {
          "name": "stdout",
          "output_type": "stream",
          "text": [
            "<StringArray>\n",
            "['usa', 'canada', 'germany', 'belgium', 'mexico', 'russia', 'uk', 'denmark']\n",
            "Length: 8, dtype: string\n"
          ]
        }
      ],
      "source": [
        "print(customers['country'].unique())"
      ]
    },
    {
      "cell_type": "code",
      "execution_count": 307,
      "metadata": {
        "colab": {
          "base_uri": "https://localhost:8080/"
        },
        "id": "IUT8lQHrGeLx",
        "outputId": "6d637675-88c9-4fef-b30a-5c5ed4f50a3b"
      },
      "outputs": [
        {
          "name": "stdout",
          "output_type": "stream",
          "text": [
            "[7 1 3 0 4 5 6 2]\n"
          ]
        }
      ],
      "source": [
        "customers['country'] = label_encoder.fit_transform(customers['country'])\n",
        "print(customers['country'].unique())"
      ]
    },
    {
      "cell_type": "code",
      "execution_count": 308,
      "metadata": {},
      "outputs": [
        {
          "data": {
            "text/plain": [
              "7"
            ]
          },
          "execution_count": 308,
          "metadata": {},
          "output_type": "execute_result"
        }
      ],
      "source": [
        "customers['country'].iloc[0]"
      ]
    },
    {
      "cell_type": "markdown",
      "metadata": {
        "id": "GAqEXIPKGgpB"
      },
      "source": [
        "4 - state column"
      ]
    },
    {
      "cell_type": "code",
      "execution_count": 309,
      "metadata": {
        "colab": {
          "base_uri": "https://localhost:8080/"
        },
        "id": "oJXYxcS6Gp4a",
        "outputId": "e4b25123-9da4-4e9a-8268-ab1419f49b93"
      },
      "outputs": [
        {
          "name": "stdout",
          "output_type": "stream",
          "text": [
            "<StringArray>\n",
            "['california',         <NA>,     'oregon',    'arizona',     'nevada',\n",
            "   'colorado',       'utah',   'virginia',    'wyoming',     'kansas']\n",
            "Length: 10, dtype: string\n"
          ]
        }
      ],
      "source": [
        "print(customers['state'].unique())"
      ]
    },
    {
      "cell_type": "markdown",
      "metadata": {
        "id": "H8Xt_Q-OIZPQ"
      },
      "source": [
        "##### Imputation of NA values"
      ]
    },
    {
      "cell_type": "code",
      "execution_count": 310,
      "metadata": {
        "id": "Y4-ZumB2IdUr"
      },
      "outputs": [],
      "source": [
        "customers['state'].fillna('unknown',inplace=True)"
      ]
    },
    {
      "cell_type": "code",
      "execution_count": 311,
      "metadata": {
        "colab": {
          "base_uri": "https://localhost:8080/"
        },
        "id": "uBLsITEaIcFx",
        "outputId": "c4ab93a4-6b8e-4010-a322-58f18f536539"
      },
      "outputs": [
        {
          "name": "stdout",
          "output_type": "stream",
          "text": [
            "[1 6 5 0 4 2 7 8 9 3]\n"
          ]
        }
      ],
      "source": [
        "customers['state'] = label_encoder.fit_transform(customers['state'])\n",
        "print(customers['state'].unique())"
      ]
    },
    {
      "cell_type": "markdown",
      "metadata": {
        "id": "AK0Xh3i9GjCY"
      },
      "source": [
        "5 - purpose column"
      ]
    },
    {
      "cell_type": "code",
      "execution_count": 312,
      "metadata": {
        "colab": {
          "base_uri": "https://localhost:8080/"
        },
        "id": "UNTKKlO7GryO",
        "outputId": "4eebf671-a122-47d1-9669-5a6c1df20d21"
      },
      "outputs": [
        {
          "name": "stdout",
          "output_type": "stream",
          "text": [
            "<StringArray>\n",
            "['home', 'investment']\n",
            "Length: 2, dtype: string\n"
          ]
        }
      ],
      "source": [
        "print(customers['purpose'].unique())"
      ]
    },
    {
      "cell_type": "code",
      "execution_count": 313,
      "metadata": {
        "colab": {
          "base_uri": "https://localhost:8080/"
        },
        "id": "8l-UpElSHjf7",
        "outputId": "ed11788d-c6e0-4e2e-d454-e95738b4310e"
      },
      "outputs": [
        {
          "name": "stdout",
          "output_type": "stream",
          "text": [
            "[0 1]\n"
          ]
        }
      ],
      "source": [
        "customers['purpose'] = label_encoder.fit_transform(customers['purpose'])\n",
        "print(customers['purpose'].unique())"
      ]
    },
    {
      "cell_type": "markdown",
      "metadata": {
        "id": "suij33s9GlUR"
      },
      "source": [
        "6 - mortgage column"
      ]
    },
    {
      "cell_type": "code",
      "execution_count": 314,
      "metadata": {
        "colab": {
          "base_uri": "https://localhost:8080/"
        },
        "id": "-uhW9U0vGtzN",
        "outputId": "7c7536a0-a9ef-46dc-8f0c-05afb1a5b4d8"
      },
      "outputs": [
        {
          "name": "stdout",
          "output_type": "stream",
          "text": [
            "<StringArray>\n",
            "['yes', 'no']\n",
            "Length: 2, dtype: string\n"
          ]
        }
      ],
      "source": [
        "print(customers['mortgage'].unique())"
      ]
    },
    {
      "cell_type": "code",
      "execution_count": 315,
      "metadata": {
        "colab": {
          "base_uri": "https://localhost:8080/"
        },
        "id": "5y5jvSTEHpj8",
        "outputId": "b9c77fd3-f7eb-4b3d-a584-e30a61b39ecb"
      },
      "outputs": [
        {
          "name": "stdout",
          "output_type": "stream",
          "text": [
            "[1 0]\n"
          ]
        }
      ],
      "source": [
        "customers['mortgage'] = label_encoder.fit_transform(customers['mortgage'])\n",
        "print(customers['mortgage'].unique())"
      ]
    },
    {
      "cell_type": "markdown",
      "metadata": {
        "id": "Qa4MSx26GnlW"
      },
      "source": [
        "7 - source column"
      ]
    },
    {
      "cell_type": "code",
      "execution_count": 316,
      "metadata": {
        "colab": {
          "base_uri": "https://localhost:8080/"
        },
        "id": "_DjcbMk5GwVd",
        "outputId": "41ab2536-7bf7-4715-d0ef-e0df415c7964"
      },
      "outputs": [
        {
          "name": "stdout",
          "output_type": "stream",
          "text": [
            "<StringArray>\n",
            "['website', 'agency', 'client']\n",
            "Length: 3, dtype: string\n"
          ]
        }
      ],
      "source": [
        "print(customers['source'].unique())"
      ]
    },
    {
      "cell_type": "code",
      "execution_count": 317,
      "metadata": {
        "colab": {
          "base_uri": "https://localhost:8080/"
        },
        "id": "DddwAIi2Huh6",
        "outputId": "34a27ece-2ce3-4f92-8de6-81f7ae040e6d"
      },
      "outputs": [
        {
          "name": "stdout",
          "output_type": "stream",
          "text": [
            "[2 0 1]\n"
          ]
        }
      ],
      "source": [
        "customers['source'] = label_encoder.fit_transform(customers['source'])\n",
        "print(customers['source'].unique())"
      ]
    },
    {
      "cell_type": "markdown",
      "metadata": {},
      "source": [
        "8 - customerid"
      ]
    },
    {
      "cell_type": "code",
      "execution_count": 318,
      "metadata": {},
      "outputs": [
        {
          "data": {
            "text/plain": [
              "array([110,  10, 132, 137, 174,  88,  79, 149,  64,  68,   6,  55,  16,\n",
              "       121,  74,  32,  93,  76, 165, 153, 129, 162,  71,  69,   5, 144,\n",
              "        20, 101, 128,  33, 171,  95, 123,  15,  84,  19,  53,  80,  70,\n",
              "        51,  22, 127,  81, 104,  73, 168, 169,  39,  86,  36,  45, 105,\n",
              "       119,  12,  65,  54, 172,  29,  98, 142, 135,  37, 134,  91,  18,\n",
              "        85,  61,  66, 156,  43, 112, 145,  47,  82,   7,  52,  41,   4,\n",
              "       118,  30, 154, 125, 115,  78, 151, 111,  14, 103,  24, 166,  67,\n",
              "       122, 107,   3,  99, 160,  13,  59, 120, 150, 140,   2,  96, 159,\n",
              "       163, 100, 155,  49, 148, 146,  34, 141,   8, 131,  89, 157, 114,\n",
              "       124, 158, 175,  23, 164,  58,  62,  42,  48,  83,  25,  87,  94,\n",
              "        38,  11, 139,  21, 106,  40,  35, 126, 136, 109,  28,  57, 130,\n",
              "        44,  56,  77,  31,  72,  63,  17,   9,  75,  27,  60,   1,  90,\n",
              "       108, 170, 138, 113, 147, 133])"
            ]
          },
          "execution_count": 318,
          "metadata": {},
          "output_type": "execute_result"
        }
      ],
      "source": [
        "customers['customerid'].unique()"
      ]
    },
    {
      "cell_type": "code",
      "execution_count": 319,
      "metadata": {},
      "outputs": [],
      "source": [
        "properties_ids = [' 0028 ', ' 0027 ', ' 0112 ', ' 0160 ', ' 0014 ', ' 0125 ',\n",
        "       ' 0166 ', ' 0034 ', ' 0170 ', ' 0009 ', ' 0041 ', ' 0057 ',\n",
        "       ' 0061 ', ' 0089 ', ' 0159 ', ' 0171 ', ' 0042 ', ' 0093 ',\n",
        "       ' 0051 ', ' 0064 ', ' 0128 ', ' 0019 ', ' 0037 ', ' 0127 ',\n",
        "       ' 0018 ', ' 0040 ', ' 0080 ', ' 0083 ', ' 0085 ', ' 0091 ',\n",
        "       ' 0007 ', ' 0048 ', ' 0065 ', ' 0096 ', ' 0164 ', ' 0038 ',\n",
        "       ' 0087 ', ' 0142 ', ' 0015 ', ' 0122 ', ' 0017 ', ' 0020 ',\n",
        "       ' 0086 ', ' 0150 ', ' 0156 ', ' 0169 ', ' 0022 ', ' 0072 ',\n",
        "       ' 0136 ', ' 0149 ', ' 0011 ', ' 0073 ', ' 0110 ', ' 0111 ',\n",
        "       ' 0123 ', ' 0070 ', ' 0075 ', ' 0076 ', ' 0105 ', ' 0135 ',\n",
        "       ' 0153 ', ' 0047 ', ' 0060 ', ' 0066 ', ' 0068 ', ' 0090 ',\n",
        "       ' 0095 ', ' 0151 ', ' 0162 ', ' 0010 ', ' 0054 ', ' 0056 ',\n",
        "       ' 0081 ', ' 0084 ', ' 0016 ', ' 0035 ', ' 0062 ', ' 0099 ',\n",
        "       ' 0114 ', ' 0006 ', ' 0053 ', ' 0069 ', ' 0077 ', ' 0168 ',\n",
        "       ' 0058 ', ' 0107 ', ' 0131 ', ' 0144 ', ' 0098 ', ' 0130 ',\n",
        "       ' 0141 ', ' 0067 ', ' 0082 ', ' 0113 ', ' 0132 ', ' 0137 ',\n",
        "       ' 0155 ', ' 0163 ', ' 0039 ', ' 0071 ', ' 0101 ', ' 0146 ',\n",
        "       ' 0052 ', ' 0063 ', ' 0088 ', ' 0094 ', ' 0165 ', ' 0044 ',\n",
        "       ' 0157 ', ' 0118 ', ' 0119 ', ' 0033 ', ' 0100 ', ' 0133 ',\n",
        "       ' 0175 ', ' 0008 ', ' 0023 ', ' 0108 ', ' 0109 ', ' 0145 ',\n",
        "       ' 0003 ', ' 0004 ', ' 0024 ', ' 0030 ', ' 0147 ', ' 0002 ',\n",
        "       ' 0031 ', ' 0059 ', ' 0140 ', ' 0043 ', ' 0078 ', ' 0124 ',\n",
        "       ' 0049 ', ' 0079 ', ' 0013 ', ' 0139 ', ' 0154 ', ' 0045 ',\n",
        "       ' 0134 ', ' 0138 ', ' 0158 ', ' 0036 ', ' 0074 ', ' 0120 ',\n",
        "       ' 0005 ', ' 0032 ', ' 0126 ', ' 0106 ', ' 0115 ', ' 0129 ',\n",
        "       ' 0103 ', ' 0021 ', ' 0148 ', ' 0172 ', ' 0104 ', ' 0001 ',\n",
        "       ' 0012 ', ' 0025 ', ' 0029 ', ' 0055 ', ' 0121 ', ' 0174 ']\n",
        "properties_ids = [int(property_id.strip()) for property_id in properties_ids]"
      ]
    },
    {
      "cell_type": "code",
      "execution_count": 320,
      "metadata": {},
      "outputs": [],
      "source": [
        "customer_ids =[110,  10, 132, 137, 174,  88,  79, 149,  64,  68,   6,  55,  16,\n",
        "       121,  74,  32,  93,  76, 165, 153, 129, 162,  71,  69,   5, 144,\n",
        "        20, 101, 128,  33, 171,  95, 123,  15,  84,  19,  53,  80,  70,\n",
        "        51,  22, 127,  81, 104,  73, 168, 169,  39,  86,  36,  45, 105,\n",
        "       119,  12,  65,  54, 172,  29,  98, 142, 135,  37, 134,  91,  18,\n",
        "        85,  61,  66, 156,  43, 112, 145,  47,  82,   7,  52,  41,   4,\n",
        "       118,  30, 154, 125, 115,  78, 151, 111,  14, 103,  24, 166,  67,\n",
        "       122, 107,   3,  99, 160,  13,  59, 120, 150, 140,   2,  96, 159,\n",
        "       163, 100, 155,  49, 148, 146,  34, 141,   8, 131,  89, 157, 114,\n",
        "       124, 158, 175,  23, 164,  58,  62,  42,  48,  83,  25,  87,  94,\n",
        "        38,  11, 139,  21, 106,  40,  35, 126, 136, 109,  28,  57, 130,\n",
        "        44,  56,  77,  31,  72,  63,  17,   9,  75,  27,  60,   1,  90,\n",
        "       108, 170, 138, 113, 147, 133]"
      ]
    },
    {
      "cell_type": "code",
      "execution_count": 321,
      "metadata": {},
      "outputs": [
        {
          "name": "stdout",
          "output_type": "stream",
          "text": [
            "[110, 10, 132, 137, 174, 88, 79, 149, 64, 68, 6, 55, 16, 121, 74, 32, 93, 76, 165, 153, 129, 162, 71, 69, 5, 144, 20, 101, 128, 33, 171, 95, 123, 15, 84, 19, 53, 80, 70, 51, 22, 127, 81, 104, 73, 168, 169, 39, 86, 36, 45, 105, 119, 12, 65, 54, 172, 29, 98, 142, 135, 37, 134, 91, 18, 85, 61, 66, 156, 43, 112, 145, 47, 82, 7, 52, 41, 4, 118, 30, 154, 125, 115, 78, 151, 111, 14, 103, 24, 166, 67, 122, 107, 3, 99, 160, 13, 59, 120, 150, 140, 2, 96, 159, 163, 100, 155, 49, 148, 146, 34, 141, 8, 131, 89, 157, 114, 124, 158, 175, 23, 164, 58, 62, 42, 48, 83, 25, 87, 94, 38, 11, 139, 21, 106, 40, 35, 126, 136, 109, 28, 57, 130, 44, 56, 77, 31, 72, 63, 17, 9, 75, 27, 60, 1, 90, 108, 170, 138, 113, 147, 133]\n"
          ]
        }
      ],
      "source": [
        "# Subtract list2 from list1\n",
        "result = [x for x in customer_ids if x not in properties]\n",
        "\n",
        "print(result)"
      ]
    },
    {
      "cell_type": "code",
      "execution_count": 322,
      "metadata": {
        "colab": {
          "base_uri": "https://localhost:8080/"
        },
        "id": "bDo3cOnOFFzk",
        "outputId": "86fb0680-0b4c-4436-eb7f-9dd3515f02a3"
      },
      "outputs": [
        {
          "name": "stdout",
          "output_type": "stream",
          "text": [
            "<class 'pandas.core.frame.DataFrame'>\n",
            "RangeIndex: 162 entries, 0 to 161\n",
            "Data columns (total 12 columns):\n",
            " #   Column             Non-Null Count  Dtype         \n",
            "---  ------             --------------  -----         \n",
            " 0   customerid         162 non-null    int64         \n",
            " 1   entity             162 non-null    int64         \n",
            " 2   name               162 non-null    string        \n",
            " 3   surname            162 non-null    string        \n",
            " 4   birthdate          155 non-null    datetime64[ns]\n",
            " 5   sex                162 non-null    int64         \n",
            " 6   country            162 non-null    int64         \n",
            " 7   state              162 non-null    int64         \n",
            " 8   purpose            162 non-null    int64         \n",
            " 9   deal_satisfaction  162 non-null    int64         \n",
            " 10  mortgage           162 non-null    int64         \n",
            " 11  source             162 non-null    int64         \n",
            "dtypes: datetime64[ns](1), int64(9), string(2)\n",
            "memory usage: 15.3 KB\n"
          ]
        }
      ],
      "source": [
        "customers.info()"
      ]
    },
    {
      "cell_type": "code",
      "execution_count": 323,
      "metadata": {
        "colab": {
          "base_uri": "https://localhost:8080/",
          "height": 204
        },
        "id": "E8sv3aFcDw5k",
        "outputId": "3a83d594-99b5-4632-b6ca-ffef816cc681"
      },
      "outputs": [
        {
          "data": {
            "text/html": [
              "<div>\n",
              "<style scoped>\n",
              "    .dataframe tbody tr th:only-of-type {\n",
              "        vertical-align: middle;\n",
              "    }\n",
              "\n",
              "    .dataframe tbody tr th {\n",
              "        vertical-align: top;\n",
              "    }\n",
              "\n",
              "    .dataframe thead th {\n",
              "        text-align: right;\n",
              "    }\n",
              "</style>\n",
              "<table border=\"1\" class=\"dataframe\">\n",
              "  <thead>\n",
              "    <tr style=\"text-align: right;\">\n",
              "      <th></th>\n",
              "      <th>customerid</th>\n",
              "      <th>entity</th>\n",
              "      <th>name</th>\n",
              "      <th>surname</th>\n",
              "      <th>birthdate</th>\n",
              "      <th>sex</th>\n",
              "      <th>country</th>\n",
              "      <th>state</th>\n",
              "      <th>purpose</th>\n",
              "      <th>deal_satisfaction</th>\n",
              "      <th>mortgage</th>\n",
              "      <th>source</th>\n",
              "    </tr>\n",
              "  </thead>\n",
              "  <tbody>\n",
              "    <tr>\n",
              "      <th>0</th>\n",
              "      <td>110</td>\n",
              "      <td>1</td>\n",
              "      <td>Kareem</td>\n",
              "      <td>Liu</td>\n",
              "      <td>1968-05-11</td>\n",
              "      <td>1</td>\n",
              "      <td>7</td>\n",
              "      <td>1</td>\n",
              "      <td>0</td>\n",
              "      <td>4</td>\n",
              "      <td>1</td>\n",
              "      <td>2</td>\n",
              "    </tr>\n",
              "    <tr>\n",
              "      <th>1</th>\n",
              "      <td>10</td>\n",
              "      <td>1</td>\n",
              "      <td>Trystan</td>\n",
              "      <td>Oconnor</td>\n",
              "      <td>1962-11-26</td>\n",
              "      <td>2</td>\n",
              "      <td>7</td>\n",
              "      <td>1</td>\n",
              "      <td>0</td>\n",
              "      <td>1</td>\n",
              "      <td>0</td>\n",
              "      <td>2</td>\n",
              "    </tr>\n",
              "    <tr>\n",
              "      <th>2</th>\n",
              "      <td>132</td>\n",
              "      <td>1</td>\n",
              "      <td>Kale</td>\n",
              "      <td>Gay</td>\n",
              "      <td>1959-04-07</td>\n",
              "      <td>2</td>\n",
              "      <td>7</td>\n",
              "      <td>1</td>\n",
              "      <td>0</td>\n",
              "      <td>4</td>\n",
              "      <td>1</td>\n",
              "      <td>0</td>\n",
              "    </tr>\n",
              "    <tr>\n",
              "      <th>3</th>\n",
              "      <td>137</td>\n",
              "      <td>1</td>\n",
              "      <td>Russell</td>\n",
              "      <td>Gross</td>\n",
              "      <td>1959-11-25</td>\n",
              "      <td>2</td>\n",
              "      <td>7</td>\n",
              "      <td>1</td>\n",
              "      <td>0</td>\n",
              "      <td>5</td>\n",
              "      <td>0</td>\n",
              "      <td>2</td>\n",
              "    </tr>\n",
              "    <tr>\n",
              "      <th>4</th>\n",
              "      <td>174</td>\n",
              "      <td>0</td>\n",
              "      <td>Marleez</td>\n",
              "      <td>Co</td>\n",
              "      <td>NaT</td>\n",
              "      <td>0</td>\n",
              "      <td>7</td>\n",
              "      <td>1</td>\n",
              "      <td>1</td>\n",
              "      <td>5</td>\n",
              "      <td>0</td>\n",
              "      <td>2</td>\n",
              "    </tr>\n",
              "  </tbody>\n",
              "</table>\n",
              "</div>"
            ],
            "text/plain": [
              "   customerid  entity     name  surname  birthdate  sex  country  state   \n",
              "0         110       1   Kareem      Liu 1968-05-11    1        7      1  \\\n",
              "1          10       1  Trystan  Oconnor 1962-11-26    2        7      1   \n",
              "2         132       1     Kale      Gay 1959-04-07    2        7      1   \n",
              "3         137       1  Russell    Gross 1959-11-25    2        7      1   \n",
              "4         174       0  Marleez       Co        NaT    0        7      1   \n",
              "\n",
              "   purpose  deal_satisfaction  mortgage  source  \n",
              "0        0                  4         1       2  \n",
              "1        0                  1         0       2  \n",
              "2        0                  4         1       0  \n",
              "3        0                  5         0       2  \n",
              "4        1                  5         0       2  "
            ]
          },
          "execution_count": 323,
          "metadata": {},
          "output_type": "execute_result"
        }
      ],
      "source": [
        "customers.head()"
      ]
    },
    {
      "cell_type": "code",
      "execution_count": 324,
      "metadata": {
        "colab": {
          "base_uri": "https://localhost:8080/"
        },
        "id": "u_dWzwj3sfyT",
        "outputId": "d46fdbb0-62e9-4638-dc2c-6a886fe5b270"
      },
      "outputs": [
        {
          "data": {
            "text/plain": [
              "customerid           0\n",
              "entity               0\n",
              "name                 0\n",
              "surname              0\n",
              "birthdate            7\n",
              "sex                  0\n",
              "country              0\n",
              "state                0\n",
              "purpose              0\n",
              "deal_satisfaction    0\n",
              "mortgage             0\n",
              "source               0\n",
              "dtype: int64"
            ]
          },
          "execution_count": 324,
          "metadata": {},
          "output_type": "execute_result"
        }
      ],
      "source": [
        "# For customers dataframe\n",
        "customers.isnull().sum()"
      ]
    },
    {
      "cell_type": "code",
      "execution_count": 325,
      "metadata": {
        "colab": {
          "base_uri": "https://localhost:8080/"
        },
        "id": "6II8odwhJQoR",
        "outputId": "ccbfbc5f-d9d6-4c08-a28d-84f1bc05b74c"
      },
      "outputs": [
        {
          "name": "stdout",
          "output_type": "stream",
          "text": [
            "customerid           0.00\n",
            "entity               0.00\n",
            "name                 0.00\n",
            "surname              0.00\n",
            "birthdate            4.32\n",
            "sex                  0.00\n",
            "country              0.00\n",
            "state                0.00\n",
            "purpose              0.00\n",
            "deal_satisfaction    0.00\n",
            "mortgage             0.00\n",
            "source               0.00\n",
            "dtype: float64\n"
          ]
        }
      ],
      "source": [
        "missing_percentage = (customers.isnull().mean() * 100).round(2)\n",
        "print(missing_percentage)"
      ]
    },
    {
      "cell_type": "markdown",
      "metadata": {},
      "source": [
        "#### Using missingno package"
      ]
    },
    {
      "cell_type": "code",
      "execution_count": 326,
      "metadata": {},
      "outputs": [
        {
          "data": {
            "text/plain": [
              "<Axes: >"
            ]
          },
          "execution_count": 326,
          "metadata": {},
          "output_type": "execute_result"
        },
        {
          "data": {
            "image/png": "[encoded data removed]",
            "text/plain": [
              "<Figure size 2500x1000 with 2 Axes>"
            ]
          },
          "metadata": {},
          "output_type": "display_data"
        }
      ],
      "source": [
        "msno.matrix(customers)"
      ]
    },
    {
      "cell_type": "markdown",
      "metadata": {
        "id": "nUjxTqDKJakp"
      },
      "source": [
        "##### Impute the birthdate column using the ffill method"
      ]
    },
    {
      "cell_type": "code",
      "execution_count": 327,
      "metadata": {},
      "outputs": [],
      "source": [
        "customers.sort_values(by='birthdate', inplace=True)\n",
        "customers['birthdate'].fillna(method='ffill', inplace=True)"
      ]
    },
    {
      "cell_type": "code",
      "execution_count": 328,
      "metadata": {
        "colab": {
          "base_uri": "https://localhost:8080/"
        },
        "id": "iCV55wdcJmVl",
        "outputId": "d6f8adba-f1fe-45fd-d2bc-c8ca9d77ebec"
      },
      "outputs": [
        {
          "data": {
            "text/plain": [
              "(162, 12)"
            ]
          },
          "execution_count": 328,
          "metadata": {},
          "output_type": "execute_result"
        }
      ],
      "source": [
        "customers.shape"
      ]
    },
    {
      "cell_type": "code",
      "execution_count": 329,
      "metadata": {},
      "outputs": [
        {
          "data": {
            "text/html": [
              "<div>\n",
              "<style scoped>\n",
              "    .dataframe tbody tr th:only-of-type {\n",
              "        vertical-align: middle;\n",
              "    }\n",
              "\n",
              "    .dataframe tbody tr th {\n",
              "        vertical-align: top;\n",
              "    }\n",
              "\n",
              "    .dataframe thead th {\n",
              "        text-align: right;\n",
              "    }\n",
              "</style>\n",
              "<table border=\"1\" class=\"dataframe\">\n",
              "  <thead>\n",
              "    <tr style=\"text-align: right;\">\n",
              "      <th></th>\n",
              "      <th>customerid</th>\n",
              "      <th>entity</th>\n",
              "      <th>name</th>\n",
              "      <th>surname</th>\n",
              "      <th>birthdate</th>\n",
              "      <th>sex</th>\n",
              "      <th>country</th>\n",
              "      <th>state</th>\n",
              "      <th>purpose</th>\n",
              "      <th>deal_satisfaction</th>\n",
              "      <th>mortgage</th>\n",
              "      <th>source</th>\n",
              "    </tr>\n",
              "  </thead>\n",
              "  <tbody>\n",
              "    <tr>\n",
              "      <th>43</th>\n",
              "      <td>104</td>\n",
              "      <td>1</td>\n",
              "      <td>Diana</td>\n",
              "      <td>Hunt</td>\n",
              "      <td>1931-02-13</td>\n",
              "      <td>1</td>\n",
              "      <td>7</td>\n",
              "      <td>0</td>\n",
              "      <td>0</td>\n",
              "      <td>3</td>\n",
              "      <td>0</td>\n",
              "      <td>2</td>\n",
              "    </tr>\n",
              "    <tr>\n",
              "      <th>133</th>\n",
              "      <td>21</td>\n",
              "      <td>1</td>\n",
              "      <td>Kaylin</td>\n",
              "      <td>Villarreal</td>\n",
              "      <td>1932-06-13</td>\n",
              "      <td>1</td>\n",
              "      <td>5</td>\n",
              "      <td>6</td>\n",
              "      <td>1</td>\n",
              "      <td>3</td>\n",
              "      <td>0</td>\n",
              "      <td>2</td>\n",
              "    </tr>\n",
              "    <tr>\n",
              "      <th>108</th>\n",
              "      <td>148</td>\n",
              "      <td>1</td>\n",
              "      <td>Myah</td>\n",
              "      <td>Roman</td>\n",
              "      <td>1933-05-05</td>\n",
              "      <td>1</td>\n",
              "      <td>7</td>\n",
              "      <td>1</td>\n",
              "      <td>1</td>\n",
              "      <td>5</td>\n",
              "      <td>1</td>\n",
              "      <td>0</td>\n",
              "    </tr>\n",
              "    <tr>\n",
              "      <th>56</th>\n",
              "      <td>172</td>\n",
              "      <td>1</td>\n",
              "      <td>Henry</td>\n",
              "      <td>Kennedy</td>\n",
              "      <td>1933-06-08</td>\n",
              "      <td>2</td>\n",
              "      <td>7</td>\n",
              "      <td>1</td>\n",
              "      <td>0</td>\n",
              "      <td>4</td>\n",
              "      <td>1</td>\n",
              "      <td>0</td>\n",
              "    </tr>\n",
              "    <tr>\n",
              "      <th>87</th>\n",
              "      <td>103</td>\n",
              "      <td>1</td>\n",
              "      <td>Jamal</td>\n",
              "      <td>Mueller</td>\n",
              "      <td>1936-08-13</td>\n",
              "      <td>2</td>\n",
              "      <td>7</td>\n",
              "      <td>5</td>\n",
              "      <td>1</td>\n",
              "      <td>2</td>\n",
              "      <td>0</td>\n",
              "      <td>2</td>\n",
              "    </tr>\n",
              "  </tbody>\n",
              "</table>\n",
              "</div>"
            ],
            "text/plain": [
              "     customerid  entity    name     surname  birthdate  sex  country  state   \n",
              "43          104       1   Diana        Hunt 1931-02-13    1        7      0  \\\n",
              "133          21       1  Kaylin  Villarreal 1932-06-13    1        5      6   \n",
              "108         148       1    Myah       Roman 1933-05-05    1        7      1   \n",
              "56          172       1   Henry     Kennedy 1933-06-08    2        7      1   \n",
              "87          103       1   Jamal     Mueller 1936-08-13    2        7      5   \n",
              "\n",
              "     purpose  deal_satisfaction  mortgage  source  \n",
              "43         0                  3         0       2  \n",
              "133        1                  3         0       2  \n",
              "108        1                  5         1       0  \n",
              "56         0                  4         1       0  \n",
              "87         1                  2         0       2  "
            ]
          },
          "execution_count": 329,
          "metadata": {},
          "output_type": "execute_result"
        }
      ],
      "source": [
        "customers.head()"
      ]
    },
    {
      "cell_type": "markdown",
      "metadata": {},
      "source": [
        "## Properties Dataset Cleaning and Preprocessing"
      ]
    },
    {
      "cell_type": "code",
      "execution_count": 330,
      "metadata": {
        "id": "qe18zzO7sfyU"
      },
      "outputs": [
        {
          "data": {
            "text/html": [
              "<div>\n",
              "<style scoped>\n",
              "    .dataframe tbody tr th:only-of-type {\n",
              "        vertical-align: middle;\n",
              "    }\n",
              "\n",
              "    .dataframe tbody tr th {\n",
              "        vertical-align: top;\n",
              "    }\n",
              "\n",
              "    .dataframe thead th {\n",
              "        text-align: right;\n",
              "    }\n",
              "</style>\n",
              "<table border=\"1\" class=\"dataframe\">\n",
              "  <thead>\n",
              "    <tr style=\"text-align: right;\">\n",
              "      <th></th>\n",
              "      <th>Unnamed: 0</th>\n",
              "      <th>﻿id</th>\n",
              "      <th>building</th>\n",
              "      <th>date_sale</th>\n",
              "      <th>type</th>\n",
              "      <th>property#</th>\n",
              "      <th>area</th>\n",
              "      <th>price</th>\n",
              "      <th>status</th>\n",
              "      <th>customerid</th>\n",
              "    </tr>\n",
              "  </thead>\n",
              "  <tbody>\n",
              "    <tr>\n",
              "      <th>0</th>\n",
              "      <td>0</td>\n",
              "      <td>1030</td>\n",
              "      <td>1</td>\n",
              "      <td>11/1/2005</td>\n",
              "      <td>Apartment</td>\n",
              "      <td>30</td>\n",
              "      <td>743.09</td>\n",
              "      <td>$246,172.68</td>\n",
              "      <td>Sold</td>\n",
              "      <td>C0028</td>\n",
              "    </tr>\n",
              "    <tr>\n",
              "      <th>1</th>\n",
              "      <td>1</td>\n",
              "      <td>1029</td>\n",
              "      <td>1</td>\n",
              "      <td>10/1/2005</td>\n",
              "      <td>Apartment</td>\n",
              "      <td>29</td>\n",
              "      <td>756.21</td>\n",
              "      <td>$246,331.90</td>\n",
              "      <td>Sold</td>\n",
              "      <td>C0027</td>\n",
              "    </tr>\n",
              "    <tr>\n",
              "      <th>2</th>\n",
              "      <td>2</td>\n",
              "      <td>2002</td>\n",
              "      <td>2</td>\n",
              "      <td>7/1/2007</td>\n",
              "      <td>Apartment</td>\n",
              "      <td>2</td>\n",
              "      <td>587.28</td>\n",
              "      <td>$209,280.91</td>\n",
              "      <td>Sold</td>\n",
              "      <td>C0112</td>\n",
              "    </tr>\n",
              "    <tr>\n",
              "      <th>3</th>\n",
              "      <td>3</td>\n",
              "      <td>2031</td>\n",
              "      <td>2</td>\n",
              "      <td>12/1/2007</td>\n",
              "      <td>Apartment</td>\n",
              "      <td>31</td>\n",
              "      <td>1604.75</td>\n",
              "      <td>$452,667.01</td>\n",
              "      <td>Sold</td>\n",
              "      <td>C0160</td>\n",
              "    </tr>\n",
              "    <tr>\n",
              "      <th>4</th>\n",
              "      <td>4</td>\n",
              "      <td>1049</td>\n",
              "      <td>1</td>\n",
              "      <td>11/1/2004</td>\n",
              "      <td>Apartment</td>\n",
              "      <td>49</td>\n",
              "      <td>1375.45</td>\n",
              "      <td>$467,083.31</td>\n",
              "      <td>Sold</td>\n",
              "      <td>C0014</td>\n",
              "    </tr>\n",
              "  </tbody>\n",
              "</table>\n",
              "</div>"
            ],
            "text/plain": [
              "   Unnamed: 0   ﻿id  building  date_sale       type  property#     area   \n",
              "0           0  1030         1  11/1/2005  Apartment         30   743.09  \\\n",
              "1           1  1029         1  10/1/2005  Apartment         29   756.21   \n",
              "2           2  2002         2   7/1/2007  Apartment          2   587.28   \n",
              "3           3  2031         2  12/1/2007  Apartment         31  1604.75   \n",
              "4           4  1049         1  11/1/2004  Apartment         49  1375.45   \n",
              "\n",
              "          price  status customerid  \n",
              "0  $246,172.68    Sold      C0028   \n",
              "1  $246,331.90    Sold      C0027   \n",
              "2  $209,280.91    Sold      C0112   \n",
              "3  $452,667.01    Sold      C0160   \n",
              "4  $467,083.31    Sold      C0014   "
            ]
          },
          "execution_count": 330,
          "metadata": {},
          "output_type": "execute_result"
        }
      ],
      "source": [
        "properties.head()"
      ]
    },
    {
      "cell_type": "code",
      "execution_count": 331,
      "metadata": {},
      "outputs": [
        {
          "name": "stdout",
          "output_type": "stream",
          "text": [
            "<class 'pandas.core.frame.DataFrame'>\n",
            "RangeIndex: 267 entries, 0 to 266\n",
            "Data columns (total 10 columns):\n",
            " #   Column      Non-Null Count  Dtype  \n",
            "---  ------      --------------  -----  \n",
            " 0   Unnamed: 0  267 non-null    int64  \n",
            " 1   ﻿id         267 non-null    int64  \n",
            " 2   building    267 non-null    int64  \n",
            " 3   date_sale   267 non-null    object \n",
            " 4   type        267 non-null    object \n",
            " 5   property#   267 non-null    int64  \n",
            " 6   area        267 non-null    float64\n",
            " 7   price       267 non-null    object \n",
            " 8   status      267 non-null    object \n",
            " 9   customerid  195 non-null    object \n",
            "dtypes: float64(1), int64(4), object(5)\n",
            "memory usage: 21.0+ KB\n"
          ]
        }
      ],
      "source": [
        "properties.info()"
      ]
    },
    {
      "cell_type": "code",
      "execution_count": 332,
      "metadata": {},
      "outputs": [
        {
          "name": "stdout",
          "output_type": "stream",
          "text": [
            "Index(['Unnamed: 0', '﻿id', 'building', 'date_sale', 'type', 'property#',\n",
            "       'area', 'price', 'status', 'customerid'],\n",
            "      dtype='object')\n"
          ]
        }
      ],
      "source": [
        "print(properties.columns)"
      ]
    },
    {
      "cell_type": "code",
      "execution_count": 333,
      "metadata": {},
      "outputs": [
        {
          "data": {
            "text/html": [
              "<div>\n",
              "<style scoped>\n",
              "    .dataframe tbody tr th:only-of-type {\n",
              "        vertical-align: middle;\n",
              "    }\n",
              "\n",
              "    .dataframe tbody tr th {\n",
              "        vertical-align: top;\n",
              "    }\n",
              "\n",
              "    .dataframe thead th {\n",
              "        text-align: right;\n",
              "    }\n",
              "</style>\n",
              "<table border=\"1\" class=\"dataframe\">\n",
              "  <thead>\n",
              "    <tr style=\"text-align: right;\">\n",
              "      <th></th>\n",
              "      <th>Unnamed: 0</th>\n",
              "      <th>﻿id</th>\n",
              "      <th>building</th>\n",
              "      <th>property#</th>\n",
              "      <th>area</th>\n",
              "    </tr>\n",
              "  </thead>\n",
              "  <tbody>\n",
              "    <tr>\n",
              "      <th>count</th>\n",
              "      <td>267.000000</td>\n",
              "      <td>267.000000</td>\n",
              "      <td>267.000000</td>\n",
              "      <td>267.000000</td>\n",
              "      <td>267.000000</td>\n",
              "    </tr>\n",
              "    <tr>\n",
              "      <th>mean</th>\n",
              "      <td>133.000000</td>\n",
              "      <td>2975.142322</td>\n",
              "      <td>2.947566</td>\n",
              "      <td>27.580524</td>\n",
              "      <td>936.221311</td>\n",
              "    </tr>\n",
              "    <tr>\n",
              "      <th>std</th>\n",
              "      <td>77.220464</td>\n",
              "      <td>1392.197474</td>\n",
              "      <td>1.391794</td>\n",
              "      <td>15.361437</td>\n",
              "      <td>284.894858</td>\n",
              "    </tr>\n",
              "    <tr>\n",
              "      <th>min</th>\n",
              "      <td>0.000000</td>\n",
              "      <td>1002.000000</td>\n",
              "      <td>1.000000</td>\n",
              "      <td>1.000000</td>\n",
              "      <td>410.710000</td>\n",
              "    </tr>\n",
              "    <tr>\n",
              "      <th>25%</th>\n",
              "      <td>66.500000</td>\n",
              "      <td>2015.500000</td>\n",
              "      <td>2.000000</td>\n",
              "      <td>14.500000</td>\n",
              "      <td>756.210000</td>\n",
              "    </tr>\n",
              "    <tr>\n",
              "      <th>50%</th>\n",
              "      <td>133.000000</td>\n",
              "      <td>3024.000000</td>\n",
              "      <td>3.000000</td>\n",
              "      <td>28.000000</td>\n",
              "      <td>798.280000</td>\n",
              "    </tr>\n",
              "    <tr>\n",
              "      <th>75%</th>\n",
              "      <td>199.500000</td>\n",
              "      <td>4031.500000</td>\n",
              "      <td>4.000000</td>\n",
              "      <td>40.000000</td>\n",
              "      <td>1121.950000</td>\n",
              "    </tr>\n",
              "    <tr>\n",
              "      <th>max</th>\n",
              "      <td>266.000000</td>\n",
              "      <td>5052.000000</td>\n",
              "      <td>5.000000</td>\n",
              "      <td>59.000000</td>\n",
              "      <td>1942.500000</td>\n",
              "    </tr>\n",
              "  </tbody>\n",
              "</table>\n",
              "</div>"
            ],
            "text/plain": [
              "       Unnamed: 0          ﻿id    building   property#         area\n",
              "count  267.000000   267.000000  267.000000  267.000000   267.000000\n",
              "mean   133.000000  2975.142322    2.947566   27.580524   936.221311\n",
              "std     77.220464  1392.197474    1.391794   15.361437   284.894858\n",
              "min      0.000000  1002.000000    1.000000    1.000000   410.710000\n",
              "25%     66.500000  2015.500000    2.000000   14.500000   756.210000\n",
              "50%    133.000000  3024.000000    3.000000   28.000000   798.280000\n",
              "75%    199.500000  4031.500000    4.000000   40.000000  1121.950000\n",
              "max    266.000000  5052.000000    5.000000   59.000000  1942.500000"
            ]
          },
          "execution_count": 333,
          "metadata": {},
          "output_type": "execute_result"
        }
      ],
      "source": [
        "properties.describe()"
      ]
    },
    {
      "cell_type": "code",
      "execution_count": 334,
      "metadata": {},
      "outputs": [
        {
          "data": {
            "text/plain": [
              "(267, 10)"
            ]
          },
          "execution_count": 334,
          "metadata": {},
          "output_type": "execute_result"
        }
      ],
      "source": [
        "properties.shape"
      ]
    },
    {
      "cell_type": "markdown",
      "metadata": {},
      "source": [
        "### Data preparation "
      ]
    },
    {
      "cell_type": "code",
      "execution_count": 335,
      "metadata": {},
      "outputs": [],
      "source": [
        "properties['customerid'] = properties['customerid'].str.replace('C', '')"
      ]
    },
    {
      "cell_type": "code",
      "execution_count": 336,
      "metadata": {},
      "outputs": [],
      "source": [
        "properties.drop(columns=['Unnamed: 0'], axis=1, inplace=True)\n",
        "properties.drop(columns=['﻿id'], inplace=True)"
      ]
    },
    {
      "cell_type": "markdown",
      "metadata": {},
      "source": [
        "### Data dtypes"
      ]
    },
    {
      "cell_type": "code",
      "execution_count": 337,
      "metadata": {},
      "outputs": [
        {
          "data": {
            "text/plain": [
              "building        int64\n",
              "date_sale      object\n",
              "type           object\n",
              "property#       int64\n",
              "area          float64\n",
              "price          object\n",
              "status         object\n",
              "customerid     object\n",
              "dtype: object"
            ]
          },
          "execution_count": 337,
          "metadata": {},
          "output_type": "execute_result"
        }
      ],
      "source": [
        "properties.dtypes"
      ]
    },
    {
      "cell_type": "code",
      "execution_count": 338,
      "metadata": {},
      "outputs": [
        {
          "data": {
            "text/plain": [
              "array([' 0028 ', ' 0027 ', ' 0112 ', ' 0160 ', ' 0014 ', ' 0125 ',\n",
              "       ' 0166 ', ' 0034 ', ' 0170 ', ' 0009 ', ' 0041 ', ' 0057 ',\n",
              "       ' 0061 ', ' 0089 ', ' 0159 ', ' 0171 ', ' 0042 ', ' 0093 ',\n",
              "       ' 0051 ', ' 0064 ', ' 0128 ', ' 0019 ', ' 0037 ', ' 0127 ',\n",
              "       ' 0018 ', ' 0040 ', ' 0080 ', ' 0083 ', ' 0085 ', ' 0091 ',\n",
              "       ' 0007 ', ' 0048 ', ' 0065 ', ' 0096 ', ' 0164 ', ' 0038 ',\n",
              "       ' 0087 ', ' 0142 ', ' 0015 ', ' 0122 ', ' 0017 ', ' 0020 ',\n",
              "       ' 0086 ', ' 0150 ', ' 0156 ', ' 0169 ', ' 0022 ', ' 0072 ',\n",
              "       ' 0136 ', ' 0149 ', ' 0011 ', ' 0073 ', ' 0110 ', ' 0111 ',\n",
              "       ' 0123 ', ' 0070 ', ' 0075 ', ' 0076 ', ' 0105 ', ' 0135 ',\n",
              "       ' 0153 ', ' 0047 ', ' 0060 ', ' 0066 ', ' 0068 ', ' 0090 ',\n",
              "       ' 0095 ', ' 0151 ', ' 0162 ', ' 0010 ', ' 0054 ', ' 0056 ',\n",
              "       ' 0081 ', ' 0084 ', ' 0016 ', ' 0035 ', ' 0062 ', ' 0099 ',\n",
              "       ' 0114 ', ' 0006 ', ' 0053 ', ' 0069 ', ' 0077 ', ' 0168 ',\n",
              "       ' 0058 ', ' 0107 ', ' 0131 ', ' 0144 ', ' 0098 ', ' 0130 ',\n",
              "       ' 0141 ', ' 0067 ', ' 0082 ', ' 0113 ', ' 0132 ', ' 0137 ',\n",
              "       ' 0155 ', ' 0163 ', ' 0039 ', ' 0071 ', ' 0101 ', ' 0146 ',\n",
              "       ' 0052 ', ' 0063 ', ' 0088 ', ' 0094 ', ' 0165 ', ' 0044 ',\n",
              "       ' 0157 ', ' 0118 ', ' 0119 ', ' 0033 ', ' 0100 ', ' 0133 ',\n",
              "       ' 0175 ', ' 0008 ', ' 0023 ', ' 0108 ', ' 0109 ', ' 0145 ',\n",
              "       ' 0003 ', ' 0004 ', ' 0024 ', ' 0030 ', ' 0147 ', ' 0002 ',\n",
              "       ' 0031 ', ' 0059 ', ' 0140 ', ' 0043 ', ' 0078 ', ' 0124 ',\n",
              "       ' 0049 ', ' 0079 ', ' 0013 ', ' 0139 ', ' 0154 ', ' 0045 ',\n",
              "       ' 0134 ', ' 0138 ', ' 0158 ', ' 0036 ', ' 0074 ', ' 0120 ',\n",
              "       ' 0005 ', ' 0032 ', ' 0126 ', ' 0106 ', ' 0115 ', ' 0129 ',\n",
              "       ' 0103 ', ' 0021 ', ' 0148 ', ' 0172 ', ' 0104 ', nan, ' 0001 ',\n",
              "       ' 0012 ', ' 0025 ', ' 0029 ', ' 0055 ', ' 0121 ', ' 0174 '],\n",
              "      dtype=object)"
            ]
          },
          "execution_count": 338,
          "metadata": {},
          "output_type": "execute_result"
        }
      ],
      "source": [
        "properties['customerid'].unique()"
      ]
    },
    {
      "cell_type": "code",
      "execution_count": 339,
      "metadata": {},
      "outputs": [],
      "source": [
        "# Remove leading and trailing spaces and any non-numeric characters\n",
        "properties['customerid'] = properties['customerid'].str.replace(r'\\D', '', regex=True)\n",
        "properties['customerid'] = properties['customerid'].astype(float).astype('Int64')  # Convert to Nullable Integer\n"
      ]
    },
    {
      "cell_type": "code",
      "execution_count": 340,
      "metadata": {},
      "outputs": [],
      "source": [
        "# Define the list of possible imputation values\n",
        "impute_values = [110, 10, 132, 137, 174, 88, 79, 149, 64, 68, 6, 55, 16, 121, 74, 32, 93, 76, 165, 153, 129, 162, 71, 69, 5, 144, 20, 101, 128, 33, 171, 95, 123, 15, 84, 19, 53, 80, 70, 51, 22, 127, 81, 104, 73, 168, 169, 39, 86, 36, 45, 105, 119, 12, 65, 54, 172, 29, 98, 142, 135, 37, 134, 91, 18, 85, 61, 66, 156, 43, 112, 145, 47, 82, 7, 52, 41, 4, 118, 30, 154, 125, 115, 78, 151, 111, 14, 103, 24, 166, 67, 122, 107, 3, 99, 160, 13, 59, 120, 150, 140, 2, 96, 159, 163, 100, 155, 49, 148, 146, 34, 141, 8, 131, 89, 157, 114, 124, 158, 175, 23, 164, 58, 62, 42, 48, 83, 25, 87, 94, 38, 11, 139, 21, 106, 40, 35, 126, 136, 109, 28, 57, 130, 44, 56, 77, 31, 72, 63, 17, 9, 75, 27, 60, 1, 90, 108, 170, 138, 113, 147, 133]\n",
        "\n",
        "# Iterate through the DataFrame to replace NaN values\n",
        "for value in impute_values:\n",
        "    properties['customerid'].fillna(value=value, inplace=True)\n",
        "\n",
        "# If there are still NaN values left, you can fill them with a default value, for example, -1\n",
        "properties['customerid'].fillna(value=-1, inplace=True)"
      ]
    },
    {
      "cell_type": "code",
      "execution_count": 341,
      "metadata": {},
      "outputs": [
        {
          "data": {
            "text/plain": [
              "<IntegerArray>\n",
              "[ 28,  27, 112, 160,  14, 125, 166,  34, 170,   9,\n",
              " ...\n",
              " 148, 172, 104,   1,  12,  25,  29,  55, 121, 174]\n",
              "Length: 162, dtype: Int64"
            ]
          },
          "execution_count": 341,
          "metadata": {},
          "output_type": "execute_result"
        }
      ],
      "source": [
        "properties['customerid'].unique()"
      ]
    },
    {
      "cell_type": "code",
      "execution_count": 342,
      "metadata": {},
      "outputs": [],
      "source": [
        "properties['type'] = properties['type'].astype('string')\n",
        "properties['status'] = properties['status'].astype('string')"
      ]
    },
    {
      "cell_type": "markdown",
      "metadata": {},
      "source": [
        "Note : The errors='coerce' parameter will convert invalid dates to NaT (Not a Timestamp), which represents missing values."
      ]
    },
    {
      "cell_type": "code",
      "execution_count": 343,
      "metadata": {},
      "outputs": [],
      "source": [
        "properties['date_sale'] = pd.to_datetime(properties['date_sale'], format='%m/%d/%Y', errors='coerce')"
      ]
    },
    {
      "cell_type": "code",
      "execution_count": 344,
      "metadata": {},
      "outputs": [],
      "source": [
        "properties['price'] = properties['price'].str.replace('$','').str.replace(',','').astype('float64')"
      ]
    },
    {
      "cell_type": "markdown",
      "metadata": {},
      "source": [
        "##### Rename Property column"
      ]
    },
    {
      "cell_type": "code",
      "execution_count": 345,
      "metadata": {},
      "outputs": [],
      "source": [
        "properties.rename(columns={'property#':'property','date_sale':'datesale'},inplace=True )\n"
      ]
    },
    {
      "cell_type": "code",
      "execution_count": 346,
      "metadata": {},
      "outputs": [
        {
          "data": {
            "text/html": [
              "<div>\n",
              "<style scoped>\n",
              "    .dataframe tbody tr th:only-of-type {\n",
              "        vertical-align: middle;\n",
              "    }\n",
              "\n",
              "    .dataframe tbody tr th {\n",
              "        vertical-align: top;\n",
              "    }\n",
              "\n",
              "    .dataframe thead th {\n",
              "        text-align: right;\n",
              "    }\n",
              "</style>\n",
              "<table border=\"1\" class=\"dataframe\">\n",
              "  <thead>\n",
              "    <tr style=\"text-align: right;\">\n",
              "      <th></th>\n",
              "      <th>building</th>\n",
              "      <th>datesale</th>\n",
              "      <th>type</th>\n",
              "      <th>property</th>\n",
              "      <th>area</th>\n",
              "      <th>price</th>\n",
              "      <th>status</th>\n",
              "      <th>customerid</th>\n",
              "    </tr>\n",
              "  </thead>\n",
              "  <tbody>\n",
              "    <tr>\n",
              "      <th>0</th>\n",
              "      <td>1</td>\n",
              "      <td>2005-11-01</td>\n",
              "      <td>Apartment</td>\n",
              "      <td>30</td>\n",
              "      <td>743.09</td>\n",
              "      <td>246172.68</td>\n",
              "      <td>Sold</td>\n",
              "      <td>28</td>\n",
              "    </tr>\n",
              "    <tr>\n",
              "      <th>1</th>\n",
              "      <td>1</td>\n",
              "      <td>2005-10-01</td>\n",
              "      <td>Apartment</td>\n",
              "      <td>29</td>\n",
              "      <td>756.21</td>\n",
              "      <td>246331.90</td>\n",
              "      <td>Sold</td>\n",
              "      <td>27</td>\n",
              "    </tr>\n",
              "    <tr>\n",
              "      <th>2</th>\n",
              "      <td>2</td>\n",
              "      <td>2007-07-01</td>\n",
              "      <td>Apartment</td>\n",
              "      <td>2</td>\n",
              "      <td>587.28</td>\n",
              "      <td>209280.91</td>\n",
              "      <td>Sold</td>\n",
              "      <td>112</td>\n",
              "    </tr>\n",
              "    <tr>\n",
              "      <th>3</th>\n",
              "      <td>2</td>\n",
              "      <td>2007-12-01</td>\n",
              "      <td>Apartment</td>\n",
              "      <td>31</td>\n",
              "      <td>1604.75</td>\n",
              "      <td>452667.01</td>\n",
              "      <td>Sold</td>\n",
              "      <td>160</td>\n",
              "    </tr>\n",
              "    <tr>\n",
              "      <th>4</th>\n",
              "      <td>1</td>\n",
              "      <td>2004-11-01</td>\n",
              "      <td>Apartment</td>\n",
              "      <td>49</td>\n",
              "      <td>1375.45</td>\n",
              "      <td>467083.31</td>\n",
              "      <td>Sold</td>\n",
              "      <td>14</td>\n",
              "    </tr>\n",
              "    <tr>\n",
              "      <th>5</th>\n",
              "      <td>3</td>\n",
              "      <td>2007-09-01</td>\n",
              "      <td>Apartment</td>\n",
              "      <td>11</td>\n",
              "      <td>675.19</td>\n",
              "      <td>203491.85</td>\n",
              "      <td>Sold</td>\n",
              "      <td>125</td>\n",
              "    </tr>\n",
              "    <tr>\n",
              "      <th>6</th>\n",
              "      <td>3</td>\n",
              "      <td>2007-09-01</td>\n",
              "      <td>Apartment</td>\n",
              "      <td>26</td>\n",
              "      <td>670.89</td>\n",
              "      <td>212520.83</td>\n",
              "      <td>Sold</td>\n",
              "      <td>125</td>\n",
              "    </tr>\n",
              "    <tr>\n",
              "      <th>7</th>\n",
              "      <td>3</td>\n",
              "      <td>2008-01-01</td>\n",
              "      <td>Apartment</td>\n",
              "      <td>23</td>\n",
              "      <td>720.81</td>\n",
              "      <td>198591.85</td>\n",
              "      <td>Sold</td>\n",
              "      <td>166</td>\n",
              "    </tr>\n",
              "    <tr>\n",
              "      <th>8</th>\n",
              "      <td>1</td>\n",
              "      <td>2006-06-01</td>\n",
              "      <td>Apartment</td>\n",
              "      <td>31</td>\n",
              "      <td>782.25</td>\n",
              "      <td>265467.68</td>\n",
              "      <td>Sold</td>\n",
              "      <td>34</td>\n",
              "    </tr>\n",
              "    <tr>\n",
              "      <th>9</th>\n",
              "      <td>4</td>\n",
              "      <td>2006-03-01</td>\n",
              "      <td>Apartment</td>\n",
              "      <td>23</td>\n",
              "      <td>794.52</td>\n",
              "      <td>235633.26</td>\n",
              "      <td>Sold</td>\n",
              "      <td>170</td>\n",
              "    </tr>\n",
              "  </tbody>\n",
              "</table>\n",
              "</div>"
            ],
            "text/plain": [
              "   building   datesale       type  property     area      price  status   \n",
              "0         1 2005-11-01  Apartment        30   743.09  246172.68   Sold   \\\n",
              "1         1 2005-10-01  Apartment        29   756.21  246331.90   Sold    \n",
              "2         2 2007-07-01  Apartment         2   587.28  209280.91   Sold    \n",
              "3         2 2007-12-01  Apartment        31  1604.75  452667.01   Sold    \n",
              "4         1 2004-11-01  Apartment        49  1375.45  467083.31   Sold    \n",
              "5         3 2007-09-01  Apartment        11   675.19  203491.85   Sold    \n",
              "6         3 2007-09-01  Apartment        26   670.89  212520.83   Sold    \n",
              "7         3 2008-01-01  Apartment        23   720.81  198591.85   Sold    \n",
              "8         1 2006-06-01  Apartment        31   782.25  265467.68   Sold    \n",
              "9         4 2006-03-01  Apartment        23   794.52  235633.26   Sold    \n",
              "\n",
              "   customerid  \n",
              "0          28  \n",
              "1          27  \n",
              "2         112  \n",
              "3         160  \n",
              "4          14  \n",
              "5         125  \n",
              "6         125  \n",
              "7         166  \n",
              "8          34  \n",
              "9         170  "
            ]
          },
          "execution_count": 346,
          "metadata": {},
          "output_type": "execute_result"
        }
      ],
      "source": [
        "properties.head(10)"
      ]
    },
    {
      "cell_type": "code",
      "execution_count": 347,
      "metadata": {},
      "outputs": [
        {
          "data": {
            "text/plain": [
              "building               int64\n",
              "datesale      datetime64[ns]\n",
              "type          string[python]\n",
              "property               int64\n",
              "area                 float64\n",
              "price                float64\n",
              "status        string[python]\n",
              "customerid             Int64\n",
              "dtype: object"
            ]
          },
          "execution_count": 347,
          "metadata": {},
          "output_type": "execute_result"
        }
      ],
      "source": [
        "properties.dtypes"
      ]
    },
    {
      "cell_type": "code",
      "execution_count": 348,
      "metadata": {},
      "outputs": [],
      "source": [
        "categorical_cols = ['status', 'type']"
      ]
    },
    {
      "cell_type": "markdown",
      "metadata": {},
      "source": [
        "1 - status column"
      ]
    },
    {
      "cell_type": "code",
      "execution_count": 349,
      "metadata": {},
      "outputs": [],
      "source": [
        "properties['status'] = properties['status'].str.lower()"
      ]
    },
    {
      "cell_type": "code",
      "execution_count": 350,
      "metadata": {},
      "outputs": [
        {
          "data": {
            "text/plain": [
              "<StringArray>\n",
              "[' sold ', '-']\n",
              "Length: 2, dtype: string"
            ]
          },
          "execution_count": 350,
          "metadata": {},
          "output_type": "execute_result"
        }
      ],
      "source": [
        "properties['status'].unique()"
      ]
    },
    {
      "cell_type": "code",
      "execution_count": 351,
      "metadata": {},
      "outputs": [],
      "source": [
        "properties['status'] = properties['status'].replace('-', 'unknown')"
      ]
    },
    {
      "cell_type": "code",
      "execution_count": 352,
      "metadata": {},
      "outputs": [],
      "source": [
        "properties['status'] = label_encoder.fit_transform(properties['status'])"
      ]
    },
    {
      "cell_type": "code",
      "execution_count": 353,
      "metadata": {},
      "outputs": [
        {
          "data": {
            "text/plain": [
              "array([0, 1])"
            ]
          },
          "execution_count": 353,
          "metadata": {},
          "output_type": "execute_result"
        }
      ],
      "source": [
        "properties['status'].unique()"
      ]
    },
    {
      "cell_type": "markdown",
      "metadata": {},
      "source": [
        "2 - type column"
      ]
    },
    {
      "cell_type": "code",
      "execution_count": 354,
      "metadata": {},
      "outputs": [],
      "source": [
        "properties['type'] = properties['type'].str.lower()"
      ]
    },
    {
      "cell_type": "code",
      "execution_count": 355,
      "metadata": {},
      "outputs": [
        {
          "data": {
            "text/plain": [
              "<StringArray>\n",
              "['apartment', 'office']\n",
              "Length: 2, dtype: string"
            ]
          },
          "execution_count": 355,
          "metadata": {},
          "output_type": "execute_result"
        }
      ],
      "source": [
        "properties['type'].unique()"
      ]
    },
    {
      "cell_type": "code",
      "execution_count": 356,
      "metadata": {},
      "outputs": [],
      "source": [
        "properties['type'] = label_encoder.fit_transform(properties['type'])"
      ]
    },
    {
      "cell_type": "code",
      "execution_count": 357,
      "metadata": {},
      "outputs": [
        {
          "data": {
            "text/html": [
              "<div>\n",
              "<style scoped>\n",
              "    .dataframe tbody tr th:only-of-type {\n",
              "        vertical-align: middle;\n",
              "    }\n",
              "\n",
              "    .dataframe tbody tr th {\n",
              "        vertical-align: top;\n",
              "    }\n",
              "\n",
              "    .dataframe thead th {\n",
              "        text-align: right;\n",
              "    }\n",
              "</style>\n",
              "<table border=\"1\" class=\"dataframe\">\n",
              "  <thead>\n",
              "    <tr style=\"text-align: right;\">\n",
              "      <th></th>\n",
              "      <th>building</th>\n",
              "      <th>datesale</th>\n",
              "      <th>type</th>\n",
              "      <th>property</th>\n",
              "      <th>area</th>\n",
              "      <th>price</th>\n",
              "      <th>status</th>\n",
              "      <th>customerid</th>\n",
              "    </tr>\n",
              "  </thead>\n",
              "  <tbody>\n",
              "    <tr>\n",
              "      <th>0</th>\n",
              "      <td>1</td>\n",
              "      <td>2005-11-01</td>\n",
              "      <td>0</td>\n",
              "      <td>30</td>\n",
              "      <td>743.09</td>\n",
              "      <td>246172.68</td>\n",
              "      <td>0</td>\n",
              "      <td>28</td>\n",
              "    </tr>\n",
              "    <tr>\n",
              "      <th>1</th>\n",
              "      <td>1</td>\n",
              "      <td>2005-10-01</td>\n",
              "      <td>0</td>\n",
              "      <td>29</td>\n",
              "      <td>756.21</td>\n",
              "      <td>246331.90</td>\n",
              "      <td>0</td>\n",
              "      <td>27</td>\n",
              "    </tr>\n",
              "    <tr>\n",
              "      <th>2</th>\n",
              "      <td>2</td>\n",
              "      <td>2007-07-01</td>\n",
              "      <td>0</td>\n",
              "      <td>2</td>\n",
              "      <td>587.28</td>\n",
              "      <td>209280.91</td>\n",
              "      <td>0</td>\n",
              "      <td>112</td>\n",
              "    </tr>\n",
              "    <tr>\n",
              "      <th>3</th>\n",
              "      <td>2</td>\n",
              "      <td>2007-12-01</td>\n",
              "      <td>0</td>\n",
              "      <td>31</td>\n",
              "      <td>1604.75</td>\n",
              "      <td>452667.01</td>\n",
              "      <td>0</td>\n",
              "      <td>160</td>\n",
              "    </tr>\n",
              "    <tr>\n",
              "      <th>4</th>\n",
              "      <td>1</td>\n",
              "      <td>2004-11-01</td>\n",
              "      <td>0</td>\n",
              "      <td>49</td>\n",
              "      <td>1375.45</td>\n",
              "      <td>467083.31</td>\n",
              "      <td>0</td>\n",
              "      <td>14</td>\n",
              "    </tr>\n",
              "    <tr>\n",
              "      <th>5</th>\n",
              "      <td>3</td>\n",
              "      <td>2007-09-01</td>\n",
              "      <td>0</td>\n",
              "      <td>11</td>\n",
              "      <td>675.19</td>\n",
              "      <td>203491.85</td>\n",
              "      <td>0</td>\n",
              "      <td>125</td>\n",
              "    </tr>\n",
              "    <tr>\n",
              "      <th>6</th>\n",
              "      <td>3</td>\n",
              "      <td>2007-09-01</td>\n",
              "      <td>0</td>\n",
              "      <td>26</td>\n",
              "      <td>670.89</td>\n",
              "      <td>212520.83</td>\n",
              "      <td>0</td>\n",
              "      <td>125</td>\n",
              "    </tr>\n",
              "    <tr>\n",
              "      <th>7</th>\n",
              "      <td>3</td>\n",
              "      <td>2008-01-01</td>\n",
              "      <td>0</td>\n",
              "      <td>23</td>\n",
              "      <td>720.81</td>\n",
              "      <td>198591.85</td>\n",
              "      <td>0</td>\n",
              "      <td>166</td>\n",
              "    </tr>\n",
              "    <tr>\n",
              "      <th>8</th>\n",
              "      <td>1</td>\n",
              "      <td>2006-06-01</td>\n",
              "      <td>0</td>\n",
              "      <td>31</td>\n",
              "      <td>782.25</td>\n",
              "      <td>265467.68</td>\n",
              "      <td>0</td>\n",
              "      <td>34</td>\n",
              "    </tr>\n",
              "    <tr>\n",
              "      <th>9</th>\n",
              "      <td>4</td>\n",
              "      <td>2006-03-01</td>\n",
              "      <td>0</td>\n",
              "      <td>23</td>\n",
              "      <td>794.52</td>\n",
              "      <td>235633.26</td>\n",
              "      <td>0</td>\n",
              "      <td>170</td>\n",
              "    </tr>\n",
              "  </tbody>\n",
              "</table>\n",
              "</div>"
            ],
            "text/plain": [
              "   building   datesale  type  property     area      price  status  customerid\n",
              "0         1 2005-11-01     0        30   743.09  246172.68       0          28\n",
              "1         1 2005-10-01     0        29   756.21  246331.90       0          27\n",
              "2         2 2007-07-01     0         2   587.28  209280.91       0         112\n",
              "3         2 2007-12-01     0        31  1604.75  452667.01       0         160\n",
              "4         1 2004-11-01     0        49  1375.45  467083.31       0          14\n",
              "5         3 2007-09-01     0        11   675.19  203491.85       0         125\n",
              "6         3 2007-09-01     0        26   670.89  212520.83       0         125\n",
              "7         3 2008-01-01     0        23   720.81  198591.85       0         166\n",
              "8         1 2006-06-01     0        31   782.25  265467.68       0          34\n",
              "9         4 2006-03-01     0        23   794.52  235633.26       0         170"
            ]
          },
          "execution_count": 357,
          "metadata": {},
          "output_type": "execute_result"
        }
      ],
      "source": [
        "properties.head(10)"
      ]
    },
    {
      "cell_type": "markdown",
      "metadata": {},
      "source": [
        "#### Missing values"
      ]
    },
    {
      "cell_type": "code",
      "execution_count": 358,
      "metadata": {},
      "outputs": [
        {
          "data": {
            "text/plain": [
              "building       0\n",
              "datesale      72\n",
              "type           0\n",
              "property       0\n",
              "area           0\n",
              "price          0\n",
              "status         0\n",
              "customerid     0\n",
              "dtype: int64"
            ]
          },
          "execution_count": 358,
          "metadata": {},
          "output_type": "execute_result"
        }
      ],
      "source": [
        "properties.isna().sum()"
      ]
    },
    {
      "cell_type": "code",
      "execution_count": 359,
      "metadata": {},
      "outputs": [
        {
          "data": {
            "text/plain": [
              "<Axes: >"
            ]
          },
          "execution_count": 359,
          "metadata": {},
          "output_type": "execute_result"
        },
        {
          "data": {
            "image/png": "[encoded data removed]",
            "text/plain": [
              "<Figure size 2500x1000 with 2 Axes>"
            ]
          },
          "metadata": {},
          "output_type": "display_data"
        }
      ],
      "source": [
        "msno.matrix(properties)"
      ]
    },
    {
      "cell_type": "code",
      "execution_count": 360,
      "metadata": {},
      "outputs": [],
      "source": [
        "missing_values = ((properties.isna().sum() * 100)/ properties.shape[0]).round()"
      ]
    },
    {
      "cell_type": "code",
      "execution_count": 361,
      "metadata": {},
      "outputs": [
        {
          "name": "stdout",
          "output_type": "stream",
          "text": [
            "building       0.0\n",
            "datesale      27.0\n",
            "type           0.0\n",
            "property       0.0\n",
            "area           0.0\n",
            "price          0.0\n",
            "status         0.0\n",
            "customerid     0.0\n",
            "dtype: float64\n"
          ]
        }
      ],
      "source": [
        "print(missing_values)"
      ]
    },
    {
      "cell_type": "markdown",
      "metadata": {},
      "source": [
        "##### Datesale column missing values"
      ]
    },
    {
      "cell_type": "code",
      "execution_count": 362,
      "metadata": {},
      "outputs": [],
      "source": [
        "properties.sort_values(by='datesale', inplace=True)"
      ]
    },
    {
      "cell_type": "code",
      "execution_count": 363,
      "metadata": {},
      "outputs": [],
      "source": [
        "properties['datesale'].fillna(method='ffill', inplace=True)"
      ]
    },
    {
      "cell_type": "markdown",
      "metadata": {},
      "source": [
        "Note : \n",
        "* Forward-Fill (ffill): This method fills missing values with the previous (above) non-missing value in the same column. It's particularly useful when dealing with time series data or ordered data where the sequence matters."
      ]
    },
    {
      "cell_type": "code",
      "execution_count": 364,
      "metadata": {},
      "outputs": [
        {
          "data": {
            "text/html": [
              "<div>\n",
              "<style scoped>\n",
              "    .dataframe tbody tr th:only-of-type {\n",
              "        vertical-align: middle;\n",
              "    }\n",
              "\n",
              "    .dataframe tbody tr th {\n",
              "        vertical-align: top;\n",
              "    }\n",
              "\n",
              "    .dataframe thead th {\n",
              "        text-align: right;\n",
              "    }\n",
              "</style>\n",
              "<table border=\"1\" class=\"dataframe\">\n",
              "  <thead>\n",
              "    <tr style=\"text-align: right;\">\n",
              "      <th></th>\n",
              "      <th>building</th>\n",
              "      <th>datesale</th>\n",
              "      <th>type</th>\n",
              "      <th>property</th>\n",
              "      <th>area</th>\n",
              "      <th>price</th>\n",
              "      <th>status</th>\n",
              "      <th>customerid</th>\n",
              "    </tr>\n",
              "  </thead>\n",
              "  <tbody>\n",
              "    <tr>\n",
              "      <th>137</th>\n",
              "      <td>1</td>\n",
              "      <td>2004-03-01</td>\n",
              "      <td>1</td>\n",
              "      <td>2</td>\n",
              "      <td>1238.58</td>\n",
              "      <td>410932.67</td>\n",
              "      <td>0</td>\n",
              "      <td>2</td>\n",
              "    </tr>\n",
              "    <tr>\n",
              "      <th>186</th>\n",
              "      <td>2</td>\n",
              "      <td>2004-03-01</td>\n",
              "      <td>0</td>\n",
              "      <td>1</td>\n",
              "      <td>587.28</td>\n",
              "      <td>169158.29</td>\n",
              "      <td>0</td>\n",
              "      <td>121</td>\n",
              "    </tr>\n",
              "    <tr>\n",
              "      <th>179</th>\n",
              "      <td>1</td>\n",
              "      <td>2004-03-01</td>\n",
              "      <td>1</td>\n",
              "      <td>5</td>\n",
              "      <td>410.71</td>\n",
              "      <td>117564.07</td>\n",
              "      <td>0</td>\n",
              "      <td>1</td>\n",
              "    </tr>\n",
              "    <tr>\n",
              "      <th>132</th>\n",
              "      <td>1</td>\n",
              "      <td>2004-06-01</td>\n",
              "      <td>0</td>\n",
              "      <td>44</td>\n",
              "      <td>827.87</td>\n",
              "      <td>229464.71</td>\n",
              "      <td>0</td>\n",
              "      <td>3</td>\n",
              "    </tr>\n",
              "    <tr>\n",
              "      <th>133</th>\n",
              "      <td>1</td>\n",
              "      <td>2004-06-01</td>\n",
              "      <td>0</td>\n",
              "      <td>43</td>\n",
              "      <td>1160.36</td>\n",
              "      <td>377313.56</td>\n",
              "      <td>0</td>\n",
              "      <td>4</td>\n",
              "    </tr>\n",
              "    <tr>\n",
              "      <th>83</th>\n",
              "      <td>1</td>\n",
              "      <td>2004-08-01</td>\n",
              "      <td>0</td>\n",
              "      <td>38</td>\n",
              "      <td>743.09</td>\n",
              "      <td>207581.43</td>\n",
              "      <td>0</td>\n",
              "      <td>6</td>\n",
              "    </tr>\n",
              "    <tr>\n",
              "      <th>164</th>\n",
              "      <td>1</td>\n",
              "      <td>2004-08-01</td>\n",
              "      <td>0</td>\n",
              "      <td>33</td>\n",
              "      <td>1434.09</td>\n",
              "      <td>412856.56</td>\n",
              "      <td>0</td>\n",
              "      <td>5</td>\n",
              "    </tr>\n",
              "    <tr>\n",
              "      <th>33</th>\n",
              "      <td>1</td>\n",
              "      <td>2004-10-01</td>\n",
              "      <td>0</td>\n",
              "      <td>18</td>\n",
              "      <td>625.80</td>\n",
              "      <td>191389.87</td>\n",
              "      <td>0</td>\n",
              "      <td>7</td>\n",
              "    </tr>\n",
              "    <tr>\n",
              "      <th>53</th>\n",
              "      <td>1</td>\n",
              "      <td>2004-10-01</td>\n",
              "      <td>0</td>\n",
              "      <td>35</td>\n",
              "      <td>827.87</td>\n",
              "      <td>238811.06</td>\n",
              "      <td>0</td>\n",
              "      <td>11</td>\n",
              "    </tr>\n",
              "    <tr>\n",
              "      <th>72</th>\n",
              "      <td>1</td>\n",
              "      <td>2004-10-01</td>\n",
              "      <td>0</td>\n",
              "      <td>45</td>\n",
              "      <td>756.21</td>\n",
              "      <td>248525.12</td>\n",
              "      <td>0</td>\n",
              "      <td>10</td>\n",
              "    </tr>\n",
              "  </tbody>\n",
              "</table>\n",
              "</div>"
            ],
            "text/plain": [
              "     building   datesale  type  property     area      price  status   \n",
              "137         1 2004-03-01     1         2  1238.58  410932.67       0  \\\n",
              "186         2 2004-03-01     0         1   587.28  169158.29       0   \n",
              "179         1 2004-03-01     1         5   410.71  117564.07       0   \n",
              "132         1 2004-06-01     0        44   827.87  229464.71       0   \n",
              "133         1 2004-06-01     0        43  1160.36  377313.56       0   \n",
              "83          1 2004-08-01     0        38   743.09  207581.43       0   \n",
              "164         1 2004-08-01     0        33  1434.09  412856.56       0   \n",
              "33          1 2004-10-01     0        18   625.80  191389.87       0   \n",
              "53          1 2004-10-01     0        35   827.87  238811.06       0   \n",
              "72          1 2004-10-01     0        45   756.21  248525.12       0   \n",
              "\n",
              "     customerid  \n",
              "137           2  \n",
              "186         121  \n",
              "179           1  \n",
              "132           3  \n",
              "133           4  \n",
              "83            6  \n",
              "164           5  \n",
              "33            7  \n",
              "53           11  \n",
              "72           10  "
            ]
          },
          "execution_count": 364,
          "metadata": {},
          "output_type": "execute_result"
        }
      ],
      "source": [
        "properties.head(10)"
      ]
    },
    {
      "cell_type": "markdown",
      "metadata": {},
      "source": [
        "##### Customerid column missing values"
      ]
    },
    {
      "cell_type": "code",
      "execution_count": 365,
      "metadata": {},
      "outputs": [
        {
          "data": {
            "text/plain": [
              "building      0\n",
              "datesale      0\n",
              "type          0\n",
              "property      0\n",
              "area          0\n",
              "price         0\n",
              "status        0\n",
              "customerid    0\n",
              "dtype: int64"
            ]
          },
          "execution_count": 365,
          "metadata": {},
          "output_type": "execute_result"
        }
      ],
      "source": [
        "properties.isna().sum()"
      ]
    },
    {
      "cell_type": "code",
      "execution_count": 366,
      "metadata": {},
      "outputs": [
        {
          "data": {
            "text/plain": [
              "137      2\n",
              "186    121\n",
              "179      1\n",
              "132      3\n",
              "133      4\n",
              "      ... \n",
              "262    110\n",
              "263    110\n",
              "264    110\n",
              "265    110\n",
              "266    110\n",
              "Name: customerid, Length: 267, dtype: Int64"
            ]
          },
          "execution_count": 366,
          "metadata": {},
          "output_type": "execute_result"
        }
      ],
      "source": [
        "properties['customerid']"
      ]
    },
    {
      "cell_type": "code",
      "execution_count": 367,
      "metadata": {},
      "outputs": [
        {
          "name": "stdout",
          "output_type": "stream",
          "text": [
            "Common customer IDs found:\n",
            "{1, 2, 3, 4, 5, 6, 7, 8, 9, 10, 11, 12, 13, 14, 15, 16, 17, 18, 19, 20, 21, 22, 23, 24, 25, 27, 28, 29, 30, 31, 32, 33, 34, 35, 36, 37, 38, 39, 40, 41, 42, 43, 44, 45, 47, 48, 49, 51, 52, 53, 54, 55, 56, 57, 58, 59, 60, 61, 62, 63, 64, 65, 66, 67, 68, 69, 70, 71, 72, 73, 74, 75, 76, 77, 78, 79, 80, 81, 82, 83, 84, 85, 86, 87, 88, 89, 90, 91, 93, 94, 95, 96, 98, 99, 100, 101, 103, 104, 105, 106, 107, 108, 109, 110, 111, 112, 113, 114, 115, 118, 119, 120, 121, 122, 123, 124, 125, 126, 127, 128, 129, 130, 131, 132, 133, 134, 135, 136, 137, 138, 139, 140, 141, 142, 144, 145, 146, 147, 148, 149, 150, 151, 153, 154, 155, 156, 157, 158, 159, 160, 162, 163, 164, 165, 166, 168, 169, 170, 171, 172, 174, 175}\n"
          ]
        }
      ],
      "source": [
        "# Assuming 'customers' and 'properties' are your DataFrames\n",
        "common_customer_ids = set(customers['customerid']).intersection(properties['customerid'])\n",
        "\n",
        "if common_customer_ids:\n",
        "    print(\"Common customer IDs found:\")\n",
        "    print(common_customer_ids)\n",
        "else:\n",
        "    print(\"No common customer IDs found.\")\n"
      ]
    },
    {
      "cell_type": "markdown",
      "metadata": {},
      "source": [
        "### Merging the two datasets"
      ]
    },
    {
      "cell_type": "markdown",
      "metadata": {},
      "source": [
        "* Right Join: Similar to the left join but returns all rows from the right dataset and the matching rows from the left dataset."
      ]
    },
    {
      "cell_type": "code",
      "execution_count": 368,
      "metadata": {},
      "outputs": [],
      "source": [
        "data  = customers.merge(properties, on='customerid', how='outer')"
      ]
    },
    {
      "cell_type": "code",
      "execution_count": 369,
      "metadata": {},
      "outputs": [
        {
          "data": {
            "text/plain": [
              "(267, 19)"
            ]
          },
          "execution_count": 369,
          "metadata": {},
          "output_type": "execute_result"
        }
      ],
      "source": [
        "data.shape"
      ]
    },
    {
      "cell_type": "code",
      "execution_count": 370,
      "metadata": {},
      "outputs": [
        {
          "data": {
            "text/html": [
              "<div>\n",
              "<style scoped>\n",
              "    .dataframe tbody tr th:only-of-type {\n",
              "        vertical-align: middle;\n",
              "    }\n",
              "\n",
              "    .dataframe tbody tr th {\n",
              "        vertical-align: top;\n",
              "    }\n",
              "\n",
              "    .dataframe thead th {\n",
              "        text-align: right;\n",
              "    }\n",
              "</style>\n",
              "<table border=\"1\" class=\"dataframe\">\n",
              "  <thead>\n",
              "    <tr style=\"text-align: right;\">\n",
              "      <th></th>\n",
              "      <th>customerid</th>\n",
              "      <th>entity</th>\n",
              "      <th>name</th>\n",
              "      <th>surname</th>\n",
              "      <th>birthdate</th>\n",
              "      <th>sex</th>\n",
              "      <th>country</th>\n",
              "      <th>state</th>\n",
              "      <th>purpose</th>\n",
              "      <th>deal_satisfaction</th>\n",
              "      <th>mortgage</th>\n",
              "      <th>source</th>\n",
              "      <th>building</th>\n",
              "      <th>datesale</th>\n",
              "      <th>type</th>\n",
              "      <th>property</th>\n",
              "      <th>area</th>\n",
              "      <th>price</th>\n",
              "      <th>status</th>\n",
              "    </tr>\n",
              "  </thead>\n",
              "  <tbody>\n",
              "    <tr>\n",
              "      <th>0</th>\n",
              "      <td>104</td>\n",
              "      <td>1</td>\n",
              "      <td>Diana</td>\n",
              "      <td>Hunt</td>\n",
              "      <td>1931-02-13</td>\n",
              "      <td>1</td>\n",
              "      <td>7</td>\n",
              "      <td>0</td>\n",
              "      <td>0</td>\n",
              "      <td>3</td>\n",
              "      <td>0</td>\n",
              "      <td>2</td>\n",
              "      <td>3</td>\n",
              "      <td>2007-06-01</td>\n",
              "      <td>0</td>\n",
              "      <td>25</td>\n",
              "      <td>923.21</td>\n",
              "      <td>296483.14</td>\n",
              "      <td>0</td>\n",
              "    </tr>\n",
              "    <tr>\n",
              "      <th>1</th>\n",
              "      <td>21</td>\n",
              "      <td>1</td>\n",
              "      <td>Kaylin</td>\n",
              "      <td>Villarreal</td>\n",
              "      <td>1932-06-13</td>\n",
              "      <td>1</td>\n",
              "      <td>5</td>\n",
              "      <td>6</td>\n",
              "      <td>1</td>\n",
              "      <td>3</td>\n",
              "      <td>0</td>\n",
              "      <td>2</td>\n",
              "      <td>1</td>\n",
              "      <td>2005-04-01</td>\n",
              "      <td>0</td>\n",
              "      <td>23</td>\n",
              "      <td>782.25</td>\n",
              "      <td>261579.89</td>\n",
              "      <td>0</td>\n",
              "    </tr>\n",
              "    <tr>\n",
              "      <th>2</th>\n",
              "      <td>148</td>\n",
              "      <td>1</td>\n",
              "      <td>Myah</td>\n",
              "      <td>Roman</td>\n",
              "      <td>1933-05-05</td>\n",
              "      <td>1</td>\n",
              "      <td>7</td>\n",
              "      <td>1</td>\n",
              "      <td>1</td>\n",
              "      <td>5</td>\n",
              "      <td>1</td>\n",
              "      <td>0</td>\n",
              "      <td>3</td>\n",
              "      <td>2006-05-01</td>\n",
              "      <td>0</td>\n",
              "      <td>9</td>\n",
              "      <td>743.41</td>\n",
              "      <td>222867.42</td>\n",
              "      <td>0</td>\n",
              "    </tr>\n",
              "    <tr>\n",
              "      <th>3</th>\n",
              "      <td>172</td>\n",
              "      <td>1</td>\n",
              "      <td>Henry</td>\n",
              "      <td>Kennedy</td>\n",
              "      <td>1933-06-08</td>\n",
              "      <td>2</td>\n",
              "      <td>7</td>\n",
              "      <td>1</td>\n",
              "      <td>0</td>\n",
              "      <td>4</td>\n",
              "      <td>1</td>\n",
              "      <td>0</td>\n",
              "      <td>3</td>\n",
              "      <td>2006-03-01</td>\n",
              "      <td>0</td>\n",
              "      <td>52</td>\n",
              "      <td>923.21</td>\n",
              "      <td>291494.36</td>\n",
              "      <td>0</td>\n",
              "    </tr>\n",
              "    <tr>\n",
              "      <th>4</th>\n",
              "      <td>103</td>\n",
              "      <td>1</td>\n",
              "      <td>Jamal</td>\n",
              "      <td>Mueller</td>\n",
              "      <td>1936-08-13</td>\n",
              "      <td>2</td>\n",
              "      <td>7</td>\n",
              "      <td>5</td>\n",
              "      <td>1</td>\n",
              "      <td>2</td>\n",
              "      <td>0</td>\n",
              "      <td>2</td>\n",
              "      <td>3</td>\n",
              "      <td>2007-06-01</td>\n",
              "      <td>0</td>\n",
              "      <td>40</td>\n",
              "      <td>670.89</td>\n",
              "      <td>204292.49</td>\n",
              "      <td>0</td>\n",
              "    </tr>\n",
              "    <tr>\n",
              "      <th>5</th>\n",
              "      <td>103</td>\n",
              "      <td>1</td>\n",
              "      <td>Jamal</td>\n",
              "      <td>Mueller</td>\n",
              "      <td>1936-08-13</td>\n",
              "      <td>2</td>\n",
              "      <td>7</td>\n",
              "      <td>5</td>\n",
              "      <td>1</td>\n",
              "      <td>2</td>\n",
              "      <td>0</td>\n",
              "      <td>2</td>\n",
              "      <td>3</td>\n",
              "      <td>2007-06-01</td>\n",
              "      <td>0</td>\n",
              "      <td>8</td>\n",
              "      <td>697.89</td>\n",
              "      <td>219865.76</td>\n",
              "      <td>0</td>\n",
              "    </tr>\n",
              "    <tr>\n",
              "      <th>6</th>\n",
              "      <td>5</td>\n",
              "      <td>1</td>\n",
              "      <td>Rodolfo</td>\n",
              "      <td>Gibson</td>\n",
              "      <td>1937-01-20</td>\n",
              "      <td>2</td>\n",
              "      <td>7</td>\n",
              "      <td>4</td>\n",
              "      <td>0</td>\n",
              "      <td>2</td>\n",
              "      <td>1</td>\n",
              "      <td>2</td>\n",
              "      <td>1</td>\n",
              "      <td>2004-08-01</td>\n",
              "      <td>0</td>\n",
              "      <td>33</td>\n",
              "      <td>1434.09</td>\n",
              "      <td>412856.56</td>\n",
              "      <td>0</td>\n",
              "    </tr>\n",
              "    <tr>\n",
              "      <th>7</th>\n",
              "      <td>129</td>\n",
              "      <td>1</td>\n",
              "      <td>Jesus</td>\n",
              "      <td>Obrien</td>\n",
              "      <td>1938-06-09</td>\n",
              "      <td>2</td>\n",
              "      <td>7</td>\n",
              "      <td>5</td>\n",
              "      <td>1</td>\n",
              "      <td>3</td>\n",
              "      <td>0</td>\n",
              "      <td>2</td>\n",
              "      <td>3</td>\n",
              "      <td>2007-10-01</td>\n",
              "      <td>0</td>\n",
              "      <td>48</td>\n",
              "      <td>781.07</td>\n",
              "      <td>249075.66</td>\n",
              "      <td>0</td>\n",
              "    </tr>\n",
              "    <tr>\n",
              "      <th>8</th>\n",
              "      <td>129</td>\n",
              "      <td>1</td>\n",
              "      <td>Jesus</td>\n",
              "      <td>Obrien</td>\n",
              "      <td>1938-06-09</td>\n",
              "      <td>2</td>\n",
              "      <td>7</td>\n",
              "      <td>5</td>\n",
              "      <td>1</td>\n",
              "      <td>3</td>\n",
              "      <td>0</td>\n",
              "      <td>2</td>\n",
              "      <td>3</td>\n",
              "      <td>2007-10-01</td>\n",
              "      <td>0</td>\n",
              "      <td>12</td>\n",
              "      <td>781.07</td>\n",
              "      <td>210824.06</td>\n",
              "      <td>0</td>\n",
              "    </tr>\n",
              "    <tr>\n",
              "      <th>9</th>\n",
              "      <td>115</td>\n",
              "      <td>1</td>\n",
              "      <td>Issac</td>\n",
              "      <td>Edwards</td>\n",
              "      <td>1938-10-29</td>\n",
              "      <td>2</td>\n",
              "      <td>7</td>\n",
              "      <td>1</td>\n",
              "      <td>0</td>\n",
              "      <td>5</td>\n",
              "      <td>0</td>\n",
              "      <td>2</td>\n",
              "      <td>3</td>\n",
              "      <td>2007-08-01</td>\n",
              "      <td>0</td>\n",
              "      <td>2</td>\n",
              "      <td>923.21</td>\n",
              "      <td>261871.70</td>\n",
              "      <td>0</td>\n",
              "    </tr>\n",
              "    <tr>\n",
              "      <th>10</th>\n",
              "      <td>115</td>\n",
              "      <td>1</td>\n",
              "      <td>Issac</td>\n",
              "      <td>Edwards</td>\n",
              "      <td>1938-10-29</td>\n",
              "      <td>2</td>\n",
              "      <td>7</td>\n",
              "      <td>1</td>\n",
              "      <td>0</td>\n",
              "      <td>5</td>\n",
              "      <td>0</td>\n",
              "      <td>2</td>\n",
              "      <td>3</td>\n",
              "      <td>2007-08-01</td>\n",
              "      <td>0</td>\n",
              "      <td>4</td>\n",
              "      <td>781.07</td>\n",
              "      <td>210038.70</td>\n",
              "      <td>0</td>\n",
              "    </tr>\n",
              "    <tr>\n",
              "      <th>11</th>\n",
              "      <td>106</td>\n",
              "      <td>1</td>\n",
              "      <td>Ruben</td>\n",
              "      <td>Melton</td>\n",
              "      <td>1939-03-05</td>\n",
              "      <td>2</td>\n",
              "      <td>7</td>\n",
              "      <td>7</td>\n",
              "      <td>1</td>\n",
              "      <td>2</td>\n",
              "      <td>0</td>\n",
              "      <td>0</td>\n",
              "      <td>5</td>\n",
              "      <td>2007-06-01</td>\n",
              "      <td>0</td>\n",
              "      <td>19</td>\n",
              "      <td>618.38</td>\n",
              "      <td>153466.71</td>\n",
              "      <td>0</td>\n",
              "    </tr>\n",
              "    <tr>\n",
              "      <th>12</th>\n",
              "      <td>126</td>\n",
              "      <td>1</td>\n",
              "      <td>Crystal</td>\n",
              "      <td>Wyatt</td>\n",
              "      <td>1939-06-30</td>\n",
              "      <td>1</td>\n",
              "      <td>7</td>\n",
              "      <td>5</td>\n",
              "      <td>1</td>\n",
              "      <td>3</td>\n",
              "      <td>1</td>\n",
              "      <td>2</td>\n",
              "      <td>3</td>\n",
              "      <td>2006-03-01</td>\n",
              "      <td>0</td>\n",
              "      <td>5</td>\n",
              "      <td>781.07</td>\n",
              "      <td>258015.61</td>\n",
              "      <td>0</td>\n",
              "    </tr>\n",
              "    <tr>\n",
              "      <th>13</th>\n",
              "      <td>32</td>\n",
              "      <td>1</td>\n",
              "      <td>Olivia</td>\n",
              "      <td>Oconnell</td>\n",
              "      <td>1939-09-03</td>\n",
              "      <td>1</td>\n",
              "      <td>7</td>\n",
              "      <td>1</td>\n",
              "      <td>1</td>\n",
              "      <td>5</td>\n",
              "      <td>0</td>\n",
              "      <td>2</td>\n",
              "      <td>1</td>\n",
              "      <td>2006-02-01</td>\n",
              "      <td>0</td>\n",
              "      <td>16</td>\n",
              "      <td>782.25</td>\n",
              "      <td>224076.84</td>\n",
              "      <td>0</td>\n",
              "    </tr>\n",
              "    <tr>\n",
              "      <th>14</th>\n",
              "      <td>36</td>\n",
              "      <td>1</td>\n",
              "      <td>Jair</td>\n",
              "      <td>Johns</td>\n",
              "      <td>1940-03-05</td>\n",
              "      <td>2</td>\n",
              "      <td>7</td>\n",
              "      <td>1</td>\n",
              "      <td>0</td>\n",
              "      <td>5</td>\n",
              "      <td>0</td>\n",
              "      <td>2</td>\n",
              "      <td>1</td>\n",
              "      <td>2006-06-01</td>\n",
              "      <td>0</td>\n",
              "      <td>24</td>\n",
              "      <td>782.25</td>\n",
              "      <td>235762.34</td>\n",
              "      <td>0</td>\n",
              "    </tr>\n",
              "    <tr>\n",
              "      <th>15</th>\n",
              "      <td>45</td>\n",
              "      <td>1</td>\n",
              "      <td>Matilda</td>\n",
              "      <td>Madden</td>\n",
              "      <td>1941-03-03</td>\n",
              "      <td>1</td>\n",
              "      <td>7</td>\n",
              "      <td>2</td>\n",
              "      <td>0</td>\n",
              "      <td>3</td>\n",
              "      <td>0</td>\n",
              "      <td>0</td>\n",
              "      <td>2</td>\n",
              "      <td>2006-09-01</td>\n",
              "      <td>0</td>\n",
              "      <td>37</td>\n",
              "      <td>723.83</td>\n",
              "      <td>229581.78</td>\n",
              "      <td>0</td>\n",
              "    </tr>\n",
              "    <tr>\n",
              "      <th>16</th>\n",
              "      <td>74</td>\n",
              "      <td>1</td>\n",
              "      <td>Jaylynn</td>\n",
              "      <td>Hickman</td>\n",
              "      <td>1941-08-19</td>\n",
              "      <td>1</td>\n",
              "      <td>7</td>\n",
              "      <td>1</td>\n",
              "      <td>0</td>\n",
              "      <td>5</td>\n",
              "      <td>0</td>\n",
              "      <td>1</td>\n",
              "      <td>2</td>\n",
              "      <td>2007-03-01</td>\n",
              "      <td>0</td>\n",
              "      <td>13</td>\n",
              "      <td>785.48</td>\n",
              "      <td>236639.56</td>\n",
              "      <td>0</td>\n",
              "    </tr>\n",
              "    <tr>\n",
              "      <th>17</th>\n",
              "      <td>120</td>\n",
              "      <td>1</td>\n",
              "      <td>Jack</td>\n",
              "      <td>Hanson</td>\n",
              "      <td>1941-12-01</td>\n",
              "      <td>2</td>\n",
              "      <td>7</td>\n",
              "      <td>1</td>\n",
              "      <td>1</td>\n",
              "      <td>4</td>\n",
              "      <td>0</td>\n",
              "      <td>2</td>\n",
              "      <td>3</td>\n",
              "      <td>2007-08-01</td>\n",
              "      <td>0</td>\n",
              "      <td>10</td>\n",
              "      <td>923.21</td>\n",
              "      <td>294807.65</td>\n",
              "      <td>0</td>\n",
              "    </tr>\n",
              "    <tr>\n",
              "      <th>18</th>\n",
              "      <td>120</td>\n",
              "      <td>1</td>\n",
              "      <td>Jack</td>\n",
              "      <td>Hanson</td>\n",
              "      <td>1941-12-01</td>\n",
              "      <td>2</td>\n",
              "      <td>7</td>\n",
              "      <td>1</td>\n",
              "      <td>1</td>\n",
              "      <td>4</td>\n",
              "      <td>0</td>\n",
              "      <td>2</td>\n",
              "      <td>3</td>\n",
              "      <td>2007-08-01</td>\n",
              "      <td>0</td>\n",
              "      <td>18</td>\n",
              "      <td>923.21</td>\n",
              "      <td>293828.69</td>\n",
              "      <td>0</td>\n",
              "    </tr>\n",
              "    <tr>\n",
              "      <th>19</th>\n",
              "      <td>138</td>\n",
              "      <td>1</td>\n",
              "      <td>Colin</td>\n",
              "      <td>Campos</td>\n",
              "      <td>1942-04-14</td>\n",
              "      <td>2</td>\n",
              "      <td>7</td>\n",
              "      <td>1</td>\n",
              "      <td>0</td>\n",
              "      <td>3</td>\n",
              "      <td>0</td>\n",
              "      <td>2</td>\n",
              "      <td>4</td>\n",
              "      <td>2007-11-01</td>\n",
              "      <td>0</td>\n",
              "      <td>16</td>\n",
              "      <td>794.52</td>\n",
              "      <td>244820.67</td>\n",
              "      <td>0</td>\n",
              "    </tr>\n",
              "  </tbody>\n",
              "</table>\n",
              "</div>"
            ],
            "text/plain": [
              "    customerid  entity     name     surname  birthdate  sex  country  state   \n",
              "0          104       1    Diana        Hunt 1931-02-13    1        7      0  \\\n",
              "1           21       1   Kaylin  Villarreal 1932-06-13    1        5      6   \n",
              "2          148       1     Myah       Roman 1933-05-05    1        7      1   \n",
              "3          172       1    Henry     Kennedy 1933-06-08    2        7      1   \n",
              "4          103       1    Jamal     Mueller 1936-08-13    2        7      5   \n",
              "5          103       1    Jamal     Mueller 1936-08-13    2        7      5   \n",
              "6            5       1  Rodolfo      Gibson 1937-01-20    2        7      4   \n",
              "7          129       1    Jesus      Obrien 1938-06-09    2        7      5   \n",
              "8          129       1    Jesus      Obrien 1938-06-09    2        7      5   \n",
              "9          115       1    Issac     Edwards 1938-10-29    2        7      1   \n",
              "10         115       1    Issac     Edwards 1938-10-29    2        7      1   \n",
              "11         106       1    Ruben      Melton 1939-03-05    2        7      7   \n",
              "12         126       1  Crystal       Wyatt 1939-06-30    1        7      5   \n",
              "13          32       1   Olivia    Oconnell 1939-09-03    1        7      1   \n",
              "14          36       1     Jair       Johns 1940-03-05    2        7      1   \n",
              "15          45       1  Matilda      Madden 1941-03-03    1        7      2   \n",
              "16          74       1  Jaylynn     Hickman 1941-08-19    1        7      1   \n",
              "17         120       1     Jack      Hanson 1941-12-01    2        7      1   \n",
              "18         120       1     Jack      Hanson 1941-12-01    2        7      1   \n",
              "19         138       1    Colin      Campos 1942-04-14    2        7      1   \n",
              "\n",
              "    purpose  deal_satisfaction  mortgage  source  building   datesale  type   \n",
              "0         0                  3         0       2         3 2007-06-01     0  \\\n",
              "1         1                  3         0       2         1 2005-04-01     0   \n",
              "2         1                  5         1       0         3 2006-05-01     0   \n",
              "3         0                  4         1       0         3 2006-03-01     0   \n",
              "4         1                  2         0       2         3 2007-06-01     0   \n",
              "5         1                  2         0       2         3 2007-06-01     0   \n",
              "6         0                  2         1       2         1 2004-08-01     0   \n",
              "7         1                  3         0       2         3 2007-10-01     0   \n",
              "8         1                  3         0       2         3 2007-10-01     0   \n",
              "9         0                  5         0       2         3 2007-08-01     0   \n",
              "10        0                  5         0       2         3 2007-08-01     0   \n",
              "11        1                  2         0       0         5 2007-06-01     0   \n",
              "12        1                  3         1       2         3 2006-03-01     0   \n",
              "13        1                  5         0       2         1 2006-02-01     0   \n",
              "14        0                  5         0       2         1 2006-06-01     0   \n",
              "15        0                  3         0       0         2 2006-09-01     0   \n",
              "16        0                  5         0       1         2 2007-03-01     0   \n",
              "17        1                  4         0       2         3 2007-08-01     0   \n",
              "18        1                  4         0       2         3 2007-08-01     0   \n",
              "19        0                  3         0       2         4 2007-11-01     0   \n",
              "\n",
              "    property     area      price  status  \n",
              "0         25   923.21  296483.14       0  \n",
              "1         23   782.25  261579.89       0  \n",
              "2          9   743.41  222867.42       0  \n",
              "3         52   923.21  291494.36       0  \n",
              "4         40   670.89  204292.49       0  \n",
              "5          8   697.89  219865.76       0  \n",
              "6         33  1434.09  412856.56       0  \n",
              "7         48   781.07  249075.66       0  \n",
              "8         12   781.07  210824.06       0  \n",
              "9          2   923.21  261871.70       0  \n",
              "10         4   781.07  210038.70       0  \n",
              "11        19   618.38  153466.71       0  \n",
              "12         5   781.07  258015.61       0  \n",
              "13        16   782.25  224076.84       0  \n",
              "14        24   782.25  235762.34       0  \n",
              "15        37   723.83  229581.78       0  \n",
              "16        13   785.48  236639.56       0  \n",
              "17        10   923.21  294807.65       0  \n",
              "18        18   923.21  293828.69       0  \n",
              "19        16   794.52  244820.67       0  "
            ]
          },
          "execution_count": 370,
          "metadata": {},
          "output_type": "execute_result"
        }
      ],
      "source": [
        "data.head(20)"
      ]
    },
    {
      "cell_type": "code",
      "execution_count": 371,
      "metadata": {},
      "outputs": [
        {
          "name": "stdout",
          "output_type": "stream",
          "text": [
            "customerid           0.0\n",
            "entity               0.0\n",
            "name                 0.0\n",
            "surname              0.0\n",
            "birthdate            0.0\n",
            "sex                  0.0\n",
            "country              0.0\n",
            "state                0.0\n",
            "purpose              0.0\n",
            "deal_satisfaction    0.0\n",
            "mortgage             0.0\n",
            "source               0.0\n",
            "building             0.0\n",
            "datesale             0.0\n",
            "type                 0.0\n",
            "property             0.0\n",
            "area                 0.0\n",
            "price                0.0\n",
            "status               0.0\n",
            "dtype: float64\n"
          ]
        }
      ],
      "source": [
        "print(((data.isna().sum()) * 100 / data.shape[0]).round(2))"
      ]
    },
    {
      "cell_type": "code",
      "execution_count": 372,
      "metadata": {},
      "outputs": [
        {
          "data": {
            "text/plain": [
              "customerid                    int64\n",
              "entity                        int64\n",
              "name                 string[python]\n",
              "surname              string[python]\n",
              "birthdate            datetime64[ns]\n",
              "sex                           int64\n",
              "country                       int64\n",
              "state                         int64\n",
              "purpose                       int64\n",
              "deal_satisfaction             int64\n",
              "mortgage                      int64\n",
              "source                        int64\n",
              "building                      int64\n",
              "datesale             datetime64[ns]\n",
              "type                          int64\n",
              "property                      int64\n",
              "area                        float64\n",
              "price                       float64\n",
              "status                        int64\n",
              "dtype: object"
            ]
          },
          "execution_count": 372,
          "metadata": {},
          "output_type": "execute_result"
        }
      ],
      "source": [
        "data.dtypes"
      ]
    },
    {
      "cell_type": "code",
      "execution_count": 373,
      "metadata": {},
      "outputs": [],
      "source": [
        "# Assume df is your DataFrame\n",
        "\n",
        "# Define a dictionary to specify data types for each column\n",
        "dtypes_dict = {\n",
        "    'customerid': 'int64',\n",
        "    'entity': 'int64',\n",
        "    'name': 'string',\n",
        "    'surname': 'string',\n",
        "    'birthdate': 'datetime64',\n",
        "    'sex': 'int64',\n",
        "    'country': 'int64',\n",
        "    'state': 'int64',\n",
        "    'purpose': 'int64',\n",
        "    'deal_satisfaction': 'int64',\n",
        "    'mortgage': 'int64',\n",
        "    'source': 'int64',\n",
        "    'building': 'int64',\n",
        "    'datesale': 'datetime64',\n",
        "    'type': 'int64',\n",
        "    'property': 'int64',\n",
        "    'area': 'float64',\n",
        "    'price': 'float64',\n",
        "    'status': 'int64'\n",
        "}\n",
        "\n",
        "# Save the DataFrame to CSV with specified data types\n",
        "data.to_csv('preprocessed_data.csv', index=False)\n"
      ]
    },
    {
      "cell_type": "code",
      "execution_count": null,
      "metadata": {},
      "outputs": [],
      "source": []
    }
  ],
  "metadata": {
    "colab": {
      "provenance": []
    },
    "kernelspec": {
      "display_name": "Python 3",
      "language": "python",
      "name": "python3"
    },
    "language_info": {
      "codemirror_mode": {
        "name": "ipython",
        "version": 3
      },
      "file_extension": ".py",
      "mimetype": "text/x-python",
      "name": "python",
      "nbconvert_exporter": "python",
      "pygments_lexer": "ipython3",
      "version": "3.10.10"
    }
  },
  "nbformat": 4,
  "nbformat_minor": 0
}
