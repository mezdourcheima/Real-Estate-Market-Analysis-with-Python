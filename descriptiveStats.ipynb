{
 "cells": [
  {
   "cell_type": "markdown",
   "metadata": {},
   "source": [
    "### Descriptive Statistics"
   ]
  },
  {
   "cell_type": "code",
   "execution_count": 1,
   "metadata": {},
   "outputs": [],
   "source": [
    "import pandas as pd"
   ]
  },
  {
   "cell_type": "code",
   "execution_count": 2,
   "metadata": {},
   "outputs": [],
   "source": [
    "data = pd.read_csv('preprocessedData.csv')"
   ]
  },
  {
   "cell_type": "code",
   "execution_count": 3,
   "metadata": {},
   "outputs": [
    {
     "data": {
      "text/html": [
       "<div>\n",
       "<style scoped>\n",
       "    .dataframe tbody tr th:only-of-type {\n",
       "        vertical-align: middle;\n",
       "    }\n",
       "\n",
       "    .dataframe tbody tr th {\n",
       "        vertical-align: top;\n",
       "    }\n",
       "\n",
       "    .dataframe thead th {\n",
       "        text-align: right;\n",
       "    }\n",
       "</style>\n",
       "<table border=\"1\" class=\"dataframe\">\n",
       "  <thead>\n",
       "    <tr style=\"text-align: right;\">\n",
       "      <th></th>\n",
       "      <th>customerid</th>\n",
       "      <th>entity</th>\n",
       "      <th>name</th>\n",
       "      <th>surname</th>\n",
       "      <th>birthdate</th>\n",
       "      <th>sex</th>\n",
       "      <th>country</th>\n",
       "      <th>state</th>\n",
       "      <th>purpose</th>\n",
       "      <th>deal_satisfaction</th>\n",
       "      <th>mortgage</th>\n",
       "      <th>source</th>\n",
       "      <th>building</th>\n",
       "      <th>datesale</th>\n",
       "      <th>type</th>\n",
       "      <th>property</th>\n",
       "      <th>area</th>\n",
       "      <th>price</th>\n",
       "      <th>status</th>\n",
       "    </tr>\n",
       "  </thead>\n",
       "  <tbody>\n",
       "    <tr>\n",
       "      <th>0</th>\n",
       "      <td>104</td>\n",
       "      <td>1</td>\n",
       "      <td>Diana</td>\n",
       "      <td>Hunt</td>\n",
       "      <td>1931-02-13</td>\n",
       "      <td>1</td>\n",
       "      <td>7</td>\n",
       "      <td>0</td>\n",
       "      <td>0</td>\n",
       "      <td>3</td>\n",
       "      <td>0</td>\n",
       "      <td>2</td>\n",
       "      <td>3</td>\n",
       "      <td>2007-06-01</td>\n",
       "      <td>0</td>\n",
       "      <td>25</td>\n",
       "      <td>923.21</td>\n",
       "      <td>296483.14</td>\n",
       "      <td>0</td>\n",
       "    </tr>\n",
       "    <tr>\n",
       "      <th>1</th>\n",
       "      <td>21</td>\n",
       "      <td>1</td>\n",
       "      <td>Kaylin</td>\n",
       "      <td>Villarreal</td>\n",
       "      <td>1932-06-13</td>\n",
       "      <td>1</td>\n",
       "      <td>5</td>\n",
       "      <td>6</td>\n",
       "      <td>1</td>\n",
       "      <td>3</td>\n",
       "      <td>0</td>\n",
       "      <td>2</td>\n",
       "      <td>1</td>\n",
       "      <td>2005-04-01</td>\n",
       "      <td>0</td>\n",
       "      <td>23</td>\n",
       "      <td>782.25</td>\n",
       "      <td>261579.89</td>\n",
       "      <td>0</td>\n",
       "    </tr>\n",
       "    <tr>\n",
       "      <th>2</th>\n",
       "      <td>148</td>\n",
       "      <td>1</td>\n",
       "      <td>Myah</td>\n",
       "      <td>Roman</td>\n",
       "      <td>1933-05-05</td>\n",
       "      <td>1</td>\n",
       "      <td>7</td>\n",
       "      <td>1</td>\n",
       "      <td>1</td>\n",
       "      <td>5</td>\n",
       "      <td>1</td>\n",
       "      <td>0</td>\n",
       "      <td>3</td>\n",
       "      <td>2006-05-01</td>\n",
       "      <td>0</td>\n",
       "      <td>9</td>\n",
       "      <td>743.41</td>\n",
       "      <td>222867.42</td>\n",
       "      <td>0</td>\n",
       "    </tr>\n",
       "    <tr>\n",
       "      <th>3</th>\n",
       "      <td>172</td>\n",
       "      <td>1</td>\n",
       "      <td>Henry</td>\n",
       "      <td>Kennedy</td>\n",
       "      <td>1933-06-08</td>\n",
       "      <td>2</td>\n",
       "      <td>7</td>\n",
       "      <td>1</td>\n",
       "      <td>0</td>\n",
       "      <td>4</td>\n",
       "      <td>1</td>\n",
       "      <td>0</td>\n",
       "      <td>3</td>\n",
       "      <td>2006-03-01</td>\n",
       "      <td>0</td>\n",
       "      <td>52</td>\n",
       "      <td>923.21</td>\n",
       "      <td>291494.36</td>\n",
       "      <td>0</td>\n",
       "    </tr>\n",
       "    <tr>\n",
       "      <th>4</th>\n",
       "      <td>103</td>\n",
       "      <td>1</td>\n",
       "      <td>Jamal</td>\n",
       "      <td>Mueller</td>\n",
       "      <td>1936-08-13</td>\n",
       "      <td>2</td>\n",
       "      <td>7</td>\n",
       "      <td>5</td>\n",
       "      <td>1</td>\n",
       "      <td>2</td>\n",
       "      <td>0</td>\n",
       "      <td>2</td>\n",
       "      <td>3</td>\n",
       "      <td>2007-06-01</td>\n",
       "      <td>0</td>\n",
       "      <td>40</td>\n",
       "      <td>670.89</td>\n",
       "      <td>204292.49</td>\n",
       "      <td>0</td>\n",
       "    </tr>\n",
       "    <tr>\n",
       "      <th>5</th>\n",
       "      <td>103</td>\n",
       "      <td>1</td>\n",
       "      <td>Jamal</td>\n",
       "      <td>Mueller</td>\n",
       "      <td>1936-08-13</td>\n",
       "      <td>2</td>\n",
       "      <td>7</td>\n",
       "      <td>5</td>\n",
       "      <td>1</td>\n",
       "      <td>2</td>\n",
       "      <td>0</td>\n",
       "      <td>2</td>\n",
       "      <td>3</td>\n",
       "      <td>2007-06-01</td>\n",
       "      <td>0</td>\n",
       "      <td>8</td>\n",
       "      <td>697.89</td>\n",
       "      <td>219865.76</td>\n",
       "      <td>0</td>\n",
       "    </tr>\n",
       "    <tr>\n",
       "      <th>6</th>\n",
       "      <td>5</td>\n",
       "      <td>1</td>\n",
       "      <td>Rodolfo</td>\n",
       "      <td>Gibson</td>\n",
       "      <td>1937-01-20</td>\n",
       "      <td>2</td>\n",
       "      <td>7</td>\n",
       "      <td>4</td>\n",
       "      <td>0</td>\n",
       "      <td>2</td>\n",
       "      <td>1</td>\n",
       "      <td>2</td>\n",
       "      <td>1</td>\n",
       "      <td>2004-08-01</td>\n",
       "      <td>0</td>\n",
       "      <td>33</td>\n",
       "      <td>1434.09</td>\n",
       "      <td>412856.56</td>\n",
       "      <td>0</td>\n",
       "    </tr>\n",
       "    <tr>\n",
       "      <th>7</th>\n",
       "      <td>129</td>\n",
       "      <td>1</td>\n",
       "      <td>Jesus</td>\n",
       "      <td>Obrien</td>\n",
       "      <td>1938-06-09</td>\n",
       "      <td>2</td>\n",
       "      <td>7</td>\n",
       "      <td>5</td>\n",
       "      <td>1</td>\n",
       "      <td>3</td>\n",
       "      <td>0</td>\n",
       "      <td>2</td>\n",
       "      <td>3</td>\n",
       "      <td>2007-10-01</td>\n",
       "      <td>0</td>\n",
       "      <td>48</td>\n",
       "      <td>781.07</td>\n",
       "      <td>249075.66</td>\n",
       "      <td>0</td>\n",
       "    </tr>\n",
       "    <tr>\n",
       "      <th>8</th>\n",
       "      <td>129</td>\n",
       "      <td>1</td>\n",
       "      <td>Jesus</td>\n",
       "      <td>Obrien</td>\n",
       "      <td>1938-06-09</td>\n",
       "      <td>2</td>\n",
       "      <td>7</td>\n",
       "      <td>5</td>\n",
       "      <td>1</td>\n",
       "      <td>3</td>\n",
       "      <td>0</td>\n",
       "      <td>2</td>\n",
       "      <td>3</td>\n",
       "      <td>2007-10-01</td>\n",
       "      <td>0</td>\n",
       "      <td>12</td>\n",
       "      <td>781.07</td>\n",
       "      <td>210824.06</td>\n",
       "      <td>0</td>\n",
       "    </tr>\n",
       "    <tr>\n",
       "      <th>9</th>\n",
       "      <td>115</td>\n",
       "      <td>1</td>\n",
       "      <td>Issac</td>\n",
       "      <td>Edwards</td>\n",
       "      <td>1938-10-29</td>\n",
       "      <td>2</td>\n",
       "      <td>7</td>\n",
       "      <td>1</td>\n",
       "      <td>0</td>\n",
       "      <td>5</td>\n",
       "      <td>0</td>\n",
       "      <td>2</td>\n",
       "      <td>3</td>\n",
       "      <td>2007-08-01</td>\n",
       "      <td>0</td>\n",
       "      <td>2</td>\n",
       "      <td>923.21</td>\n",
       "      <td>261871.70</td>\n",
       "      <td>0</td>\n",
       "    </tr>\n",
       "  </tbody>\n",
       "</table>\n",
       "</div>"
      ],
      "text/plain": [
       "   customerid  entity     name     surname   birthdate  sex  country  state   \n",
       "0         104       1    Diana        Hunt  1931-02-13    1        7      0  \\\n",
       "1          21       1   Kaylin  Villarreal  1932-06-13    1        5      6   \n",
       "2         148       1     Myah       Roman  1933-05-05    1        7      1   \n",
       "3         172       1    Henry     Kennedy  1933-06-08    2        7      1   \n",
       "4         103       1    Jamal     Mueller  1936-08-13    2        7      5   \n",
       "5         103       1    Jamal     Mueller  1936-08-13    2        7      5   \n",
       "6           5       1  Rodolfo      Gibson  1937-01-20    2        7      4   \n",
       "7         129       1    Jesus      Obrien  1938-06-09    2        7      5   \n",
       "8         129       1    Jesus      Obrien  1938-06-09    2        7      5   \n",
       "9         115       1    Issac     Edwards  1938-10-29    2        7      1   \n",
       "\n",
       "   purpose  deal_satisfaction  mortgage  source  building    datesale  type   \n",
       "0        0                  3         0       2         3  2007-06-01     0  \\\n",
       "1        1                  3         0       2         1  2005-04-01     0   \n",
       "2        1                  5         1       0         3  2006-05-01     0   \n",
       "3        0                  4         1       0         3  2006-03-01     0   \n",
       "4        1                  2         0       2         3  2007-06-01     0   \n",
       "5        1                  2         0       2         3  2007-06-01     0   \n",
       "6        0                  2         1       2         1  2004-08-01     0   \n",
       "7        1                  3         0       2         3  2007-10-01     0   \n",
       "8        1                  3         0       2         3  2007-10-01     0   \n",
       "9        0                  5         0       2         3  2007-08-01     0   \n",
       "\n",
       "   property     area      price  status  \n",
       "0        25   923.21  296483.14       0  \n",
       "1        23   782.25  261579.89       0  \n",
       "2         9   743.41  222867.42       0  \n",
       "3        52   923.21  291494.36       0  \n",
       "4        40   670.89  204292.49       0  \n",
       "5         8   697.89  219865.76       0  \n",
       "6        33  1434.09  412856.56       0  \n",
       "7        48   781.07  249075.66       0  \n",
       "8        12   781.07  210824.06       0  \n",
       "9         2   923.21  261871.70       0  "
      ]
     },
     "execution_count": 3,
     "metadata": {},
     "output_type": "execute_result"
    }
   ],
   "source": [
    "data.head(10)"
   ]
  },
  {
   "cell_type": "markdown",
   "metadata": {},
   "source": [
    "1 - Breakdown by Building"
   ]
  },
  {
   "cell_type": "code",
   "execution_count": 17,
   "metadata": {},
   "outputs": [],
   "source": [
    "# Identify unique building types\n",
    "building_types = data['building'].unique()"
   ]
  },
  {
   "cell_type": "code",
   "execution_count": 18,
   "metadata": {},
   "outputs": [
    {
     "name": "stdout",
     "output_type": "stream",
     "text": [
      "[3 1 5 2 4]\n"
     ]
    }
   ],
   "source": [
    "print(building_types)"
   ]
  },
  {
   "cell_type": "code",
   "execution_count": 19,
   "metadata": {},
   "outputs": [],
   "source": [
    "# Select columns of interest\n",
    "totals_columns = ['building', 'price', 'mortgage']"
   ]
  },
  {
   "cell_type": "code",
   "execution_count": 20,
   "metadata": {},
   "outputs": [],
   "source": [
    "# Create totals DataFrame\n",
    "totals_df = data[totals_columns]"
   ]
  },
  {
   "cell_type": "code",
   "execution_count": 27,
   "metadata": {},
   "outputs": [],
   "source": [
    "# Group totals by building type and aggregate\n",
    "totals_by_building = totals_df.groupby('building').sum()"
   ]
  },
  {
   "cell_type": "code",
   "execution_count": 22,
   "metadata": {},
   "outputs": [],
   "source": [
    "totals_avg = ['building','area','price','deal_satisfaction']"
   ]
  },
  {
   "cell_type": "code",
   "execution_count": 23,
   "metadata": {},
   "outputs": [],
   "source": [
    "totals_avg_df = data[totals_avg]"
   ]
  },
  {
   "cell_type": "code",
   "execution_count": 26,
   "metadata": {},
   "outputs": [],
   "source": [
    "averages_by_building = totals_avg_df.groupby('building').mean()"
   ]
  },
  {
   "cell_type": "code",
   "execution_count": 25,
   "metadata": {},
   "outputs": [
    {
     "name": "stdout",
     "output_type": "stream",
     "text": [
      "Total Properties Sold and Mortgaged by Building Type:\n",
      "                price  mortgage\n",
      "building                       \n",
      "1         14307448.61        20\n",
      "2         16339725.35        21\n",
      "3         17668429.10        25\n",
      "4         12480299.17        29\n",
      "5         14276995.44        39\n",
      "\n",
      "Average Area, Price, and Deal Satisfaction by Building Type:\n",
      "                area          price  deal_satisfaction\n",
      "building                                              \n",
      "1         928.038846  275143.242500           3.673077\n",
      "2         943.891930  286661.848246           3.543860\n",
      "3         927.852381  280451.255556           3.634921\n",
      "4         974.720930  290239.515581           3.930233\n",
      "5         914.298654  274557.604615           3.826923\n"
     ]
    }
   ],
   "source": [
    "# Display the results\n",
    "print(\"Total Properties Sold and Mortgaged by Building Type:\")\n",
    "print(totals_by_building)\n",
    "\n",
    "print(\"\\nAverage Area, Price, and Deal Satisfaction by Building Type:\")\n",
    "print(averages_by_building)"
   ]
  },
  {
   "cell_type": "markdown",
   "metadata": {},
   "source": [
    "### Breakdown by Country"
   ]
  },
  {
   "cell_type": "code",
   "execution_count": 30,
   "metadata": {},
   "outputs": [
    {
     "name": "stdout",
     "output_type": "stream",
     "text": [
      "[7 5 1 0 6 2 4 3]\n"
     ]
    }
   ],
   "source": [
    "print(data['country'].unique())"
   ]
  },
  {
   "cell_type": "code",
   "execution_count": 31,
   "metadata": {},
   "outputs": [],
   "source": [
    "# Select columns of interest\n",
    "totals_columns = ['country', 'price', 'mortgage']"
   ]
  },
  {
   "cell_type": "code",
   "execution_count": 32,
   "metadata": {},
   "outputs": [],
   "source": [
    "country_totals_df = data[totals_columns]"
   ]
  },
  {
   "cell_type": "code",
   "execution_count": 33,
   "metadata": {},
   "outputs": [],
   "source": [
    "totals_by_county = country_totals_df.groupby('country').sum()"
   ]
  },
  {
   "cell_type": "code",
   "execution_count": 36,
   "metadata": {},
   "outputs": [],
   "source": [
    "totals_avg = ['country','area','price','deal_satisfaction']"
   ]
  },
  {
   "cell_type": "code",
   "execution_count": 37,
   "metadata": {},
   "outputs": [],
   "source": [
    "country_avg_df = data[totals_avg]"
   ]
  },
  {
   "cell_type": "code",
   "execution_count": 38,
   "metadata": {},
   "outputs": [],
   "source": [
    "averages_by_country = country_avg_df.groupby('country').mean()"
   ]
  },
  {
   "cell_type": "code",
   "execution_count": 39,
   "metadata": {},
   "outputs": [
    {
     "name": "stdout",
     "output_type": "stream",
     "text": [
      "Total Properties Sold and Mortgaged by Country:\n",
      "               price  mortgage\n",
      "country                       \n",
      "0          458150.94         0\n",
      "1         1918485.69         0\n",
      "2          257183.48         0\n",
      "3          205098.21         0\n",
      "4          338181.18         0\n",
      "5         1115315.34         1\n",
      "6          440285.36         0\n",
      "7        70340197.47       133\n",
      "Averages by Country:\n",
      "                area          price  deal_satisfaction\n",
      "country                                               \n",
      "0         852.730000  229075.470000           3.000000\n",
      "1         917.382857  274069.384286           5.000000\n",
      "2         785.480000  257183.480000           1.000000\n",
      "3         743.410000  205098.210000           5.000000\n",
      "4        1283.450000  338181.180000           3.000000\n",
      "5         903.757500  278828.835000           2.500000\n",
      "6         739.480000  220142.680000           4.000000\n",
      "7         939.508514  282490.752892           3.702811\n"
     ]
    }
   ],
   "source": [
    "# Display the results\n",
    "print(\"Total Properties Sold and Mortgaged by Country:\")\n",
    "print(totals_by_county)\n",
    "print(\"Averages by Country:\")\n",
    "print(averages_by_country)"
   ]
  },
  {
   "cell_type": "markdown",
   "metadata": {},
   "source": [
    "### Breakdown by State"
   ]
  },
  {
   "cell_type": "code",
   "execution_count": 40,
   "metadata": {},
   "outputs": [
    {
     "name": "stdout",
     "output_type": "stream",
     "text": [
      "[0 6 1 5 4 7 2 8 9 3]\n"
     ]
    }
   ],
   "source": [
    "print(data['state'].unique())"
   ]
  },
  {
   "cell_type": "code",
   "execution_count": 41,
   "metadata": {},
   "outputs": [],
   "source": [
    "# Select columns of interest\n",
    "totals_columns = ['state', 'price', 'mortgage']"
   ]
  },
  {
   "cell_type": "code",
   "execution_count": 42,
   "metadata": {},
   "outputs": [],
   "source": [
    "# Create totals DataFrame\n",
    "state_totals_df = data[totals_columns]"
   ]
  },
  {
   "cell_type": "code",
   "execution_count": 43,
   "metadata": {},
   "outputs": [],
   "source": [
    "# Group totals by state and aggregate\n",
    "totals_by_state = state_totals_df.groupby('state').sum()"
   ]
  },
  {
   "cell_type": "code",
   "execution_count": 44,
   "metadata": {},
   "outputs": [
    {
     "name": "stdout",
     "output_type": "stream",
     "text": [
      "Total Properties Sold and Mortgaged by State:\n",
      "             price  mortgage\n",
      "state                       \n",
      "0       2854796.41         3\n",
      "1      55974847.25       113\n",
      "2       2570287.08         5\n",
      "3        252185.99         0\n",
      "4       4720038.60         8\n",
      "5       2602526.55         1\n",
      "6       3844575.97         1\n",
      "7       1188776.40         1\n",
      "8        860576.75         2\n",
      "9        204286.67         0\n"
     ]
    }
   ],
   "source": [
    "# Display the results\n",
    "print(\"Total Properties Sold and Mortgaged by State:\")\n",
    "print(totals_by_state)"
   ]
  },
  {
   "cell_type": "code",
   "execution_count": 45,
   "metadata": {},
   "outputs": [],
   "source": [
    "# Select columns of interest\n",
    "average_columns = ['state','area' ,'price', 'deal_satisfaction']"
   ]
  },
  {
   "cell_type": "code",
   "execution_count": 46,
   "metadata": {},
   "outputs": [],
   "source": [
    "# Create totals DataFrame\n",
    "state_avg_df = data[average_columns]"
   ]
  },
  {
   "cell_type": "code",
   "execution_count": 47,
   "metadata": {},
   "outputs": [],
   "source": [
    "# Group totals by state and aggregate\n",
    "averages_by_state = state_avg_df.groupby('state').mean()"
   ]
  },
  {
   "cell_type": "code",
   "execution_count": 48,
   "metadata": {},
   "outputs": [
    {
     "name": "stdout",
     "output_type": "stream",
     "text": [
      "Averages by State:\n",
      "             area          price  deal_satisfaction\n",
      "state                                              \n",
      "0      841.627273  259526.946364           3.363636\n",
      "1      971.615885  291535.662760           3.843750\n",
      "2      777.010909  233662.461818           3.181818\n",
      "3      923.210000  252185.990000           3.000000\n",
      "4      921.692941  277649.329412           3.235294\n",
      "5      766.954545  236593.322727           3.090909\n",
      "6      920.563571  274612.569286           3.642857\n",
      "7      814.986000  237755.280000           3.200000\n",
      "8      730.712500  215144.187500           4.500000\n",
      "9      701.660000  204286.670000           3.000000\n"
     ]
    }
   ],
   "source": [
    "# Display the results\n",
    "print(\"Averages by State:\")\n",
    "print(averages_by_state)"
   ]
  },
  {
   "cell_type": "code",
   "execution_count": 49,
   "metadata": {},
   "outputs": [],
   "source": [
    "# Frequency distribution by state\n",
    "frequency_by_state = data['state'].value_counts().reset_index()\n",
    "frequency_by_state.columns = ['state', 'frequency']"
   ]
  },
  {
   "cell_type": "code",
   "execution_count": 50,
   "metadata": {},
   "outputs": [],
   "source": [
    "# Relative frequency by state\n",
    "total_properties = len(data)\n",
    "frequency_by_state['relative_frequency'] = frequency_by_state['frequency'] / total_properties"
   ]
  },
  {
   "cell_type": "code",
   "execution_count": 51,
   "metadata": {},
   "outputs": [],
   "source": [
    "# Cumulative frequency by state\n",
    "frequency_by_state['cumulative_frequency'] = frequency_by_state['frequency'].cumsum()"
   ]
  },
  {
   "cell_type": "code",
   "execution_count": 52,
   "metadata": {},
   "outputs": [
    {
     "name": "stdout",
     "output_type": "stream",
     "text": [
      "Frequency by State:\n",
      "   state  frequency  relative_frequency  cumulative_frequency\n",
      "0      1        192            0.719101                   192\n",
      "1      4         17            0.063670                   209\n",
      "2      6         14            0.052434                   223\n",
      "3      0         11            0.041199                   234\n",
      "4      5         11            0.041199                   245\n",
      "5      2         11            0.041199                   256\n",
      "6      7          5            0.018727                   261\n",
      "7      8          4            0.014981                   265\n",
      "8      9          1            0.003745                   266\n",
      "9      3          1            0.003745                   267\n"
     ]
    }
   ],
   "source": [
    "# Display the results\n",
    "print(\"Frequency by State:\")\n",
    "print(frequency_by_state)\n",
    "\n",
    "# Save the results to a CSV file, if needed\n",
    "frequency_by_state.to_csv('frequency_by_state.csv', index=False)"
   ]
  },
  {
   "cell_type": "code",
   "execution_count": null,
   "metadata": {},
   "outputs": [],
   "source": []
  }
 ],
 "metadata": {
  "kernelspec": {
   "display_name": "tensorflow",
   "language": "python",
   "name": "python3"
  },
  "language_info": {
   "codemirror_mode": {
    "name": "ipython",
    "version": 3
   },
   "file_extension": ".py",
   "mimetype": "text/x-python",
   "name": "python",
   "nbconvert_exporter": "python",
   "pygments_lexer": "ipython3",
   "version": "3.10.10"
  }
 },
 "nbformat": 4,
 "nbformat_minor": 2
}
