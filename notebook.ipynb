{
  "cells": [
    {
      "cell_type": "markdown",
      "metadata": {
        "id": "lBM7saSgsfyH"
      },
      "source": [
        "# Real Estate Market Analysis with Python Project"
      ]
    },
    {
      "cell_type": "markdown",
      "metadata": {
        "id": "uO2rmrznsfyJ"
      },
      "source": [
        "### Data Preprocessing\n",
        "- The initial stage involves cleaning and preparing the data for real estate analysis, including handling missing values, correcting inconsistencies, and transforming data types if necessary. You must clean and preprocess the customers and property tables, ensure column names are in order and that missing values appear correctly, and apply any column data type changes you see fit.\n",
        "\n",
        "- Finally, you should combine the properties  and customers tables into one unified real estate dataset using the shared customer_id column. You must consolidate inconsistencies or missing values to perform the following analysis and obtain the correct results.\n",
        "\n",
        "### Properties and Customers\n",
        "\n",
        "You must review the list, preprocess, and clean both datasets accordingly.\n",
        "\n",
        "1 - Descriptive statistics: You can start the analysis with descriptive statistics of the data and check for missing values.\n",
        "\n",
        "2 - Datatypes: Evaluate the datatypes of the columns and decide whether some of the datatypes need to be changed.\n",
        "\n",
        "3 - Column names: Check if there is an issue with any column names and rename them if necessary.\n",
        "\n",
        "4 - Categorical to numerical: Change categorical values to numeric when possible and needed. Use the 0 1 convention when mapping.\n",
        "\n",
        "5 - Case: If there are inconsistencies with Capitol and lowercases, unify them using the lowercase convention.\n",
        "\n",
        "6 - Missing values: Ensure missing values are correctly indicated.\n",
        "\n",
        "7 - Date variables: Make sure you handle and transform the date variables as a date.\n",
        "\n",
        "### Combining the Two Datasets\n",
        "\n",
        "- This phase aims to merge our two cleaned datasets (properties  and customers) into a comprehensive dataset.\n",
        "\n",
        "1 - Preliminary Checks. Visually inspect the two datasets and decide which variable to merge. As both datasets share only column – you must opt for the customer_id  column.\n",
        "\n",
        "2 - Initial Merge Attempt. You can leverage the pandas' functionality to combine the two tables without initial preprocessing. Think about what kind of join would make sense in the context of the given problem.\n",
        "\n",
        "3 - Resolving Merge Issues. If the initial attempt to merge the data does not yield the correct data frame, you must examine and preprocess the data further. Think about which variable is likely causing the merge issue and review it closely- it makes sence to check the customer_id column. You must examine the values of the ids for both properties  and customers datasets. You will notice that there are unneccessary spaces in one of the datasets which you must remove. After that you should be able to merge successfully.\n",
        "\n",
        "##### Sanity check: You should obtain a pandas data frame of 267 rows and 19 columns."
      ]
    },
    {
      "cell_type": "markdown",
      "metadata": {
        "id": "U-WS718OsfyK"
      },
      "source": [
        "##### Imports"
      ]
    },
    {
      "cell_type": "code",
      "execution_count": 161,
      "metadata": {
        "id": "C7uDE3Z-sfyK"
      },
      "outputs": [],
      "source": [
        "import numpy as np\n",
        "import pandas as pd\n",
        "import matplotlib.pyplot as plt\n",
        "import seaborn as sns\n",
        "import os\n",
        "from sklearn.preprocessing import LabelEncoder"
      ]
    },
    {
      "cell_type": "code",
      "execution_count": 162,
      "metadata": {
        "id": "_5Mv9mtEsfyL"
      },
      "outputs": [],
      "source": [
        "customers = pd.read_csv('customers.csv')\n",
        "properties = pd.read_csv('properties.csv')"
      ]
    },
    {
      "cell_type": "code",
      "execution_count": 163,
      "metadata": {
        "id": "jVeEvqbHsfyL",
        "outputId": "43b9870d-1eec-4c5d-f85d-ce91a6aa1758",
        "colab": {
          "base_uri": "https://localhost:8080/",
          "height": 241
        }
      },
      "outputs": [
        {
          "output_type": "execute_result",
          "data": {
            "text/plain": [
              "   Unnamed: 0 ﻿customerid      entity     name  surname  birth_date  sex  \\\n",
              "0           0       C0110  Individual   Kareem      Liu   5/11/1968    F   \n",
              "1           1       C0010  Individual  Trystan  Oconnor  11/26/1962    M   \n",
              "2           2       C0132  Individual     Kale      Gay    4/7/1959    M   \n",
              "3           3       C0137  Individual  Russell    Gross  11/25/1959    M   \n",
              "4           4       C0174     Company  Marleez       Co         NaN  NaN   \n",
              "\n",
              "  country       state     purpose  deal_satisfaction mortgage   source  \n",
              "0     USA  California        Home                  4      Yes  Website  \n",
              "1     USA  California        Home                  1       No  Website  \n",
              "2     USA  California        Home                  4      Yes   Agency  \n",
              "3     USA  California        Home                  5       No  Website  \n",
              "4    USA   California  Investment                  5       No  Website  "
            ],
            "text/html": [
              "\n",
              "  <div id=\"df-d4c5ab2b-2f8e-4b7c-b03d-ab3657e807a1\" class=\"colab-df-container\">\n",
              "    <div>\n",
              "<style scoped>\n",
              "    .dataframe tbody tr th:only-of-type {\n",
              "        vertical-align: middle;\n",
              "    }\n",
              "\n",
              "    .dataframe tbody tr th {\n",
              "        vertical-align: top;\n",
              "    }\n",
              "\n",
              "    .dataframe thead th {\n",
              "        text-align: right;\n",
              "    }\n",
              "</style>\n",
              "<table border=\"1\" class=\"dataframe\">\n",
              "  <thead>\n",
              "    <tr style=\"text-align: right;\">\n",
              "      <th></th>\n",
              "      <th>Unnamed: 0</th>\n",
              "      <th>﻿customerid</th>\n",
              "      <th>entity</th>\n",
              "      <th>name</th>\n",
              "      <th>surname</th>\n",
              "      <th>birth_date</th>\n",
              "      <th>sex</th>\n",
              "      <th>country</th>\n",
              "      <th>state</th>\n",
              "      <th>purpose</th>\n",
              "      <th>deal_satisfaction</th>\n",
              "      <th>mortgage</th>\n",
              "      <th>source</th>\n",
              "    </tr>\n",
              "  </thead>\n",
              "  <tbody>\n",
              "    <tr>\n",
              "      <th>0</th>\n",
              "      <td>0</td>\n",
              "      <td>C0110</td>\n",
              "      <td>Individual</td>\n",
              "      <td>Kareem</td>\n",
              "      <td>Liu</td>\n",
              "      <td>5/11/1968</td>\n",
              "      <td>F</td>\n",
              "      <td>USA</td>\n",
              "      <td>California</td>\n",
              "      <td>Home</td>\n",
              "      <td>4</td>\n",
              "      <td>Yes</td>\n",
              "      <td>Website</td>\n",
              "    </tr>\n",
              "    <tr>\n",
              "      <th>1</th>\n",
              "      <td>1</td>\n",
              "      <td>C0010</td>\n",
              "      <td>Individual</td>\n",
              "      <td>Trystan</td>\n",
              "      <td>Oconnor</td>\n",
              "      <td>11/26/1962</td>\n",
              "      <td>M</td>\n",
              "      <td>USA</td>\n",
              "      <td>California</td>\n",
              "      <td>Home</td>\n",
              "      <td>1</td>\n",
              "      <td>No</td>\n",
              "      <td>Website</td>\n",
              "    </tr>\n",
              "    <tr>\n",
              "      <th>2</th>\n",
              "      <td>2</td>\n",
              "      <td>C0132</td>\n",
              "      <td>Individual</td>\n",
              "      <td>Kale</td>\n",
              "      <td>Gay</td>\n",
              "      <td>4/7/1959</td>\n",
              "      <td>M</td>\n",
              "      <td>USA</td>\n",
              "      <td>California</td>\n",
              "      <td>Home</td>\n",
              "      <td>4</td>\n",
              "      <td>Yes</td>\n",
              "      <td>Agency</td>\n",
              "    </tr>\n",
              "    <tr>\n",
              "      <th>3</th>\n",
              "      <td>3</td>\n",
              "      <td>C0137</td>\n",
              "      <td>Individual</td>\n",
              "      <td>Russell</td>\n",
              "      <td>Gross</td>\n",
              "      <td>11/25/1959</td>\n",
              "      <td>M</td>\n",
              "      <td>USA</td>\n",
              "      <td>California</td>\n",
              "      <td>Home</td>\n",
              "      <td>5</td>\n",
              "      <td>No</td>\n",
              "      <td>Website</td>\n",
              "    </tr>\n",
              "    <tr>\n",
              "      <th>4</th>\n",
              "      <td>4</td>\n",
              "      <td>C0174</td>\n",
              "      <td>Company</td>\n",
              "      <td>Marleez</td>\n",
              "      <td>Co</td>\n",
              "      <td>NaN</td>\n",
              "      <td>NaN</td>\n",
              "      <td>USA</td>\n",
              "      <td>California</td>\n",
              "      <td>Investment</td>\n",
              "      <td>5</td>\n",
              "      <td>No</td>\n",
              "      <td>Website</td>\n",
              "    </tr>\n",
              "  </tbody>\n",
              "</table>\n",
              "</div>\n",
              "    <div class=\"colab-df-buttons\">\n",
              "\n",
              "  <div class=\"colab-df-container\">\n",
              "    <button class=\"colab-df-convert\" onclick=\"convertToInteractive('df-d4c5ab2b-2f8e-4b7c-b03d-ab3657e807a1')\"\n",
              "            title=\"Convert this dataframe to an interactive table.\"\n",
              "            style=\"display:none;\">\n",
              "\n",
              "  <svg xmlns=\"http://www.w3.org/2000/svg\" height=\"24px\" viewBox=\"0 -960 960 960\">\n",
              "    <path d=\"M120-120v-720h720v720H120Zm60-500h600v-160H180v160Zm220 220h160v-160H400v160Zm0 220h160v-160H400v160ZM180-400h160v-160H180v160Zm440 0h160v-160H620v160ZM180-180h160v-160H180v160Zm440 0h160v-160H620v160Z\"/>\n",
              "  </svg>\n",
              "    </button>\n",
              "\n",
              "  <style>\n",
              "    .colab-df-container {\n",
              "      display:flex;\n",
              "      gap: 12px;\n",
              "    }\n",
              "\n",
              "    .colab-df-convert {\n",
              "      background-color: #E8F0FE;\n",
              "      border: none;\n",
              "      border-radius: 50%;\n",
              "      cursor: pointer;\n",
              "      display: none;\n",
              "      fill: #1967D2;\n",
              "      height: 32px;\n",
              "      padding: 0 0 0 0;\n",
              "      width: 32px;\n",
              "    }\n",
              "\n",
              "    .colab-df-convert:hover {\n",
              "      background-color: #E2EBFA;\n",
              "      box-shadow: 0px 1px 2px rgba(60, 64, 67, 0.3), 0px 1px 3px 1px rgba(60, 64, 67, 0.15);\n",
              "      fill: #174EA6;\n",
              "    }\n",
              "\n",
              "    .colab-df-buttons div {\n",
              "      margin-bottom: 4px;\n",
              "    }\n",
              "\n",
              "    [theme=dark] .colab-df-convert {\n",
              "      background-color: #3B4455;\n",
              "      fill: #D2E3FC;\n",
              "    }\n",
              "\n",
              "    [theme=dark] .colab-df-convert:hover {\n",
              "      background-color: #434B5C;\n",
              "      box-shadow: 0px 1px 3px 1px rgba(0, 0, 0, 0.15);\n",
              "      filter: drop-shadow(0px 1px 2px rgba(0, 0, 0, 0.3));\n",
              "      fill: #FFFFFF;\n",
              "    }\n",
              "  </style>\n",
              "\n",
              "    <script>\n",
              "      const buttonEl =\n",
              "        document.querySelector('#df-d4c5ab2b-2f8e-4b7c-b03d-ab3657e807a1 button.colab-df-convert');\n",
              "      buttonEl.style.display =\n",
              "        google.colab.kernel.accessAllowed ? 'block' : 'none';\n",
              "\n",
              "      async function convertToInteractive(key) {\n",
              "        const element = document.querySelector('#df-d4c5ab2b-2f8e-4b7c-b03d-ab3657e807a1');\n",
              "        const dataTable =\n",
              "          await google.colab.kernel.invokeFunction('convertToInteractive',\n",
              "                                                    [key], {});\n",
              "        if (!dataTable) return;\n",
              "\n",
              "        const docLinkHtml = 'Like what you see? Visit the ' +\n",
              "          '<a target=\"_blank\" href=https://colab.research.google.com/notebooks/data_table.ipynb>data table notebook</a>'\n",
              "          + ' to learn more about interactive tables.';\n",
              "        element.innerHTML = '';\n",
              "        dataTable['output_type'] = 'display_data';\n",
              "        await google.colab.output.renderOutput(dataTable, element);\n",
              "        const docLink = document.createElement('div');\n",
              "        docLink.innerHTML = docLinkHtml;\n",
              "        element.appendChild(docLink);\n",
              "      }\n",
              "    </script>\n",
              "  </div>\n",
              "\n",
              "\n",
              "<div id=\"df-0050eabf-750e-4610-81ad-0dd952b9ea12\">\n",
              "  <button class=\"colab-df-quickchart\" onclick=\"quickchart('df-0050eabf-750e-4610-81ad-0dd952b9ea12')\"\n",
              "            title=\"Suggest charts\"\n",
              "            style=\"display:none;\">\n",
              "\n",
              "<svg xmlns=\"http://www.w3.org/2000/svg\" height=\"24px\"viewBox=\"0 0 24 24\"\n",
              "     width=\"24px\">\n",
              "    <g>\n",
              "        <path d=\"M19 3H5c-1.1 0-2 .9-2 2v14c0 1.1.9 2 2 2h14c1.1 0 2-.9 2-2V5c0-1.1-.9-2-2-2zM9 17H7v-7h2v7zm4 0h-2V7h2v10zm4 0h-2v-4h2v4z\"/>\n",
              "    </g>\n",
              "</svg>\n",
              "  </button>\n",
              "\n",
              "<style>\n",
              "  .colab-df-quickchart {\n",
              "      --bg-color: #E8F0FE;\n",
              "      --fill-color: #1967D2;\n",
              "      --hover-bg-color: #E2EBFA;\n",
              "      --hover-fill-color: #174EA6;\n",
              "      --disabled-fill-color: #AAA;\n",
              "      --disabled-bg-color: #DDD;\n",
              "  }\n",
              "\n",
              "  [theme=dark] .colab-df-quickchart {\n",
              "      --bg-color: #3B4455;\n",
              "      --fill-color: #D2E3FC;\n",
              "      --hover-bg-color: #434B5C;\n",
              "      --hover-fill-color: #FFFFFF;\n",
              "      --disabled-bg-color: #3B4455;\n",
              "      --disabled-fill-color: #666;\n",
              "  }\n",
              "\n",
              "  .colab-df-quickchart {\n",
              "    background-color: var(--bg-color);\n",
              "    border: none;\n",
              "    border-radius: 50%;\n",
              "    cursor: pointer;\n",
              "    display: none;\n",
              "    fill: var(--fill-color);\n",
              "    height: 32px;\n",
              "    padding: 0;\n",
              "    width: 32px;\n",
              "  }\n",
              "\n",
              "  .colab-df-quickchart:hover {\n",
              "    background-color: var(--hover-bg-color);\n",
              "    box-shadow: 0 1px 2px rgba(60, 64, 67, 0.3), 0 1px 3px 1px rgba(60, 64, 67, 0.15);\n",
              "    fill: var(--button-hover-fill-color);\n",
              "  }\n",
              "\n",
              "  .colab-df-quickchart-complete:disabled,\n",
              "  .colab-df-quickchart-complete:disabled:hover {\n",
              "    background-color: var(--disabled-bg-color);\n",
              "    fill: var(--disabled-fill-color);\n",
              "    box-shadow: none;\n",
              "  }\n",
              "\n",
              "  .colab-df-spinner {\n",
              "    border: 2px solid var(--fill-color);\n",
              "    border-color: transparent;\n",
              "    border-bottom-color: var(--fill-color);\n",
              "    animation:\n",
              "      spin 1s steps(1) infinite;\n",
              "  }\n",
              "\n",
              "  @keyframes spin {\n",
              "    0% {\n",
              "      border-color: transparent;\n",
              "      border-bottom-color: var(--fill-color);\n",
              "      border-left-color: var(--fill-color);\n",
              "    }\n",
              "    20% {\n",
              "      border-color: transparent;\n",
              "      border-left-color: var(--fill-color);\n",
              "      border-top-color: var(--fill-color);\n",
              "    }\n",
              "    30% {\n",
              "      border-color: transparent;\n",
              "      border-left-color: var(--fill-color);\n",
              "      border-top-color: var(--fill-color);\n",
              "      border-right-color: var(--fill-color);\n",
              "    }\n",
              "    40% {\n",
              "      border-color: transparent;\n",
              "      border-right-color: var(--fill-color);\n",
              "      border-top-color: var(--fill-color);\n",
              "    }\n",
              "    60% {\n",
              "      border-color: transparent;\n",
              "      border-right-color: var(--fill-color);\n",
              "    }\n",
              "    80% {\n",
              "      border-color: transparent;\n",
              "      border-right-color: var(--fill-color);\n",
              "      border-bottom-color: var(--fill-color);\n",
              "    }\n",
              "    90% {\n",
              "      border-color: transparent;\n",
              "      border-bottom-color: var(--fill-color);\n",
              "    }\n",
              "  }\n",
              "</style>\n",
              "\n",
              "  <script>\n",
              "    async function quickchart(key) {\n",
              "      const quickchartButtonEl =\n",
              "        document.querySelector('#' + key + ' button');\n",
              "      quickchartButtonEl.disabled = true;  // To prevent multiple clicks.\n",
              "      quickchartButtonEl.classList.add('colab-df-spinner');\n",
              "      try {\n",
              "        const charts = await google.colab.kernel.invokeFunction(\n",
              "            'suggestCharts', [key], {});\n",
              "      } catch (error) {\n",
              "        console.error('Error during call to suggestCharts:', error);\n",
              "      }\n",
              "      quickchartButtonEl.classList.remove('colab-df-spinner');\n",
              "      quickchartButtonEl.classList.add('colab-df-quickchart-complete');\n",
              "    }\n",
              "    (() => {\n",
              "      let quickchartButtonEl =\n",
              "        document.querySelector('#df-0050eabf-750e-4610-81ad-0dd952b9ea12 button');\n",
              "      quickchartButtonEl.style.display =\n",
              "        google.colab.kernel.accessAllowed ? 'block' : 'none';\n",
              "    })();\n",
              "  </script>\n",
              "</div>\n",
              "    </div>\n",
              "  </div>\n"
            ]
          },
          "metadata": {},
          "execution_count": 163
        }
      ],
      "source": [
        "customers.head()"
      ]
    },
    {
      "cell_type": "code",
      "execution_count": 164,
      "metadata": {
        "id": "b1ZNnyBSsfyM",
        "outputId": "f251112e-600f-469a-cda7-2ef3d47507e0",
        "colab": {
          "base_uri": "https://localhost:8080/",
          "height": 204
        }
      },
      "outputs": [
        {
          "output_type": "execute_result",
          "data": {
            "text/plain": [
              "   Unnamed: 0   ﻿id  building  date_sale       type  property#     area  \\\n",
              "0           0  1030         1  11/1/2005  Apartment         30   743.09   \n",
              "1           1  1029         1  10/1/2005  Apartment         29   756.21   \n",
              "2           2  2002         2   7/1/2007  Apartment          2   587.28   \n",
              "3           3  2031         2  12/1/2007  Apartment         31  1604.75   \n",
              "4           4  1049         1  11/1/2004  Apartment         49  1375.45   \n",
              "\n",
              "          price  status customerid  \n",
              "0  $246,172.68    Sold      C0028   \n",
              "1  $246,331.90    Sold      C0027   \n",
              "2  $209,280.91    Sold      C0112   \n",
              "3  $452,667.01    Sold      C0160   \n",
              "4  $467,083.31    Sold      C0014   "
            ],
            "text/html": [
              "\n",
              "  <div id=\"df-f406bf09-efa9-44eb-85f2-62cb784cfacf\" class=\"colab-df-container\">\n",
              "    <div>\n",
              "<style scoped>\n",
              "    .dataframe tbody tr th:only-of-type {\n",
              "        vertical-align: middle;\n",
              "    }\n",
              "\n",
              "    .dataframe tbody tr th {\n",
              "        vertical-align: top;\n",
              "    }\n",
              "\n",
              "    .dataframe thead th {\n",
              "        text-align: right;\n",
              "    }\n",
              "</style>\n",
              "<table border=\"1\" class=\"dataframe\">\n",
              "  <thead>\n",
              "    <tr style=\"text-align: right;\">\n",
              "      <th></th>\n",
              "      <th>Unnamed: 0</th>\n",
              "      <th>﻿id</th>\n",
              "      <th>building</th>\n",
              "      <th>date_sale</th>\n",
              "      <th>type</th>\n",
              "      <th>property#</th>\n",
              "      <th>area</th>\n",
              "      <th>price</th>\n",
              "      <th>status</th>\n",
              "      <th>customerid</th>\n",
              "    </tr>\n",
              "  </thead>\n",
              "  <tbody>\n",
              "    <tr>\n",
              "      <th>0</th>\n",
              "      <td>0</td>\n",
              "      <td>1030</td>\n",
              "      <td>1</td>\n",
              "      <td>11/1/2005</td>\n",
              "      <td>Apartment</td>\n",
              "      <td>30</td>\n",
              "      <td>743.09</td>\n",
              "      <td>$246,172.68</td>\n",
              "      <td>Sold</td>\n",
              "      <td>C0028</td>\n",
              "    </tr>\n",
              "    <tr>\n",
              "      <th>1</th>\n",
              "      <td>1</td>\n",
              "      <td>1029</td>\n",
              "      <td>1</td>\n",
              "      <td>10/1/2005</td>\n",
              "      <td>Apartment</td>\n",
              "      <td>29</td>\n",
              "      <td>756.21</td>\n",
              "      <td>$246,331.90</td>\n",
              "      <td>Sold</td>\n",
              "      <td>C0027</td>\n",
              "    </tr>\n",
              "    <tr>\n",
              "      <th>2</th>\n",
              "      <td>2</td>\n",
              "      <td>2002</td>\n",
              "      <td>2</td>\n",
              "      <td>7/1/2007</td>\n",
              "      <td>Apartment</td>\n",
              "      <td>2</td>\n",
              "      <td>587.28</td>\n",
              "      <td>$209,280.91</td>\n",
              "      <td>Sold</td>\n",
              "      <td>C0112</td>\n",
              "    </tr>\n",
              "    <tr>\n",
              "      <th>3</th>\n",
              "      <td>3</td>\n",
              "      <td>2031</td>\n",
              "      <td>2</td>\n",
              "      <td>12/1/2007</td>\n",
              "      <td>Apartment</td>\n",
              "      <td>31</td>\n",
              "      <td>1604.75</td>\n",
              "      <td>$452,667.01</td>\n",
              "      <td>Sold</td>\n",
              "      <td>C0160</td>\n",
              "    </tr>\n",
              "    <tr>\n",
              "      <th>4</th>\n",
              "      <td>4</td>\n",
              "      <td>1049</td>\n",
              "      <td>1</td>\n",
              "      <td>11/1/2004</td>\n",
              "      <td>Apartment</td>\n",
              "      <td>49</td>\n",
              "      <td>1375.45</td>\n",
              "      <td>$467,083.31</td>\n",
              "      <td>Sold</td>\n",
              "      <td>C0014</td>\n",
              "    </tr>\n",
              "  </tbody>\n",
              "</table>\n",
              "</div>\n",
              "    <div class=\"colab-df-buttons\">\n",
              "\n",
              "  <div class=\"colab-df-container\">\n",
              "    <button class=\"colab-df-convert\" onclick=\"convertToInteractive('df-f406bf09-efa9-44eb-85f2-62cb784cfacf')\"\n",
              "            title=\"Convert this dataframe to an interactive table.\"\n",
              "            style=\"display:none;\">\n",
              "\n",
              "  <svg xmlns=\"http://www.w3.org/2000/svg\" height=\"24px\" viewBox=\"0 -960 960 960\">\n",
              "    <path d=\"M120-120v-720h720v720H120Zm60-500h600v-160H180v160Zm220 220h160v-160H400v160Zm0 220h160v-160H400v160ZM180-400h160v-160H180v160Zm440 0h160v-160H620v160ZM180-180h160v-160H180v160Zm440 0h160v-160H620v160Z\"/>\n",
              "  </svg>\n",
              "    </button>\n",
              "\n",
              "  <style>\n",
              "    .colab-df-container {\n",
              "      display:flex;\n",
              "      gap: 12px;\n",
              "    }\n",
              "\n",
              "    .colab-df-convert {\n",
              "      background-color: #E8F0FE;\n",
              "      border: none;\n",
              "      border-radius: 50%;\n",
              "      cursor: pointer;\n",
              "      display: none;\n",
              "      fill: #1967D2;\n",
              "      height: 32px;\n",
              "      padding: 0 0 0 0;\n",
              "      width: 32px;\n",
              "    }\n",
              "\n",
              "    .colab-df-convert:hover {\n",
              "      background-color: #E2EBFA;\n",
              "      box-shadow: 0px 1px 2px rgba(60, 64, 67, 0.3), 0px 1px 3px 1px rgba(60, 64, 67, 0.15);\n",
              "      fill: #174EA6;\n",
              "    }\n",
              "\n",
              "    .colab-df-buttons div {\n",
              "      margin-bottom: 4px;\n",
              "    }\n",
              "\n",
              "    [theme=dark] .colab-df-convert {\n",
              "      background-color: #3B4455;\n",
              "      fill: #D2E3FC;\n",
              "    }\n",
              "\n",
              "    [theme=dark] .colab-df-convert:hover {\n",
              "      background-color: #434B5C;\n",
              "      box-shadow: 0px 1px 3px 1px rgba(0, 0, 0, 0.15);\n",
              "      filter: drop-shadow(0px 1px 2px rgba(0, 0, 0, 0.3));\n",
              "      fill: #FFFFFF;\n",
              "    }\n",
              "  </style>\n",
              "\n",
              "    <script>\n",
              "      const buttonEl =\n",
              "        document.querySelector('#df-f406bf09-efa9-44eb-85f2-62cb784cfacf button.colab-df-convert');\n",
              "      buttonEl.style.display =\n",
              "        google.colab.kernel.accessAllowed ? 'block' : 'none';\n",
              "\n",
              "      async function convertToInteractive(key) {\n",
              "        const element = document.querySelector('#df-f406bf09-efa9-44eb-85f2-62cb784cfacf');\n",
              "        const dataTable =\n",
              "          await google.colab.kernel.invokeFunction('convertToInteractive',\n",
              "                                                    [key], {});\n",
              "        if (!dataTable) return;\n",
              "\n",
              "        const docLinkHtml = 'Like what you see? Visit the ' +\n",
              "          '<a target=\"_blank\" href=https://colab.research.google.com/notebooks/data_table.ipynb>data table notebook</a>'\n",
              "          + ' to learn more about interactive tables.';\n",
              "        element.innerHTML = '';\n",
              "        dataTable['output_type'] = 'display_data';\n",
              "        await google.colab.output.renderOutput(dataTable, element);\n",
              "        const docLink = document.createElement('div');\n",
              "        docLink.innerHTML = docLinkHtml;\n",
              "        element.appendChild(docLink);\n",
              "      }\n",
              "    </script>\n",
              "  </div>\n",
              "\n",
              "\n",
              "<div id=\"df-361f8665-fa4e-4273-91b4-6f1361536354\">\n",
              "  <button class=\"colab-df-quickchart\" onclick=\"quickchart('df-361f8665-fa4e-4273-91b4-6f1361536354')\"\n",
              "            title=\"Suggest charts\"\n",
              "            style=\"display:none;\">\n",
              "\n",
              "<svg xmlns=\"http://www.w3.org/2000/svg\" height=\"24px\"viewBox=\"0 0 24 24\"\n",
              "     width=\"24px\">\n",
              "    <g>\n",
              "        <path d=\"M19 3H5c-1.1 0-2 .9-2 2v14c0 1.1.9 2 2 2h14c1.1 0 2-.9 2-2V5c0-1.1-.9-2-2-2zM9 17H7v-7h2v7zm4 0h-2V7h2v10zm4 0h-2v-4h2v4z\"/>\n",
              "    </g>\n",
              "</svg>\n",
              "  </button>\n",
              "\n",
              "<style>\n",
              "  .colab-df-quickchart {\n",
              "      --bg-color: #E8F0FE;\n",
              "      --fill-color: #1967D2;\n",
              "      --hover-bg-color: #E2EBFA;\n",
              "      --hover-fill-color: #174EA6;\n",
              "      --disabled-fill-color: #AAA;\n",
              "      --disabled-bg-color: #DDD;\n",
              "  }\n",
              "\n",
              "  [theme=dark] .colab-df-quickchart {\n",
              "      --bg-color: #3B4455;\n",
              "      --fill-color: #D2E3FC;\n",
              "      --hover-bg-color: #434B5C;\n",
              "      --hover-fill-color: #FFFFFF;\n",
              "      --disabled-bg-color: #3B4455;\n",
              "      --disabled-fill-color: #666;\n",
              "  }\n",
              "\n",
              "  .colab-df-quickchart {\n",
              "    background-color: var(--bg-color);\n",
              "    border: none;\n",
              "    border-radius: 50%;\n",
              "    cursor: pointer;\n",
              "    display: none;\n",
              "    fill: var(--fill-color);\n",
              "    height: 32px;\n",
              "    padding: 0;\n",
              "    width: 32px;\n",
              "  }\n",
              "\n",
              "  .colab-df-quickchart:hover {\n",
              "    background-color: var(--hover-bg-color);\n",
              "    box-shadow: 0 1px 2px rgba(60, 64, 67, 0.3), 0 1px 3px 1px rgba(60, 64, 67, 0.15);\n",
              "    fill: var(--button-hover-fill-color);\n",
              "  }\n",
              "\n",
              "  .colab-df-quickchart-complete:disabled,\n",
              "  .colab-df-quickchart-complete:disabled:hover {\n",
              "    background-color: var(--disabled-bg-color);\n",
              "    fill: var(--disabled-fill-color);\n",
              "    box-shadow: none;\n",
              "  }\n",
              "\n",
              "  .colab-df-spinner {\n",
              "    border: 2px solid var(--fill-color);\n",
              "    border-color: transparent;\n",
              "    border-bottom-color: var(--fill-color);\n",
              "    animation:\n",
              "      spin 1s steps(1) infinite;\n",
              "  }\n",
              "\n",
              "  @keyframes spin {\n",
              "    0% {\n",
              "      border-color: transparent;\n",
              "      border-bottom-color: var(--fill-color);\n",
              "      border-left-color: var(--fill-color);\n",
              "    }\n",
              "    20% {\n",
              "      border-color: transparent;\n",
              "      border-left-color: var(--fill-color);\n",
              "      border-top-color: var(--fill-color);\n",
              "    }\n",
              "    30% {\n",
              "      border-color: transparent;\n",
              "      border-left-color: var(--fill-color);\n",
              "      border-top-color: var(--fill-color);\n",
              "      border-right-color: var(--fill-color);\n",
              "    }\n",
              "    40% {\n",
              "      border-color: transparent;\n",
              "      border-right-color: var(--fill-color);\n",
              "      border-top-color: var(--fill-color);\n",
              "    }\n",
              "    60% {\n",
              "      border-color: transparent;\n",
              "      border-right-color: var(--fill-color);\n",
              "    }\n",
              "    80% {\n",
              "      border-color: transparent;\n",
              "      border-right-color: var(--fill-color);\n",
              "      border-bottom-color: var(--fill-color);\n",
              "    }\n",
              "    90% {\n",
              "      border-color: transparent;\n",
              "      border-bottom-color: var(--fill-color);\n",
              "    }\n",
              "  }\n",
              "</style>\n",
              "\n",
              "  <script>\n",
              "    async function quickchart(key) {\n",
              "      const quickchartButtonEl =\n",
              "        document.querySelector('#' + key + ' button');\n",
              "      quickchartButtonEl.disabled = true;  // To prevent multiple clicks.\n",
              "      quickchartButtonEl.classList.add('colab-df-spinner');\n",
              "      try {\n",
              "        const charts = await google.colab.kernel.invokeFunction(\n",
              "            'suggestCharts', [key], {});\n",
              "      } catch (error) {\n",
              "        console.error('Error during call to suggestCharts:', error);\n",
              "      }\n",
              "      quickchartButtonEl.classList.remove('colab-df-spinner');\n",
              "      quickchartButtonEl.classList.add('colab-df-quickchart-complete');\n",
              "    }\n",
              "    (() => {\n",
              "      let quickchartButtonEl =\n",
              "        document.querySelector('#df-361f8665-fa4e-4273-91b4-6f1361536354 button');\n",
              "      quickchartButtonEl.style.display =\n",
              "        google.colab.kernel.accessAllowed ? 'block' : 'none';\n",
              "    })();\n",
              "  </script>\n",
              "</div>\n",
              "    </div>\n",
              "  </div>\n"
            ]
          },
          "metadata": {},
          "execution_count": 164
        }
      ],
      "source": [
        "properties.head()"
      ]
    },
    {
      "cell_type": "code",
      "source": [
        "print(customers.columns)\n"
      ],
      "metadata": {
        "id": "UKtSEJ8ju23I",
        "outputId": "817fd351-77a1-4919-fab7-3385bf697668",
        "colab": {
          "base_uri": "https://localhost:8080/"
        }
      },
      "execution_count": 165,
      "outputs": [
        {
          "output_type": "stream",
          "name": "stdout",
          "text": [
            "Index(['Unnamed: 0', '﻿customerid', 'entity', 'name', 'surname', 'birth_date',\n",
            "       'sex', 'country', 'state', 'purpose', 'deal_satisfaction', 'mortgage',\n",
            "       'source'],\n",
            "      dtype='object')\n"
          ]
        }
      ]
    },
    {
      "cell_type": "code",
      "execution_count": 166,
      "metadata": {
        "id": "pcPqknotsfyN",
        "outputId": "e97dd9dd-030d-49a7-e1bb-5bebe1111fea",
        "colab": {
          "base_uri": "https://localhost:8080/"
        }
      },
      "outputs": [
        {
          "output_type": "stream",
          "name": "stdout",
          "text": [
            "<class 'pandas.core.frame.DataFrame'>\n",
            "RangeIndex: 162 entries, 0 to 161\n",
            "Data columns (total 13 columns):\n",
            " #   Column             Non-Null Count  Dtype \n",
            "---  ------             --------------  ----- \n",
            " 0   Unnamed: 0         162 non-null    int64 \n",
            " 1   ﻿customerid        162 non-null    object\n",
            " 2   entity             162 non-null    object\n",
            " 3   name               162 non-null    object\n",
            " 4   surname            162 non-null    object\n",
            " 5   birth_date         155 non-null    object\n",
            " 6   sex                155 non-null    object\n",
            " 7   country            162 non-null    object\n",
            " 8   state              154 non-null    object\n",
            " 9   purpose            162 non-null    object\n",
            " 10  deal_satisfaction  162 non-null    int64 \n",
            " 11  mortgage           162 non-null    object\n",
            " 12  source             162 non-null    object\n",
            "dtypes: int64(2), object(11)\n",
            "memory usage: 16.6+ KB\n"
          ]
        }
      ],
      "source": [
        "customers.info()"
      ]
    },
    {
      "cell_type": "code",
      "execution_count": 167,
      "metadata": {
        "id": "gPnpcT4EsfyN",
        "outputId": "a4024f16-1734-485b-928c-4e5aa56fc661",
        "colab": {
          "base_uri": "https://localhost:8080/",
          "height": 297
        }
      },
      "outputs": [
        {
          "output_type": "execute_result",
          "data": {
            "text/plain": [
              "       Unnamed: 0  deal_satisfaction\n",
              "count  162.000000         162.000000\n",
              "mean    80.500000           3.456790\n",
              "std     46.909487           1.333276\n",
              "min      0.000000           1.000000\n",
              "25%     40.250000           3.000000\n",
              "50%     80.500000           4.000000\n",
              "75%    120.750000           5.000000\n",
              "max    161.000000           5.000000"
            ],
            "text/html": [
              "\n",
              "  <div id=\"df-65e95b33-d997-4c00-8e2b-59bf61795da9\" class=\"colab-df-container\">\n",
              "    <div>\n",
              "<style scoped>\n",
              "    .dataframe tbody tr th:only-of-type {\n",
              "        vertical-align: middle;\n",
              "    }\n",
              "\n",
              "    .dataframe tbody tr th {\n",
              "        vertical-align: top;\n",
              "    }\n",
              "\n",
              "    .dataframe thead th {\n",
              "        text-align: right;\n",
              "    }\n",
              "</style>\n",
              "<table border=\"1\" class=\"dataframe\">\n",
              "  <thead>\n",
              "    <tr style=\"text-align: right;\">\n",
              "      <th></th>\n",
              "      <th>Unnamed: 0</th>\n",
              "      <th>deal_satisfaction</th>\n",
              "    </tr>\n",
              "  </thead>\n",
              "  <tbody>\n",
              "    <tr>\n",
              "      <th>count</th>\n",
              "      <td>162.000000</td>\n",
              "      <td>162.000000</td>\n",
              "    </tr>\n",
              "    <tr>\n",
              "      <th>mean</th>\n",
              "      <td>80.500000</td>\n",
              "      <td>3.456790</td>\n",
              "    </tr>\n",
              "    <tr>\n",
              "      <th>std</th>\n",
              "      <td>46.909487</td>\n",
              "      <td>1.333276</td>\n",
              "    </tr>\n",
              "    <tr>\n",
              "      <th>min</th>\n",
              "      <td>0.000000</td>\n",
              "      <td>1.000000</td>\n",
              "    </tr>\n",
              "    <tr>\n",
              "      <th>25%</th>\n",
              "      <td>40.250000</td>\n",
              "      <td>3.000000</td>\n",
              "    </tr>\n",
              "    <tr>\n",
              "      <th>50%</th>\n",
              "      <td>80.500000</td>\n",
              "      <td>4.000000</td>\n",
              "    </tr>\n",
              "    <tr>\n",
              "      <th>75%</th>\n",
              "      <td>120.750000</td>\n",
              "      <td>5.000000</td>\n",
              "    </tr>\n",
              "    <tr>\n",
              "      <th>max</th>\n",
              "      <td>161.000000</td>\n",
              "      <td>5.000000</td>\n",
              "    </tr>\n",
              "  </tbody>\n",
              "</table>\n",
              "</div>\n",
              "    <div class=\"colab-df-buttons\">\n",
              "\n",
              "  <div class=\"colab-df-container\">\n",
              "    <button class=\"colab-df-convert\" onclick=\"convertToInteractive('df-65e95b33-d997-4c00-8e2b-59bf61795da9')\"\n",
              "            title=\"Convert this dataframe to an interactive table.\"\n",
              "            style=\"display:none;\">\n",
              "\n",
              "  <svg xmlns=\"http://www.w3.org/2000/svg\" height=\"24px\" viewBox=\"0 -960 960 960\">\n",
              "    <path d=\"M120-120v-720h720v720H120Zm60-500h600v-160H180v160Zm220 220h160v-160H400v160Zm0 220h160v-160H400v160ZM180-400h160v-160H180v160Zm440 0h160v-160H620v160ZM180-180h160v-160H180v160Zm440 0h160v-160H620v160Z\"/>\n",
              "  </svg>\n",
              "    </button>\n",
              "\n",
              "  <style>\n",
              "    .colab-df-container {\n",
              "      display:flex;\n",
              "      gap: 12px;\n",
              "    }\n",
              "\n",
              "    .colab-df-convert {\n",
              "      background-color: #E8F0FE;\n",
              "      border: none;\n",
              "      border-radius: 50%;\n",
              "      cursor: pointer;\n",
              "      display: none;\n",
              "      fill: #1967D2;\n",
              "      height: 32px;\n",
              "      padding: 0 0 0 0;\n",
              "      width: 32px;\n",
              "    }\n",
              "\n",
              "    .colab-df-convert:hover {\n",
              "      background-color: #E2EBFA;\n",
              "      box-shadow: 0px 1px 2px rgba(60, 64, 67, 0.3), 0px 1px 3px 1px rgba(60, 64, 67, 0.15);\n",
              "      fill: #174EA6;\n",
              "    }\n",
              "\n",
              "    .colab-df-buttons div {\n",
              "      margin-bottom: 4px;\n",
              "    }\n",
              "\n",
              "    [theme=dark] .colab-df-convert {\n",
              "      background-color: #3B4455;\n",
              "      fill: #D2E3FC;\n",
              "    }\n",
              "\n",
              "    [theme=dark] .colab-df-convert:hover {\n",
              "      background-color: #434B5C;\n",
              "      box-shadow: 0px 1px 3px 1px rgba(0, 0, 0, 0.15);\n",
              "      filter: drop-shadow(0px 1px 2px rgba(0, 0, 0, 0.3));\n",
              "      fill: #FFFFFF;\n",
              "    }\n",
              "  </style>\n",
              "\n",
              "    <script>\n",
              "      const buttonEl =\n",
              "        document.querySelector('#df-65e95b33-d997-4c00-8e2b-59bf61795da9 button.colab-df-convert');\n",
              "      buttonEl.style.display =\n",
              "        google.colab.kernel.accessAllowed ? 'block' : 'none';\n",
              "\n",
              "      async function convertToInteractive(key) {\n",
              "        const element = document.querySelector('#df-65e95b33-d997-4c00-8e2b-59bf61795da9');\n",
              "        const dataTable =\n",
              "          await google.colab.kernel.invokeFunction('convertToInteractive',\n",
              "                                                    [key], {});\n",
              "        if (!dataTable) return;\n",
              "\n",
              "        const docLinkHtml = 'Like what you see? Visit the ' +\n",
              "          '<a target=\"_blank\" href=https://colab.research.google.com/notebooks/data_table.ipynb>data table notebook</a>'\n",
              "          + ' to learn more about interactive tables.';\n",
              "        element.innerHTML = '';\n",
              "        dataTable['output_type'] = 'display_data';\n",
              "        await google.colab.output.renderOutput(dataTable, element);\n",
              "        const docLink = document.createElement('div');\n",
              "        docLink.innerHTML = docLinkHtml;\n",
              "        element.appendChild(docLink);\n",
              "      }\n",
              "    </script>\n",
              "  </div>\n",
              "\n",
              "\n",
              "<div id=\"df-294172de-3c05-43e7-a3b2-7517b958e84f\">\n",
              "  <button class=\"colab-df-quickchart\" onclick=\"quickchart('df-294172de-3c05-43e7-a3b2-7517b958e84f')\"\n",
              "            title=\"Suggest charts\"\n",
              "            style=\"display:none;\">\n",
              "\n",
              "<svg xmlns=\"http://www.w3.org/2000/svg\" height=\"24px\"viewBox=\"0 0 24 24\"\n",
              "     width=\"24px\">\n",
              "    <g>\n",
              "        <path d=\"M19 3H5c-1.1 0-2 .9-2 2v14c0 1.1.9 2 2 2h14c1.1 0 2-.9 2-2V5c0-1.1-.9-2-2-2zM9 17H7v-7h2v7zm4 0h-2V7h2v10zm4 0h-2v-4h2v4z\"/>\n",
              "    </g>\n",
              "</svg>\n",
              "  </button>\n",
              "\n",
              "<style>\n",
              "  .colab-df-quickchart {\n",
              "      --bg-color: #E8F0FE;\n",
              "      --fill-color: #1967D2;\n",
              "      --hover-bg-color: #E2EBFA;\n",
              "      --hover-fill-color: #174EA6;\n",
              "      --disabled-fill-color: #AAA;\n",
              "      --disabled-bg-color: #DDD;\n",
              "  }\n",
              "\n",
              "  [theme=dark] .colab-df-quickchart {\n",
              "      --bg-color: #3B4455;\n",
              "      --fill-color: #D2E3FC;\n",
              "      --hover-bg-color: #434B5C;\n",
              "      --hover-fill-color: #FFFFFF;\n",
              "      --disabled-bg-color: #3B4455;\n",
              "      --disabled-fill-color: #666;\n",
              "  }\n",
              "\n",
              "  .colab-df-quickchart {\n",
              "    background-color: var(--bg-color);\n",
              "    border: none;\n",
              "    border-radius: 50%;\n",
              "    cursor: pointer;\n",
              "    display: none;\n",
              "    fill: var(--fill-color);\n",
              "    height: 32px;\n",
              "    padding: 0;\n",
              "    width: 32px;\n",
              "  }\n",
              "\n",
              "  .colab-df-quickchart:hover {\n",
              "    background-color: var(--hover-bg-color);\n",
              "    box-shadow: 0 1px 2px rgba(60, 64, 67, 0.3), 0 1px 3px 1px rgba(60, 64, 67, 0.15);\n",
              "    fill: var(--button-hover-fill-color);\n",
              "  }\n",
              "\n",
              "  .colab-df-quickchart-complete:disabled,\n",
              "  .colab-df-quickchart-complete:disabled:hover {\n",
              "    background-color: var(--disabled-bg-color);\n",
              "    fill: var(--disabled-fill-color);\n",
              "    box-shadow: none;\n",
              "  }\n",
              "\n",
              "  .colab-df-spinner {\n",
              "    border: 2px solid var(--fill-color);\n",
              "    border-color: transparent;\n",
              "    border-bottom-color: var(--fill-color);\n",
              "    animation:\n",
              "      spin 1s steps(1) infinite;\n",
              "  }\n",
              "\n",
              "  @keyframes spin {\n",
              "    0% {\n",
              "      border-color: transparent;\n",
              "      border-bottom-color: var(--fill-color);\n",
              "      border-left-color: var(--fill-color);\n",
              "    }\n",
              "    20% {\n",
              "      border-color: transparent;\n",
              "      border-left-color: var(--fill-color);\n",
              "      border-top-color: var(--fill-color);\n",
              "    }\n",
              "    30% {\n",
              "      border-color: transparent;\n",
              "      border-left-color: var(--fill-color);\n",
              "      border-top-color: var(--fill-color);\n",
              "      border-right-color: var(--fill-color);\n",
              "    }\n",
              "    40% {\n",
              "      border-color: transparent;\n",
              "      border-right-color: var(--fill-color);\n",
              "      border-top-color: var(--fill-color);\n",
              "    }\n",
              "    60% {\n",
              "      border-color: transparent;\n",
              "      border-right-color: var(--fill-color);\n",
              "    }\n",
              "    80% {\n",
              "      border-color: transparent;\n",
              "      border-right-color: var(--fill-color);\n",
              "      border-bottom-color: var(--fill-color);\n",
              "    }\n",
              "    90% {\n",
              "      border-color: transparent;\n",
              "      border-bottom-color: var(--fill-color);\n",
              "    }\n",
              "  }\n",
              "</style>\n",
              "\n",
              "  <script>\n",
              "    async function quickchart(key) {\n",
              "      const quickchartButtonEl =\n",
              "        document.querySelector('#' + key + ' button');\n",
              "      quickchartButtonEl.disabled = true;  // To prevent multiple clicks.\n",
              "      quickchartButtonEl.classList.add('colab-df-spinner');\n",
              "      try {\n",
              "        const charts = await google.colab.kernel.invokeFunction(\n",
              "            'suggestCharts', [key], {});\n",
              "      } catch (error) {\n",
              "        console.error('Error during call to suggestCharts:', error);\n",
              "      }\n",
              "      quickchartButtonEl.classList.remove('colab-df-spinner');\n",
              "      quickchartButtonEl.classList.add('colab-df-quickchart-complete');\n",
              "    }\n",
              "    (() => {\n",
              "      let quickchartButtonEl =\n",
              "        document.querySelector('#df-294172de-3c05-43e7-a3b2-7517b958e84f button');\n",
              "      quickchartButtonEl.style.display =\n",
              "        google.colab.kernel.accessAllowed ? 'block' : 'none';\n",
              "    })();\n",
              "  </script>\n",
              "</div>\n",
              "    </div>\n",
              "  </div>\n"
            ]
          },
          "metadata": {},
          "execution_count": 167
        }
      ],
      "source": [
        "customers.describe()"
      ]
    },
    {
      "cell_type": "code",
      "execution_count": 168,
      "metadata": {
        "id": "Kt_Umyr_sfyO",
        "outputId": "49f801ba-f1bc-4df5-e420-923a1d1a4976",
        "colab": {
          "base_uri": "https://localhost:8080/"
        }
      },
      "outputs": [
        {
          "output_type": "execute_result",
          "data": {
            "text/plain": [
              "(162, 13)"
            ]
          },
          "metadata": {},
          "execution_count": 168
        }
      ],
      "source": [
        "customers.shape"
      ]
    },
    {
      "cell_type": "markdown",
      "metadata": {
        "id": "BwSRAOSmsfyO"
      },
      "source": [
        "### Data Preparation"
      ]
    },
    {
      "cell_type": "code",
      "execution_count": 169,
      "metadata": {
        "id": "lmiA3l8NsfyP"
      },
      "outputs": [],
      "source": [
        "# Drop the first column 'Unnamed: 0' from both the dataframes\n",
        "customers.drop(columns=['Unnamed: 0','name','surname'], axis=1, inplace=True)"
      ]
    },
    {
      "cell_type": "markdown",
      "metadata": {
        "id": "xWXx31KlsfyP"
      },
      "source": [
        "### Checking Datatypes"
      ]
    },
    {
      "cell_type": "code",
      "execution_count": 170,
      "metadata": {
        "id": "4g7ua_lssfyP",
        "outputId": "bb8bd5cb-41c6-4be9-ab41-ac0c8f2edc6f",
        "colab": {
          "base_uri": "https://localhost:8080/"
        }
      },
      "outputs": [
        {
          "output_type": "stream",
          "name": "stdout",
          "text": [
            "Index(['﻿customerid', 'entity', 'birth_date', 'sex', 'country', 'state',\n",
            "       'purpose', 'deal_satisfaction', 'mortgage', 'source'],\n",
            "      dtype='object')\n"
          ]
        }
      ],
      "source": [
        "print(customers.columns)"
      ]
    },
    {
      "cell_type": "code",
      "execution_count": 171,
      "metadata": {
        "id": "qPWbGTTjsfyQ",
        "outputId": "62d2ad81-8de6-4e33-91de-536d4c28072c",
        "colab": {
          "base_uri": "https://localhost:8080/"
        }
      },
      "outputs": [
        {
          "output_type": "execute_result",
          "data": {
            "text/plain": [
              "﻿customerid          object\n",
              "entity               object\n",
              "birth_date           object\n",
              "sex                  object\n",
              "country              object\n",
              "state                object\n",
              "purpose              object\n",
              "deal_satisfaction     int64\n",
              "mortgage             object\n",
              "source               object\n",
              "dtype: object"
            ]
          },
          "metadata": {},
          "execution_count": 171
        }
      ],
      "source": [
        "customers.dtypes"
      ]
    },
    {
      "cell_type": "code",
      "execution_count": 172,
      "metadata": {
        "id": "cKUjPnrgsfyR"
      },
      "outputs": [],
      "source": [
        "# Convert the data types of the columns to their appropriate types 'strings'\n",
        "customers['﻿customerid'] = customers['﻿customerid'].astype('string')\n",
        "customers['entity'] = customers['entity'].astype('string')\n",
        "customers['sex'] = customers['sex'].astype('string')\n",
        "customers['country'] = customers['country'].astype('string')\n",
        "customers['state'] = customers['state'].astype('string')\n",
        "customers['purpose'] = customers['purpose'].astype('string')\n",
        "customers['mortgage'] = customers['mortgage'].astype('string')\n",
        "customers['source'] = customers['source'].astype('string')"
      ]
    },
    {
      "cell_type": "code",
      "execution_count": 173,
      "metadata": {
        "id": "l_d_jFIisfyR"
      },
      "outputs": [],
      "source": [
        "# Convert the data types of the columns to their appropriate types 'date'\n",
        "customers['birth_date'] = customers['birth_date'].astype('datetime64[ns]')"
      ]
    },
    {
      "cell_type": "code",
      "execution_count": 174,
      "metadata": {
        "id": "RTlt9QGbsfyS",
        "outputId": "62e9eabe-8420-4915-bde0-bb7970d6f08c",
        "colab": {
          "base_uri": "https://localhost:8080/"
        }
      },
      "outputs": [
        {
          "output_type": "execute_result",
          "data": {
            "text/plain": [
              "﻿customerid                  string\n",
              "entity                       string\n",
              "birth_date           datetime64[ns]\n",
              "sex                          string\n",
              "country                      string\n",
              "state                        string\n",
              "purpose                      string\n",
              "deal_satisfaction             int64\n",
              "mortgage                     string\n",
              "source                       string\n",
              "dtype: object"
            ]
          },
          "metadata": {},
          "execution_count": 174
        }
      ],
      "source": [
        "customers.dtypes"
      ]
    },
    {
      "cell_type": "markdown",
      "source": [
        "### Column names"
      ],
      "metadata": {
        "id": "_uF4QoRjwkQp"
      }
    },
    {
      "cell_type": "code",
      "source": [
        "# rename columns\n",
        "customers.rename(columns={'﻿customerid': 'customerid'}, inplace=True)\n",
        "customers.rename(columns={'birth_date':'birthdate'}, inplace=True)"
      ],
      "metadata": {
        "id": "nZ6ef8g9wobC"
      },
      "execution_count": 175,
      "outputs": []
    },
    {
      "cell_type": "markdown",
      "source": [
        "### Categorical to numerical"
      ],
      "metadata": {
        "id": "tP0U-9yjxLMZ"
      }
    },
    {
      "cell_type": "markdown",
      "source": [
        "### Case: If there are inconsistencies with Capitol and lowercases, unify them using the lowercase convention.\n"
      ],
      "metadata": {
        "id": "KCJexPoKJzqW"
      }
    },
    {
      "cell_type": "markdown",
      "source": [
        "using the lowercase method"
      ],
      "metadata": {
        "id": "gIxQBjqRKCf3"
      }
    },
    {
      "cell_type": "code",
      "source": [
        "categorical_cols = ['entity',  'sex', 'country', 'state',\n",
        "       'purpose', 'mortgage', 'source']"
      ],
      "metadata": {
        "id": "KJnR_IRqH1U0"
      },
      "execution_count": 176,
      "outputs": []
    },
    {
      "cell_type": "code",
      "source": [
        "for col in categorical_cols:\n",
        "  customers[col] = customers[col].str.lower()"
      ],
      "metadata": {
        "id": "LfYO1IMUKTr_"
      },
      "execution_count": 177,
      "outputs": []
    },
    {
      "cell_type": "code",
      "source": [
        "# using label encoder to encode categorical columns\n",
        "label_encoder = LabelEncoder()"
      ],
      "metadata": {
        "id": "e9oXud9dE5Dd"
      },
      "execution_count": 178,
      "outputs": []
    },
    {
      "cell_type": "markdown",
      "source": [
        "##### we have first to check the unoque values of each column"
      ],
      "metadata": {
        "id": "pwn67ugSF4zl"
      }
    },
    {
      "cell_type": "markdown",
      "source": [
        "##### 1 - Entity column"
      ],
      "metadata": {
        "id": "-EKJT66GGAiZ"
      }
    },
    {
      "cell_type": "code",
      "source": [
        "print(customers['entity'].unique())"
      ],
      "metadata": {
        "id": "_IIYg7HWF4je",
        "outputId": "612c3122-d048-4783-8e1a-c1eba7bf6b61",
        "colab": {
          "base_uri": "https://localhost:8080/"
        }
      },
      "execution_count": 179,
      "outputs": [
        {
          "output_type": "stream",
          "name": "stdout",
          "text": [
            "<StringArray>\n",
            "['individual', 'company']\n",
            "Length: 2, dtype: string\n"
          ]
        }
      ]
    },
    {
      "cell_type": "code",
      "source": [
        "customers['entity'] = label_encoder.fit_transform(customers['entity'])\n",
        "print(customers['entity'].unique())"
      ],
      "metadata": {
        "id": "hocbYqX6MvDE",
        "outputId": "b8a6956f-a7e8-4f3f-f0ff-ffac0c68f0e8",
        "colab": {
          "base_uri": "https://localhost:8080/"
        }
      },
      "execution_count": 197,
      "outputs": [
        {
          "output_type": "stream",
          "name": "stdout",
          "text": [
            "[1 0]\n"
          ]
        }
      ]
    },
    {
      "cell_type": "markdown",
      "source": [
        "2 - Sex column"
      ],
      "metadata": {
        "id": "qN7FuspcGP8D"
      }
    },
    {
      "cell_type": "code",
      "source": [
        "print(customers['sex'].unique())"
      ],
      "metadata": {
        "id": "0expmYm6GTmK",
        "outputId": "609e020e-d42f-4b19-b4b7-f0b7ecb57f9e",
        "colab": {
          "base_uri": "https://localhost:8080/"
        }
      },
      "execution_count": 180,
      "outputs": [
        {
          "output_type": "stream",
          "name": "stdout",
          "text": [
            "<StringArray>\n",
            "['f', 'm', <NA>]\n",
            "Length: 3, dtype: string\n"
          ]
        }
      ]
    },
    {
      "cell_type": "markdown",
      "source": [
        "##### Imputation of NA values"
      ],
      "metadata": {
        "id": "mhFTX6eCIF19"
      }
    },
    {
      "cell_type": "code",
      "source": [
        "customers['sex'].fillna('Unknown', inplace=True)"
      ],
      "metadata": {
        "id": "TTzqn6LmIKQq"
      },
      "execution_count": 181,
      "outputs": []
    },
    {
      "cell_type": "code",
      "source": [
        "customers['sex'] = label_encoder.fit_transform(customers['sex'])\n",
        "print(customers['sex'].unique())"
      ],
      "metadata": {
        "id": "cnQTSWlkIT6l",
        "outputId": "3b0319fc-2e50-432c-daca-083857e66a05",
        "colab": {
          "base_uri": "https://localhost:8080/"
        }
      },
      "execution_count": 182,
      "outputs": [
        {
          "output_type": "stream",
          "name": "stdout",
          "text": [
            "[1 2 0]\n"
          ]
        }
      ]
    },
    {
      "cell_type": "markdown",
      "source": [
        "3 - country column"
      ],
      "metadata": {
        "id": "F4wEeTgjGYgO"
      }
    },
    {
      "cell_type": "markdown",
      "source": [
        "1.   Remove leading and trailing whitespace from all values in the 'country' column.\n",
        "2.   Convert all values to lowercase to ensure uniform capitalization.\n"
      ],
      "metadata": {
        "id": "4umaV9d4MBPx"
      }
    },
    {
      "cell_type": "code",
      "source": [
        "customers['country'] = customers['country'].str.strip().str.lower()"
      ],
      "metadata": {
        "id": "viG1gNzYL1a1"
      },
      "execution_count": 184,
      "outputs": []
    },
    {
      "cell_type": "code",
      "source": [
        "print(customers['country'].unique())"
      ],
      "metadata": {
        "id": "cl1xX0VzIRcD",
        "outputId": "c6449779-a7c0-492d-ef3f-e99da63b4934",
        "colab": {
          "base_uri": "https://localhost:8080/"
        }
      },
      "execution_count": 185,
      "outputs": [
        {
          "output_type": "stream",
          "name": "stdout",
          "text": [
            "<StringArray>\n",
            "['usa', 'canada', 'germany', 'belgium', 'mexico', 'russia', 'uk', 'denmark']\n",
            "Length: 8, dtype: string\n"
          ]
        }
      ]
    },
    {
      "cell_type": "code",
      "source": [
        "customers['country'] = label_encoder.fit_transform(customers['country'])\n",
        "print(customers['country'].unique())"
      ],
      "metadata": {
        "id": "IUT8lQHrGeLx",
        "outputId": "6d637675-88c9-4fef-b30a-5c5ed4f50a3b",
        "colab": {
          "base_uri": "https://localhost:8080/"
        }
      },
      "execution_count": 186,
      "outputs": [
        {
          "output_type": "stream",
          "name": "stdout",
          "text": [
            "[7 1 3 0 4 5 6 2]\n"
          ]
        }
      ]
    },
    {
      "cell_type": "markdown",
      "source": [
        "4 - state column"
      ],
      "metadata": {
        "id": "GAqEXIPKGgpB"
      }
    },
    {
      "cell_type": "code",
      "source": [
        "print(customers['state'].unique())"
      ],
      "metadata": {
        "id": "oJXYxcS6Gp4a",
        "outputId": "e4b25123-9da4-4e9a-8268-ab1419f49b93",
        "colab": {
          "base_uri": "https://localhost:8080/"
        }
      },
      "execution_count": 187,
      "outputs": [
        {
          "output_type": "stream",
          "name": "stdout",
          "text": [
            "<StringArray>\n",
            "['california',         <NA>,     'oregon',    'arizona',     'nevada',\n",
            "   'colorado',       'utah',   'virginia',    'wyoming',     'kansas']\n",
            "Length: 10, dtype: string\n"
          ]
        }
      ]
    },
    {
      "cell_type": "markdown",
      "source": [
        "##### Imputation of NA values"
      ],
      "metadata": {
        "id": "H8Xt_Q-OIZPQ"
      }
    },
    {
      "cell_type": "code",
      "source": [
        "customers['state'].fillna('unknown',inplace=True)"
      ],
      "metadata": {
        "id": "Y4-ZumB2IdUr"
      },
      "execution_count": 188,
      "outputs": []
    },
    {
      "cell_type": "code",
      "source": [
        "customers['state'] = label_encoder.fit_transform(customers['state'])\n",
        "print(customers['state'].unique())"
      ],
      "metadata": {
        "id": "uBLsITEaIcFx",
        "outputId": "c4ab93a4-6b8e-4010-a322-58f18f536539",
        "colab": {
          "base_uri": "https://localhost:8080/"
        }
      },
      "execution_count": 189,
      "outputs": [
        {
          "output_type": "stream",
          "name": "stdout",
          "text": [
            "[1 6 5 0 4 2 7 8 9 3]\n"
          ]
        }
      ]
    },
    {
      "cell_type": "markdown",
      "source": [
        "5 - purpose column"
      ],
      "metadata": {
        "id": "AK0Xh3i9GjCY"
      }
    },
    {
      "cell_type": "code",
      "source": [
        "print(customers['purpose'].unique())"
      ],
      "metadata": {
        "id": "UNTKKlO7GryO",
        "outputId": "4eebf671-a122-47d1-9669-5a6c1df20d21",
        "colab": {
          "base_uri": "https://localhost:8080/"
        }
      },
      "execution_count": 190,
      "outputs": [
        {
          "output_type": "stream",
          "name": "stdout",
          "text": [
            "<StringArray>\n",
            "['home', 'investment']\n",
            "Length: 2, dtype: string\n"
          ]
        }
      ]
    },
    {
      "cell_type": "code",
      "source": [
        "customers['purpose'] = label_encoder.fit_transform(customers['purpose'])\n",
        "print(customers['purpose'].unique())"
      ],
      "metadata": {
        "id": "8l-UpElSHjf7",
        "outputId": "ed11788d-c6e0-4e2e-d454-e95738b4310e",
        "colab": {
          "base_uri": "https://localhost:8080/"
        }
      },
      "execution_count": 191,
      "outputs": [
        {
          "output_type": "stream",
          "name": "stdout",
          "text": [
            "[0 1]\n"
          ]
        }
      ]
    },
    {
      "cell_type": "markdown",
      "source": [
        "6 - mortgage column"
      ],
      "metadata": {
        "id": "suij33s9GlUR"
      }
    },
    {
      "cell_type": "code",
      "source": [
        "print(customers['mortgage'].unique())"
      ],
      "metadata": {
        "id": "-uhW9U0vGtzN",
        "outputId": "7c7536a0-a9ef-46dc-8f0c-05afb1a5b4d8",
        "colab": {
          "base_uri": "https://localhost:8080/"
        }
      },
      "execution_count": 192,
      "outputs": [
        {
          "output_type": "stream",
          "name": "stdout",
          "text": [
            "<StringArray>\n",
            "['yes', 'no']\n",
            "Length: 2, dtype: string\n"
          ]
        }
      ]
    },
    {
      "cell_type": "code",
      "source": [
        "customers['mortgage'] = label_encoder.fit_transform(customers['mortgage'])\n",
        "print(customers['mortgage'].unique())"
      ],
      "metadata": {
        "id": "5y5jvSTEHpj8",
        "outputId": "b9c77fd3-f7eb-4b3d-a584-e30a61b39ecb",
        "colab": {
          "base_uri": "https://localhost:8080/"
        }
      },
      "execution_count": 193,
      "outputs": [
        {
          "output_type": "stream",
          "name": "stdout",
          "text": [
            "[1 0]\n"
          ]
        }
      ]
    },
    {
      "cell_type": "markdown",
      "source": [
        "7 - source column"
      ],
      "metadata": {
        "id": "Qa4MSx26GnlW"
      }
    },
    {
      "cell_type": "code",
      "source": [
        "print(customers['source'].unique())"
      ],
      "metadata": {
        "id": "_DjcbMk5GwVd",
        "outputId": "41ab2536-7bf7-4715-d0ef-e0df415c7964",
        "colab": {
          "base_uri": "https://localhost:8080/"
        }
      },
      "execution_count": 194,
      "outputs": [
        {
          "output_type": "stream",
          "name": "stdout",
          "text": [
            "<StringArray>\n",
            "['website', 'agency', 'client']\n",
            "Length: 3, dtype: string\n"
          ]
        }
      ]
    },
    {
      "cell_type": "code",
      "source": [
        "customers['source'] = label_encoder.fit_transform(customers['source'])\n",
        "print(customers['source'].unique())"
      ],
      "metadata": {
        "id": "DddwAIi2Huh6",
        "outputId": "34a27ece-2ce3-4f92-8de6-81f7ae040e6d",
        "colab": {
          "base_uri": "https://localhost:8080/"
        }
      },
      "execution_count": 195,
      "outputs": [
        {
          "output_type": "stream",
          "name": "stdout",
          "text": [
            "[2 0 1]\n"
          ]
        }
      ]
    },
    {
      "cell_type": "code",
      "source": [
        "customers.info()"
      ],
      "metadata": {
        "id": "bDo3cOnOFFzk",
        "outputId": "86fb0680-0b4c-4436-eb7f-9dd3515f02a3",
        "colab": {
          "base_uri": "https://localhost:8080/"
        }
      },
      "execution_count": 198,
      "outputs": [
        {
          "output_type": "stream",
          "name": "stdout",
          "text": [
            "<class 'pandas.core.frame.DataFrame'>\n",
            "RangeIndex: 162 entries, 0 to 161\n",
            "Data columns (total 10 columns):\n",
            " #   Column             Non-Null Count  Dtype         \n",
            "---  ------             --------------  -----         \n",
            " 0   customerid         162 non-null    string        \n",
            " 1   entity             162 non-null    int64         \n",
            " 2   birthdate          155 non-null    datetime64[ns]\n",
            " 3   sex                162 non-null    int64         \n",
            " 4   country            162 non-null    int64         \n",
            " 5   state              162 non-null    int64         \n",
            " 6   purpose            162 non-null    int64         \n",
            " 7   deal_satisfaction  162 non-null    int64         \n",
            " 8   mortgage           162 non-null    int64         \n",
            " 9   source             162 non-null    int64         \n",
            "dtypes: datetime64[ns](1), int64(8), string(1)\n",
            "memory usage: 12.8 KB\n"
          ]
        }
      ]
    },
    {
      "cell_type": "code",
      "source": [
        "customers.head()"
      ],
      "metadata": {
        "id": "E8sv3aFcDw5k",
        "outputId": "3a83d594-99b5-4632-b6ca-ffef816cc681",
        "colab": {
          "base_uri": "https://localhost:8080/",
          "height": 204
        }
      },
      "execution_count": 199,
      "outputs": [
        {
          "output_type": "execute_result",
          "data": {
            "text/plain": [
              "  customerid  entity  birthdate  sex  country  state  purpose  \\\n",
              "0      C0110       1 1968-05-11    1        7      1        0   \n",
              "1      C0010       1 1962-11-26    2        7      1        0   \n",
              "2      C0132       1 1959-04-07    2        7      1        0   \n",
              "3      C0137       1 1959-11-25    2        7      1        0   \n",
              "4      C0174       0        NaT    0        7      1        1   \n",
              "\n",
              "   deal_satisfaction  mortgage  source  \n",
              "0                  4         1       2  \n",
              "1                  1         0       2  \n",
              "2                  4         1       0  \n",
              "3                  5         0       2  \n",
              "4                  5         0       2  "
            ],
            "text/html": [
              "\n",
              "  <div id=\"df-615f704e-5529-4da3-92f8-13794d1587e0\" class=\"colab-df-container\">\n",
              "    <div>\n",
              "<style scoped>\n",
              "    .dataframe tbody tr th:only-of-type {\n",
              "        vertical-align: middle;\n",
              "    }\n",
              "\n",
              "    .dataframe tbody tr th {\n",
              "        vertical-align: top;\n",
              "    }\n",
              "\n",
              "    .dataframe thead th {\n",
              "        text-align: right;\n",
              "    }\n",
              "</style>\n",
              "<table border=\"1\" class=\"dataframe\">\n",
              "  <thead>\n",
              "    <tr style=\"text-align: right;\">\n",
              "      <th></th>\n",
              "      <th>customerid</th>\n",
              "      <th>entity</th>\n",
              "      <th>birthdate</th>\n",
              "      <th>sex</th>\n",
              "      <th>country</th>\n",
              "      <th>state</th>\n",
              "      <th>purpose</th>\n",
              "      <th>deal_satisfaction</th>\n",
              "      <th>mortgage</th>\n",
              "      <th>source</th>\n",
              "    </tr>\n",
              "  </thead>\n",
              "  <tbody>\n",
              "    <tr>\n",
              "      <th>0</th>\n",
              "      <td>C0110</td>\n",
              "      <td>1</td>\n",
              "      <td>1968-05-11</td>\n",
              "      <td>1</td>\n",
              "      <td>7</td>\n",
              "      <td>1</td>\n",
              "      <td>0</td>\n",
              "      <td>4</td>\n",
              "      <td>1</td>\n",
              "      <td>2</td>\n",
              "    </tr>\n",
              "    <tr>\n",
              "      <th>1</th>\n",
              "      <td>C0010</td>\n",
              "      <td>1</td>\n",
              "      <td>1962-11-26</td>\n",
              "      <td>2</td>\n",
              "      <td>7</td>\n",
              "      <td>1</td>\n",
              "      <td>0</td>\n",
              "      <td>1</td>\n",
              "      <td>0</td>\n",
              "      <td>2</td>\n",
              "    </tr>\n",
              "    <tr>\n",
              "      <th>2</th>\n",
              "      <td>C0132</td>\n",
              "      <td>1</td>\n",
              "      <td>1959-04-07</td>\n",
              "      <td>2</td>\n",
              "      <td>7</td>\n",
              "      <td>1</td>\n",
              "      <td>0</td>\n",
              "      <td>4</td>\n",
              "      <td>1</td>\n",
              "      <td>0</td>\n",
              "    </tr>\n",
              "    <tr>\n",
              "      <th>3</th>\n",
              "      <td>C0137</td>\n",
              "      <td>1</td>\n",
              "      <td>1959-11-25</td>\n",
              "      <td>2</td>\n",
              "      <td>7</td>\n",
              "      <td>1</td>\n",
              "      <td>0</td>\n",
              "      <td>5</td>\n",
              "      <td>0</td>\n",
              "      <td>2</td>\n",
              "    </tr>\n",
              "    <tr>\n",
              "      <th>4</th>\n",
              "      <td>C0174</td>\n",
              "      <td>0</td>\n",
              "      <td>NaT</td>\n",
              "      <td>0</td>\n",
              "      <td>7</td>\n",
              "      <td>1</td>\n",
              "      <td>1</td>\n",
              "      <td>5</td>\n",
              "      <td>0</td>\n",
              "      <td>2</td>\n",
              "    </tr>\n",
              "  </tbody>\n",
              "</table>\n",
              "</div>\n",
              "    <div class=\"colab-df-buttons\">\n",
              "\n",
              "  <div class=\"colab-df-container\">\n",
              "    <button class=\"colab-df-convert\" onclick=\"convertToInteractive('df-615f704e-5529-4da3-92f8-13794d1587e0')\"\n",
              "            title=\"Convert this dataframe to an interactive table.\"\n",
              "            style=\"display:none;\">\n",
              "\n",
              "  <svg xmlns=\"http://www.w3.org/2000/svg\" height=\"24px\" viewBox=\"0 -960 960 960\">\n",
              "    <path d=\"M120-120v-720h720v720H120Zm60-500h600v-160H180v160Zm220 220h160v-160H400v160Zm0 220h160v-160H400v160ZM180-400h160v-160H180v160Zm440 0h160v-160H620v160ZM180-180h160v-160H180v160Zm440 0h160v-160H620v160Z\"/>\n",
              "  </svg>\n",
              "    </button>\n",
              "\n",
              "  <style>\n",
              "    .colab-df-container {\n",
              "      display:flex;\n",
              "      gap: 12px;\n",
              "    }\n",
              "\n",
              "    .colab-df-convert {\n",
              "      background-color: #E8F0FE;\n",
              "      border: none;\n",
              "      border-radius: 50%;\n",
              "      cursor: pointer;\n",
              "      display: none;\n",
              "      fill: #1967D2;\n",
              "      height: 32px;\n",
              "      padding: 0 0 0 0;\n",
              "      width: 32px;\n",
              "    }\n",
              "\n",
              "    .colab-df-convert:hover {\n",
              "      background-color: #E2EBFA;\n",
              "      box-shadow: 0px 1px 2px rgba(60, 64, 67, 0.3), 0px 1px 3px 1px rgba(60, 64, 67, 0.15);\n",
              "      fill: #174EA6;\n",
              "    }\n",
              "\n",
              "    .colab-df-buttons div {\n",
              "      margin-bottom: 4px;\n",
              "    }\n",
              "\n",
              "    [theme=dark] .colab-df-convert {\n",
              "      background-color: #3B4455;\n",
              "      fill: #D2E3FC;\n",
              "    }\n",
              "\n",
              "    [theme=dark] .colab-df-convert:hover {\n",
              "      background-color: #434B5C;\n",
              "      box-shadow: 0px 1px 3px 1px rgba(0, 0, 0, 0.15);\n",
              "      filter: drop-shadow(0px 1px 2px rgba(0, 0, 0, 0.3));\n",
              "      fill: #FFFFFF;\n",
              "    }\n",
              "  </style>\n",
              "\n",
              "    <script>\n",
              "      const buttonEl =\n",
              "        document.querySelector('#df-615f704e-5529-4da3-92f8-13794d1587e0 button.colab-df-convert');\n",
              "      buttonEl.style.display =\n",
              "        google.colab.kernel.accessAllowed ? 'block' : 'none';\n",
              "\n",
              "      async function convertToInteractive(key) {\n",
              "        const element = document.querySelector('#df-615f704e-5529-4da3-92f8-13794d1587e0');\n",
              "        const dataTable =\n",
              "          await google.colab.kernel.invokeFunction('convertToInteractive',\n",
              "                                                    [key], {});\n",
              "        if (!dataTable) return;\n",
              "\n",
              "        const docLinkHtml = 'Like what you see? Visit the ' +\n",
              "          '<a target=\"_blank\" href=https://colab.research.google.com/notebooks/data_table.ipynb>data table notebook</a>'\n",
              "          + ' to learn more about interactive tables.';\n",
              "        element.innerHTML = '';\n",
              "        dataTable['output_type'] = 'display_data';\n",
              "        await google.colab.output.renderOutput(dataTable, element);\n",
              "        const docLink = document.createElement('div');\n",
              "        docLink.innerHTML = docLinkHtml;\n",
              "        element.appendChild(docLink);\n",
              "      }\n",
              "    </script>\n",
              "  </div>\n",
              "\n",
              "\n",
              "<div id=\"df-0c876d3c-629f-4f03-9333-ab56034289d3\">\n",
              "  <button class=\"colab-df-quickchart\" onclick=\"quickchart('df-0c876d3c-629f-4f03-9333-ab56034289d3')\"\n",
              "            title=\"Suggest charts\"\n",
              "            style=\"display:none;\">\n",
              "\n",
              "<svg xmlns=\"http://www.w3.org/2000/svg\" height=\"24px\"viewBox=\"0 0 24 24\"\n",
              "     width=\"24px\">\n",
              "    <g>\n",
              "        <path d=\"M19 3H5c-1.1 0-2 .9-2 2v14c0 1.1.9 2 2 2h14c1.1 0 2-.9 2-2V5c0-1.1-.9-2-2-2zM9 17H7v-7h2v7zm4 0h-2V7h2v10zm4 0h-2v-4h2v4z\"/>\n",
              "    </g>\n",
              "</svg>\n",
              "  </button>\n",
              "\n",
              "<style>\n",
              "  .colab-df-quickchart {\n",
              "      --bg-color: #E8F0FE;\n",
              "      --fill-color: #1967D2;\n",
              "      --hover-bg-color: #E2EBFA;\n",
              "      --hover-fill-color: #174EA6;\n",
              "      --disabled-fill-color: #AAA;\n",
              "      --disabled-bg-color: #DDD;\n",
              "  }\n",
              "\n",
              "  [theme=dark] .colab-df-quickchart {\n",
              "      --bg-color: #3B4455;\n",
              "      --fill-color: #D2E3FC;\n",
              "      --hover-bg-color: #434B5C;\n",
              "      --hover-fill-color: #FFFFFF;\n",
              "      --disabled-bg-color: #3B4455;\n",
              "      --disabled-fill-color: #666;\n",
              "  }\n",
              "\n",
              "  .colab-df-quickchart {\n",
              "    background-color: var(--bg-color);\n",
              "    border: none;\n",
              "    border-radius: 50%;\n",
              "    cursor: pointer;\n",
              "    display: none;\n",
              "    fill: var(--fill-color);\n",
              "    height: 32px;\n",
              "    padding: 0;\n",
              "    width: 32px;\n",
              "  }\n",
              "\n",
              "  .colab-df-quickchart:hover {\n",
              "    background-color: var(--hover-bg-color);\n",
              "    box-shadow: 0 1px 2px rgba(60, 64, 67, 0.3), 0 1px 3px 1px rgba(60, 64, 67, 0.15);\n",
              "    fill: var(--button-hover-fill-color);\n",
              "  }\n",
              "\n",
              "  .colab-df-quickchart-complete:disabled,\n",
              "  .colab-df-quickchart-complete:disabled:hover {\n",
              "    background-color: var(--disabled-bg-color);\n",
              "    fill: var(--disabled-fill-color);\n",
              "    box-shadow: none;\n",
              "  }\n",
              "\n",
              "  .colab-df-spinner {\n",
              "    border: 2px solid var(--fill-color);\n",
              "    border-color: transparent;\n",
              "    border-bottom-color: var(--fill-color);\n",
              "    animation:\n",
              "      spin 1s steps(1) infinite;\n",
              "  }\n",
              "\n",
              "  @keyframes spin {\n",
              "    0% {\n",
              "      border-color: transparent;\n",
              "      border-bottom-color: var(--fill-color);\n",
              "      border-left-color: var(--fill-color);\n",
              "    }\n",
              "    20% {\n",
              "      border-color: transparent;\n",
              "      border-left-color: var(--fill-color);\n",
              "      border-top-color: var(--fill-color);\n",
              "    }\n",
              "    30% {\n",
              "      border-color: transparent;\n",
              "      border-left-color: var(--fill-color);\n",
              "      border-top-color: var(--fill-color);\n",
              "      border-right-color: var(--fill-color);\n",
              "    }\n",
              "    40% {\n",
              "      border-color: transparent;\n",
              "      border-right-color: var(--fill-color);\n",
              "      border-top-color: var(--fill-color);\n",
              "    }\n",
              "    60% {\n",
              "      border-color: transparent;\n",
              "      border-right-color: var(--fill-color);\n",
              "    }\n",
              "    80% {\n",
              "      border-color: transparent;\n",
              "      border-right-color: var(--fill-color);\n",
              "      border-bottom-color: var(--fill-color);\n",
              "    }\n",
              "    90% {\n",
              "      border-color: transparent;\n",
              "      border-bottom-color: var(--fill-color);\n",
              "    }\n",
              "  }\n",
              "</style>\n",
              "\n",
              "  <script>\n",
              "    async function quickchart(key) {\n",
              "      const quickchartButtonEl =\n",
              "        document.querySelector('#' + key + ' button');\n",
              "      quickchartButtonEl.disabled = true;  // To prevent multiple clicks.\n",
              "      quickchartButtonEl.classList.add('colab-df-spinner');\n",
              "      try {\n",
              "        const charts = await google.colab.kernel.invokeFunction(\n",
              "            'suggestCharts', [key], {});\n",
              "      } catch (error) {\n",
              "        console.error('Error during call to suggestCharts:', error);\n",
              "      }\n",
              "      quickchartButtonEl.classList.remove('colab-df-spinner');\n",
              "      quickchartButtonEl.classList.add('colab-df-quickchart-complete');\n",
              "    }\n",
              "    (() => {\n",
              "      let quickchartButtonEl =\n",
              "        document.querySelector('#df-0c876d3c-629f-4f03-9333-ab56034289d3 button');\n",
              "      quickchartButtonEl.style.display =\n",
              "        google.colab.kernel.accessAllowed ? 'block' : 'none';\n",
              "    })();\n",
              "  </script>\n",
              "</div>\n",
              "    </div>\n",
              "  </div>\n"
            ]
          },
          "metadata": {},
          "execution_count": 199
        }
      ]
    },
    {
      "cell_type": "code",
      "execution_count": 200,
      "metadata": {
        "id": "u_dWzwj3sfyT",
        "outputId": "d46fdbb0-62e9-4638-dc2c-6a886fe5b270",
        "colab": {
          "base_uri": "https://localhost:8080/"
        }
      },
      "outputs": [
        {
          "output_type": "execute_result",
          "data": {
            "text/plain": [
              "customerid           0\n",
              "entity               0\n",
              "birthdate            7\n",
              "sex                  0\n",
              "country              0\n",
              "state                0\n",
              "purpose              0\n",
              "deal_satisfaction    0\n",
              "mortgage             0\n",
              "source               0\n",
              "dtype: int64"
            ]
          },
          "metadata": {},
          "execution_count": 200
        }
      ],
      "source": [
        "# For customers dataframe\n",
        "customers.isnull().sum()"
      ]
    },
    {
      "cell_type": "code",
      "source": [
        "missing_percentage = (customers.isnull().mean() * 100).round(2)\n",
        "print(missing_percentage)"
      ],
      "metadata": {
        "id": "6II8odwhJQoR",
        "outputId": "ccbfbc5f-d9d6-4c08-a28d-84f1bc05b74c",
        "colab": {
          "base_uri": "https://localhost:8080/"
        }
      },
      "execution_count": 201,
      "outputs": [
        {
          "output_type": "stream",
          "name": "stdout",
          "text": [
            "customerid           0.00\n",
            "entity               0.00\n",
            "birthdate            4.32\n",
            "sex                  0.00\n",
            "country              0.00\n",
            "state                0.00\n",
            "purpose              0.00\n",
            "deal_satisfaction    0.00\n",
            "mortgage             0.00\n",
            "source               0.00\n",
            "dtype: float64\n"
          ]
        }
      ]
    },
    {
      "cell_type": "markdown",
      "source": [
        "##### Droping the rows that contains missing values because it is with 4.32 % of the dataset."
      ],
      "metadata": {
        "id": "nUjxTqDKJakp"
      }
    },
    {
      "cell_type": "code",
      "source": [
        "customers.dropna(subset=['birthdate'], inplace=True)"
      ],
      "metadata": {
        "id": "JUdTzPy-JaV1"
      },
      "execution_count": 202,
      "outputs": []
    },
    {
      "cell_type": "code",
      "source": [
        "customers.shape"
      ],
      "metadata": {
        "id": "iCV55wdcJmVl",
        "outputId": "d6f8adba-f1fe-45fd-d2bc-c8ca9d77ebec",
        "colab": {
          "base_uri": "https://localhost:8080/"
        }
      },
      "execution_count": 203,
      "outputs": [
        {
          "output_type": "execute_result",
          "data": {
            "text/plain": [
              "(155, 10)"
            ]
          },
          "metadata": {},
          "execution_count": 203
        }
      ]
    },
    {
      "cell_type": "code",
      "execution_count": 88,
      "metadata": {
        "id": "PLUbxtKjsfyT",
        "outputId": "c810ec2b-7d28-4669-beb1-3aba6fa8ef79",
        "colab": {
          "base_uri": "https://localhost:8080/"
        }
      },
      "outputs": [
        {
          "output_type": "execute_result",
          "data": {
            "text/plain": [
              "Unnamed: 0     0\n",
              "﻿id            0\n",
              "building       0\n",
              "date_sale      0\n",
              "type           0\n",
              "property#      0\n",
              "area           0\n",
              "price          0\n",
              "status         0\n",
              "customerid    72\n",
              "dtype: int64"
            ]
          },
          "metadata": {},
          "execution_count": 88
        }
      ],
      "source": [
        "# For properties dataframe\n",
        "properties.isnull().sum()"
      ]
    },
    {
      "cell_type": "code",
      "execution_count": null,
      "metadata": {
        "id": "qe18zzO7sfyU"
      },
      "outputs": [],
      "source": []
    }
  ],
  "metadata": {
    "kernelspec": {
      "display_name": "Python 3",
      "language": "python",
      "name": "python3"
    },
    "language_info": {
      "codemirror_mode": {
        "name": "ipython",
        "version": 3
      },
      "file_extension": ".py",
      "mimetype": "text/x-python",
      "name": "python",
      "nbconvert_exporter": "python",
      "pygments_lexer": "ipython3",
      "version": "3.10.10"
    },
    "colab": {
      "provenance": []
    }
  },
  "nbformat": 4,
  "nbformat_minor": 0
}